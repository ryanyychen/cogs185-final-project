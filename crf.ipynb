{
 "cells": [
  {
   "cell_type": "code",
   "execution_count": 1,
   "id": "61bcef0e",
   "metadata": {},
   "outputs": [],
   "source": [
    "import warnings; warnings.simplefilter('ignore')\n",
    "\n",
    "import re\n",
    "import string\n",
    "import timeit\n",
    "import pickle\n",
    "import random\n",
    "import numpy as np\n",
    "from itertools import product\n",
    "import matplotlib.pyplot as plt\n",
    "from collections import defaultdict\n",
    "\n",
    "from sklearn_crfsuite import CRF\n",
    "from sklearn.metrics import accuracy_score\n",
    "\n",
    "%matplotlib inline"
   ]
  },
  {
   "cell_type": "code",
   "execution_count": 2,
   "id": "b79f46d4",
   "metadata": {},
   "outputs": [],
   "source": [
    "# Number of examples\n",
    "N = 5000\n",
    "# Length of a feature\n",
    "d = 128"
   ]
  },
  {
   "cell_type": "code",
   "execution_count": 3,
   "id": "e99988e8",
   "metadata": {},
   "outputs": [],
   "source": [
    "def l2i(a):\n",
    "        return int(ord(a)-ord('a'))\n",
    "def i2l(i):\n",
    "    if i >= 0:\n",
    "        return chr(i+ord('a'))\n",
    "    else:\n",
    "        return '_'\n",
    "def iors(s):\n",
    "    try:\n",
    "        return int(s)\n",
    "    except ValueError: # if it is a string, return a string\n",
    "        return s"
   ]
  },
  {
   "cell_type": "code",
   "execution_count": 4,
   "id": "3600c54a",
   "metadata": {},
   "outputs": [],
   "source": [
    "def read_OCR(filename, n_features):\n",
    "    F = open(filename)\n",
    "    dataset = {}\n",
    "    dataset['ids'] = []#np.zeros(n_examples, dtype=int)\n",
    "    dataset['labels'] = []#np.zeros(n_examples,dtype=int)\n",
    "    dataset['labelDic'] = {} # To profile the distribution of labels\n",
    "    dataset['next_ids'] = []#np.zeros(n_examples,dtype=int)\n",
    "    dataset['word_ids'] = []#np.zeros(n_examples,dtype=int)\n",
    "    dataset['positions'] = []#np.zeros(n_examples,dtype=int)\n",
    "    dataset['folds'] = []#np.zeros(n_examples,dtype=int)\n",
    "    dataset['features'] = []#np.zeros([n_examples,n_features])\n",
    "    \n",
    "    for str_line in F.readlines():\n",
    "        #line0 = map(iors, filter(None, re.split('\\t', str_line.strip())))\n",
    "        ## ATTENTION: If you are using Python3, use the following line instead\n",
    "        line0 = list(map(iors, filter(None, re.split('\\t', str_line.strip()))))\n",
    "\n",
    "\n",
    "        dataset['ids'].append(int(line0.pop(0)))\n",
    "        dataset['labels'].append(l2i(line0.pop(0))) # The label is converted into integer('a'=>0, 'z'=>25)\n",
    "        if dataset['labels'][-1] in dataset['labelDic']:\n",
    "            dataset['labelDic'][dataset['labels'][-1]] += 1\n",
    "        else:\n",
    "            dataset['labelDic'][dataset['labels'][-1]] = 1\n",
    "            \n",
    "        dataset['next_ids'].append(int(line0.pop(0)))\n",
    "        dataset['word_ids'].append(int(line0.pop(0)))\n",
    "        dataset['positions'].append(int(line0.pop(0)))\n",
    "        dataset['folds'].append(int(line0.pop(0)))\n",
    "        if len(line0) != 128:  # Sanity check of the length\n",
    "            print (len(line0))\n",
    "        dataset['features'].append(line0)\n",
    "\n",
    "    return dataset"
   ]
  },
  {
   "cell_type": "code",
   "execution_count": 5,
   "id": "3e5d4fa5",
   "metadata": {},
   "outputs": [],
   "source": [
    "def format(dataset, N, L):\n",
    "    # Group by words\n",
    "    words = defaultdict(lambda: {'features': [], 'labels': []})\n",
    "    for i in range(len(dataset['features'])):\n",
    "        word_id = dataset['word_ids'][i]\n",
    "        feats = dataset['features'][i]\n",
    "        label = dataset['labels'][i]\n",
    "        words[word_id]['features'].append(feats)\n",
    "        words[word_id]['labels'].append(label)\n",
    "    \n",
    "    all_X = []\n",
    "    all_y = []\n",
    "    all_id = []\n",
    "\n",
    "    # Flatten into list of full-word sequences\n",
    "    for word_id in words.keys():\n",
    "        word = words[word_id]\n",
    "        word_feats = word['features']\n",
    "        word_labels = word['labels']\n",
    "        n = len(word_feats)\n",
    "\n",
    "        if n < L:\n",
    "            continue\n",
    "\n",
    "        feats_seq = []\n",
    "\n",
    "        for i in range(n):\n",
    "            feat_dict = {}\n",
    "            for offset in range(-(L // 2), L // 2 + 1):\n",
    "                pos = i + offset\n",
    "                if 0 <= pos < n:\n",
    "                    prefix = f\"{offset:+}\"\n",
    "                    for j, val in enumerate(word_feats[pos]):\n",
    "                        feat_dict[f\"{prefix}_{j}\"] = val\n",
    "            feats_seq.append(feat_dict)\n",
    "        \n",
    "        all_X.append(feats_seq)\n",
    "        all_y.append(word_labels)\n",
    "        all_id.append(word_id)\n",
    "\n",
    "    # Randomly sample N sequences\n",
    "    combined = list(zip(all_X, all_y, all_id))\n",
    "    random.shuffle(combined)\n",
    "    combined = combined[:N]\n",
    "    X, y, ids = zip(*combined)\n",
    "\n",
    "    return list(X), list(y), list(ids)"
   ]
  },
  {
   "cell_type": "code",
   "execution_count": 6,
   "id": "3fc74476",
   "metadata": {},
   "outputs": [],
   "source": [
    "def showFeatures(features, true_labels, predicted_labels, num=20):\n",
    "    \"\"\"\n",
    "    Display the first `num` character images along with their\n",
    "    true and predicted labels.\n",
    "\n",
    "    Args:\n",
    "        features (list): list of 128-D feature vectors\n",
    "        true_labels (list of int): ground truth labels\n",
    "        predicted_labels (list of int): predicted labels\n",
    "        num (int): number of images to display\n",
    "    \"\"\"\n",
    "    plt.figure(figsize=(num, 4))\n",
    "\n",
    "    for i in range(num):\n",
    "        npfeature = np.array(features[i])\n",
    "        image = npfeature.reshape(16, 8)\n",
    "\n",
    "        true_char = true_labels[i]\n",
    "        pred_char = predicted_labels[i]\n",
    "\n",
    "        plt.subplot(1, num, i + 1)\n",
    "        plt.imshow(image, cmap='gray')\n",
    "        plt.title(f\"T:{true_char}\\nP:{pred_char}\", fontsize=8)\n",
    "        plt.axis('off')\n",
    "\n",
    "    plt.suptitle(\"Character Predictions — T: Truth, P: Predicted\", fontsize=12)\n",
    "    plt.tight_layout()\n",
    "    plt.show()"
   ]
  },
  {
   "cell_type": "code",
   "execution_count": 7,
   "id": "9f4a768f",
   "metadata": {},
   "outputs": [],
   "source": [
    "dataset = read_OCR('OCRdataset/letter.data', d)"
   ]
  },
  {
   "cell_type": "code",
   "execution_count": 8,
   "id": "43426869",
   "metadata": {},
   "outputs": [],
   "source": [
    "wordid_to_indices = defaultdict(list)\n",
    "for idx, wid in enumerate(dataset['word_ids']):\n",
    "    wordid_to_indices[wid].append(idx)"
   ]
  },
  {
   "cell_type": "markdown",
   "id": "49cd0b97",
   "metadata": {},
   "source": [
    "## L = 1"
   ]
  },
  {
   "cell_type": "code",
   "execution_count": 9,
   "id": "bfd36d35",
   "metadata": {},
   "outputs": [],
   "source": [
    "L = 1"
   ]
  },
  {
   "cell_type": "markdown",
   "id": "eeea68c2",
   "metadata": {},
   "source": [
    "### 4000/1000"
   ]
  },
  {
   "cell_type": "code",
   "execution_count": 10,
   "id": "084202a0",
   "metadata": {},
   "outputs": [],
   "source": [
    "features, labels, ids = format(dataset, N, L)\n",
    "TRAIN = 0.8\n",
    "model_path = 'crf1_82.obj'"
   ]
  },
  {
   "cell_type": "code",
   "execution_count": 11,
   "id": "121fee21",
   "metadata": {},
   "outputs": [],
   "source": [
    "X_train, X_test = features[:int(N * TRAIN)], features[int(N * TRAIN):]\n",
    "y_train, y_test = labels[:int(N * TRAIN)], labels[int(N * TRAIN):]\n",
    "id_train, id_test = ids[:int(N * TRAIN)], ids[int(N * TRAIN):]\n",
    "\n",
    "y_train = [[i2l(label) for label in seq] for seq in y_train]\n",
    "y_test = [[i2l(label) for label in seq] for seq in y_test]"
   ]
  },
  {
   "cell_type": "code",
   "execution_count": 12,
   "id": "825bc498",
   "metadata": {},
   "outputs": [
    {
     "name": "stdout",
     "output_type": "stream",
     "text": [
      "Training time elapsed: 22.77 s\n"
     ]
    }
   ],
   "source": [
    "crf = CRF(\n",
    "    algorithm='lbfgs',\n",
    "    max_iterations=100,\n",
    "    all_possible_transitions=True,\n",
    ")\n",
    "\n",
    "start_train = timeit.default_timer()\n",
    "crf.fit(X_train, y_train)\n",
    "end_train = timeit.default_timer()\n",
    "print(f\"Training time elapsed: {end_train - start_train:.2f} s\")\n",
    "\n",
    "with open(model_path, 'wb') as f:\n",
    "    pickle.dump(crf, f)"
   ]
  },
  {
   "cell_type": "code",
   "execution_count": 13,
   "id": "2e9846a9",
   "metadata": {},
   "outputs": [
    {
     "name": "stdout",
     "output_type": "stream",
     "text": [
      "Training accuracy: 0.8749\n",
      "Testing time elapsed: 0.18 s\n",
      "Testing accuracy: 0.8500\n",
      "Full word accuracy: 0.4990\n"
     ]
    },
    {
     "data": {
      "image/png": "[encoded data removed]",
      "text/plain": [
       "<Figure size 2000x400 with 20 Axes>"
      ]
     },
     "metadata": {},
     "output_type": "display_data"
    }
   ],
   "source": [
    "with open(model_path, 'rb') as f:\n",
    "    crf = pickle.load(f)\n",
    "\n",
    "# Training Accuracy\n",
    "y_train_pred = crf.predict(X_train)\n",
    "y_train_true_flat = [label for seq in y_train for label in seq]\n",
    "y_train_pred_flat = [label for seq in y_train_pred for label in seq]\n",
    "\n",
    "train_acc = accuracy_score(y_train_true_flat, y_train_pred_flat)\n",
    "print(f\"Training accuracy: {train_acc:.4f}\")\n",
    "\n",
    "# Testing Accuracy\n",
    "start_test = timeit.default_timer()\n",
    "y_pred = crf.predict(X_test)\n",
    "end_test = timeit.default_timer()\n",
    "print(f\"Testing time elapsed: {end_test - start_test:.2f} s\")\n",
    "\n",
    "y_test_true_flat = [label for seq in y_test for label in seq]\n",
    "y_test_pred_flat = [label for seq in y_pred for label in seq]\n",
    "\n",
    "test_acc = accuracy_score(y_test_true_flat, y_test_pred_flat)\n",
    "print(f\"Testing accuracy: {test_acc:.4f}\")\n",
    "\n",
    "# Full word accuracy\n",
    "correct = sum(yt == yp for yt, yp in zip(y_test, y_pred))\n",
    "word_accuracy = correct / len(y_test)\n",
    "print(f\"Full word accuracy: {word_accuracy:.4f}\")\n",
    "\n",
    "features_flat = []\n",
    "for wid in id_test:\n",
    "    char_indices = wordid_to_indices[wid]\n",
    "    for idx in char_indices:\n",
    "        features_flat.append(dataset['features'][idx])\n",
    "showFeatures(features_flat, y_test_true_flat, y_test_pred_flat, num=20)"
   ]
  },
  {
   "cell_type": "markdown",
   "id": "8826c77e",
   "metadata": {},
   "source": [
    "### 2500/2500"
   ]
  },
  {
   "cell_type": "code",
   "execution_count": 14,
   "id": "2bdaa2fb",
   "metadata": {},
   "outputs": [],
   "source": [
    "features, labels, ids = format(dataset, N, L)\n",
    "TRAIN = 0.5\n",
    "model_path = 'crf1_55.obj'"
   ]
  },
  {
   "cell_type": "code",
   "execution_count": 15,
   "id": "2c17223d",
   "metadata": {},
   "outputs": [],
   "source": [
    "X_train, X_test = features[:int(N * TRAIN)], features[int(N * TRAIN):]\n",
    "y_train, y_test = labels[:int(N * TRAIN)], labels[int(N * TRAIN):]\n",
    "id_train, id_test = ids[:int(N * TRAIN)], ids[int(N * TRAIN):]\n",
    "\n",
    "y_train = [[i2l(label) for label in seq] for seq in y_train]\n",
    "y_test = [[i2l(label) for label in seq] for seq in y_test]"
   ]
  },
  {
   "cell_type": "code",
   "execution_count": 16,
   "id": "b160e04f",
   "metadata": {},
   "outputs": [
    {
     "name": "stdout",
     "output_type": "stream",
     "text": [
      "Training time elapsed: 15.56 s\n"
     ]
    }
   ],
   "source": [
    "crf = CRF(\n",
    "    algorithm='lbfgs',\n",
    "    max_iterations=100,\n",
    "    all_possible_transitions=True,\n",
    ")\n",
    "\n",
    "start_train = timeit.default_timer()\n",
    "crf.fit(X_train, y_train)\n",
    "end_train = timeit.default_timer()\n",
    "print(f\"Training time elapsed: {end_train - start_train:.2f} s\")\n",
    "\n",
    "with open(model_path, 'wb') as f:\n",
    "    pickle.dump(crf, f)"
   ]
  },
  {
   "cell_type": "code",
   "execution_count": 17,
   "id": "4c066f7d",
   "metadata": {},
   "outputs": [
    {
     "name": "stdout",
     "output_type": "stream",
     "text": [
      "Training accuracy: 0.8863\n",
      "Testing time elapsed: 0.49 s\n",
      "Testing accuracy: 0.8293\n",
      "Full word accuracy: 0.4504\n"
     ]
    },
    {
     "data": {
      "image/png": "[encoded data removed]",
      "text/plain": [
       "<Figure size 2000x400 with 20 Axes>"
      ]
     },
     "metadata": {},
     "output_type": "display_data"
    }
   ],
   "source": [
    "with open(model_path, 'rb') as f:\n",
    "    crf = pickle.load(f)\n",
    "\n",
    "# Training Accuracy\n",
    "y_train_pred = crf.predict(X_train)\n",
    "y_train_true_flat = [label for seq in y_train for label in seq]\n",
    "y_train_pred_flat = [label for seq in y_train_pred for label in seq]\n",
    "\n",
    "train_acc = accuracy_score(y_train_true_flat, y_train_pred_flat)\n",
    "print(f\"Training accuracy: {train_acc:.4f}\")\n",
    "\n",
    "# Testing Accuracy\n",
    "start_test = timeit.default_timer()\n",
    "y_pred = crf.predict(X_test)\n",
    "end_test = timeit.default_timer()\n",
    "print(f\"Testing time elapsed: {end_test - start_test:.2f} s\")\n",
    "\n",
    "y_test_true_flat = [label for seq in y_test for label in seq]\n",
    "y_test_pred_flat = [label for seq in y_pred for label in seq]\n",
    "\n",
    "test_acc = accuracy_score(y_test_true_flat, y_test_pred_flat)\n",
    "print(f\"Testing accuracy: {test_acc:.4f}\")\n",
    "\n",
    "# Full word accuracy\n",
    "correct = sum(yt == yp for yt, yp in zip(y_test, y_pred))\n",
    "word_accuracy = correct / len(y_test)\n",
    "print(f\"Full word accuracy: {word_accuracy:.4f}\")\n",
    "\n",
    "features_flat = []\n",
    "for wid in id_test:\n",
    "    char_indices = wordid_to_indices[wid]\n",
    "    for idx in char_indices:\n",
    "        features_flat.append(dataset['features'][idx])\n",
    "showFeatures(features_flat, y_test_true_flat, y_test_pred_flat, num=20)"
   ]
  },
  {
   "cell_type": "markdown",
   "id": "c8e85ffb",
   "metadata": {},
   "source": [
    "### 1000/4000"
   ]
  },
  {
   "cell_type": "code",
   "execution_count": 18,
   "id": "7af3e02b",
   "metadata": {},
   "outputs": [],
   "source": [
    "features, labels, ids = format(dataset, N, L)\n",
    "TRAIN = 0.2\n",
    "model_path = 'crf1_28.obj'"
   ]
  },
  {
   "cell_type": "code",
   "execution_count": 19,
   "id": "89ef0f53",
   "metadata": {},
   "outputs": [],
   "source": [
    "X_train, X_test = features[:int(N * TRAIN)], features[int(N * TRAIN):]\n",
    "y_train, y_test = labels[:int(N * TRAIN)], labels[int(N * TRAIN):]\n",
    "id_train, id_test = ids[:int(N * TRAIN)], ids[int(N * TRAIN):]\n",
    "\n",
    "y_train = [[i2l(label) for label in seq] for seq in y_train]\n",
    "y_test = [[i2l(label) for label in seq] for seq in y_test]"
   ]
  },
  {
   "cell_type": "code",
   "execution_count": 20,
   "id": "4c2d376f",
   "metadata": {},
   "outputs": [
    {
     "name": "stdout",
     "output_type": "stream",
     "text": [
      "Training time elapsed: 6.24 s\n"
     ]
    }
   ],
   "source": [
    "crf = CRF(\n",
    "    algorithm='lbfgs',\n",
    "    max_iterations=100,\n",
    "    all_possible_transitions=True,\n",
    ")\n",
    "\n",
    "start_train = timeit.default_timer()\n",
    "crf.fit(X_train, y_train)\n",
    "end_train = timeit.default_timer()\n",
    "print(f\"Training time elapsed: {end_train - start_train:.2f} s\")\n",
    "\n",
    "with open(model_path, 'wb') as f:\n",
    "    pickle.dump(crf, f)"
   ]
  },
  {
   "cell_type": "code",
   "execution_count": 21,
   "id": "8104ca55",
   "metadata": {},
   "outputs": [
    {
     "name": "stdout",
     "output_type": "stream",
     "text": [
      "Training accuracy: 0.8972\n",
      "Testing time elapsed: 0.80 s\n",
      "Testing accuracy: 0.8042\n",
      "Full word accuracy: 0.4015\n"
     ]
    },
    {
     "data": {
      "image/png": "[encoded data removed]",
      "text/plain": [
       "<Figure size 2000x400 with 20 Axes>"
      ]
     },
     "metadata": {},
     "output_type": "display_data"
    }
   ],
   "source": [
    "with open(model_path, 'rb') as f:\n",
    "    crf = pickle.load(f)\n",
    "\n",
    "# Training Accuracy\n",
    "y_train_pred = crf.predict(X_train)\n",
    "y_train_true_flat = [label for seq in y_train for label in seq]\n",
    "y_train_pred_flat = [label for seq in y_train_pred for label in seq]\n",
    "\n",
    "train_acc = accuracy_score(y_train_true_flat, y_train_pred_flat)\n",
    "print(f\"Training accuracy: {train_acc:.4f}\")\n",
    "\n",
    "# Testing Accuracy\n",
    "start_test = timeit.default_timer()\n",
    "y_pred = crf.predict(X_test)\n",
    "end_test = timeit.default_timer()\n",
    "print(f\"Testing time elapsed: {end_test - start_test:.2f} s\")\n",
    "\n",
    "y_test_true_flat = [label for seq in y_test for label in seq]\n",
    "y_test_pred_flat = [label for seq in y_pred for label in seq]\n",
    "\n",
    "test_acc = accuracy_score(y_test_true_flat, y_test_pred_flat)\n",
    "print(f\"Testing accuracy: {test_acc:.4f}\")\n",
    "\n",
    "# Full word accuracy\n",
    "correct = sum(yt == yp for yt, yp in zip(y_test, y_pred))\n",
    "word_accuracy = correct / len(y_test)\n",
    "print(f\"Full word accuracy: {word_accuracy:.4f}\")\n",
    "\n",
    "features_flat = []\n",
    "for wid in id_test:\n",
    "    char_indices = wordid_to_indices[wid]\n",
    "    for idx in char_indices:\n",
    "        features_flat.append(dataset['features'][idx])\n",
    "showFeatures(features_flat, y_test_true_flat, y_test_pred_flat, num=20)"
   ]
  },
  {
   "cell_type": "markdown",
   "id": "0bab442f",
   "metadata": {},
   "source": [
    "## L = 2"
   ]
  },
  {
   "cell_type": "code",
   "execution_count": 22,
   "id": "26bbda9c",
   "metadata": {},
   "outputs": [],
   "source": [
    "L = 2"
   ]
  },
  {
   "cell_type": "markdown",
   "id": "6f3578b4",
   "metadata": {},
   "source": [
    "### 4000/1000"
   ]
  },
  {
   "cell_type": "code",
   "execution_count": 23,
   "id": "2ae98ee2",
   "metadata": {},
   "outputs": [],
   "source": [
    "features, labels, ids = format(dataset, N, L)\n",
    "TRAIN = 0.8\n",
    "model_path = 'crf2_82.obj'"
   ]
  },
  {
   "cell_type": "code",
   "execution_count": 24,
   "id": "79b5035b",
   "metadata": {},
   "outputs": [],
   "source": [
    "X_train, X_test = features[:int(N * TRAIN)], features[int(N * TRAIN):]\n",
    "y_train, y_test = labels[:int(N * TRAIN)], labels[int(N * TRAIN):]\n",
    "id_train, id_test = ids[:int(N * TRAIN)], ids[int(N * TRAIN):]\n",
    "\n",
    "y_train = [[i2l(label) for label in seq] for seq in y_train]\n",
    "y_test = [[i2l(label) for label in seq] for seq in y_test]"
   ]
  },
  {
   "cell_type": "code",
   "execution_count": 25,
   "id": "5b4f7fd3",
   "metadata": {},
   "outputs": [
    {
     "name": "stdout",
     "output_type": "stream",
     "text": [
      "Training time elapsed: 57.19 s\n"
     ]
    }
   ],
   "source": [
    "crf = CRF(\n",
    "    algorithm='lbfgs',\n",
    "    max_iterations=100,\n",
    "    all_possible_transitions=True,\n",
    ")\n",
    "\n",
    "start_train = timeit.default_timer()\n",
    "crf.fit(X_train, y_train)\n",
    "end_train = timeit.default_timer()\n",
    "print(f\"Training time elapsed: {end_train - start_train:.2f} s\")\n",
    "\n",
    "with open(model_path, 'wb') as f:\n",
    "    pickle.dump(crf, f)"
   ]
  },
  {
   "cell_type": "code",
   "execution_count": 26,
   "id": "7578af45",
   "metadata": {},
   "outputs": [
    {
     "name": "stdout",
     "output_type": "stream",
     "text": [
      "Training accuracy: 0.9278\n",
      "Testing time elapsed: 0.57 s\n",
      "Testing accuracy: 0.8269\n",
      "Full word accuracy: 0.4590\n"
     ]
    },
    {
     "data": {
      "image/png": "[encoded data removed]",
      "text/plain": [
       "<Figure size 2000x400 with 20 Axes>"
      ]
     },
     "metadata": {},
     "output_type": "display_data"
    }
   ],
   "source": [
    "with open(model_path, 'rb') as f:\n",
    "    crf = pickle.load(f)\n",
    "\n",
    "# Training Accuracy\n",
    "y_train_pred = crf.predict(X_train)\n",
    "y_train_true_flat = [label for seq in y_train for label in seq]\n",
    "y_train_pred_flat = [label for seq in y_train_pred for label in seq]\n",
    "\n",
    "train_acc = accuracy_score(y_train_true_flat, y_train_pred_flat)\n",
    "print(f\"Training accuracy: {train_acc:.4f}\")\n",
    "\n",
    "# Testing Accuracy\n",
    "start_test = timeit.default_timer()\n",
    "y_pred = crf.predict(X_test)\n",
    "end_test = timeit.default_timer()\n",
    "print(f\"Testing time elapsed: {end_test - start_test:.2f} s\")\n",
    "\n",
    "y_test_true_flat = [label for seq in y_test for label in seq]\n",
    "y_test_pred_flat = [label for seq in y_pred for label in seq]\n",
    "\n",
    "test_acc = accuracy_score(y_test_true_flat, y_test_pred_flat)\n",
    "print(f\"Testing accuracy: {test_acc:.4f}\")\n",
    "\n",
    "# Full word accuracy\n",
    "correct = sum(yt == yp for yt, yp in zip(y_test, y_pred))\n",
    "word_accuracy = correct / len(y_test)\n",
    "print(f\"Full word accuracy: {word_accuracy:.4f}\")\n",
    "\n",
    "features_flat = []\n",
    "for wid in id_test:\n",
    "    char_indices = wordid_to_indices[wid]\n",
    "    for idx in char_indices:\n",
    "        features_flat.append(dataset['features'][idx])\n",
    "showFeatures(features_flat, y_test_true_flat, y_test_pred_flat, num=20)"
   ]
  },
  {
   "cell_type": "markdown",
   "id": "c3232de0",
   "metadata": {},
   "source": [
    "### 2500/2500"
   ]
  },
  {
   "cell_type": "code",
   "execution_count": 27,
   "id": "8442085e",
   "metadata": {},
   "outputs": [],
   "source": [
    "features, labels, ids = format(dataset, N, L)\n",
    "TRAIN = 0.5\n",
    "model_path = 'crf2_55.obj'"
   ]
  },
  {
   "cell_type": "code",
   "execution_count": 28,
   "id": "96d8eff1",
   "metadata": {},
   "outputs": [],
   "source": [
    "X_train, X_test = features[:int(N * TRAIN)], features[int(N * TRAIN):]\n",
    "y_train, y_test = labels[:int(N * TRAIN)], labels[int(N * TRAIN):]\n",
    "id_train, id_test = ids[:int(N * TRAIN)], ids[int(N * TRAIN):]\n",
    "\n",
    "y_train = [[i2l(label) for label in seq] for seq in y_train]\n",
    "y_test = [[i2l(label) for label in seq] for seq in y_test]"
   ]
  },
  {
   "cell_type": "code",
   "execution_count": 29,
   "id": "5f5791ef",
   "metadata": {},
   "outputs": [
    {
     "name": "stdout",
     "output_type": "stream",
     "text": [
      "Training time elapsed: 34.64 s\n"
     ]
    }
   ],
   "source": [
    "crf = CRF(\n",
    "    algorithm='lbfgs',\n",
    "    max_iterations=100,\n",
    "    all_possible_transitions=True,\n",
    ")\n",
    "\n",
    "start_train = timeit.default_timer()\n",
    "crf.fit(X_train, y_train)\n",
    "end_train = timeit.default_timer()\n",
    "print(f\"Training time elapsed: {end_train - start_train:.2f} s\")\n",
    "\n",
    "with open(model_path, 'wb') as f:\n",
    "    pickle.dump(crf, f)"
   ]
  },
  {
   "cell_type": "code",
   "execution_count": 30,
   "id": "daafacc2",
   "metadata": {},
   "outputs": [
    {
     "name": "stdout",
     "output_type": "stream",
     "text": [
      "Training accuracy: 0.9468\n",
      "Testing time elapsed: 1.41 s\n",
      "Testing accuracy: 0.8050\n",
      "Full word accuracy: 0.4048\n"
     ]
    },
    {
     "data": {
      "image/png": "[encoded data removed]",
      "text/plain": [
       "<Figure size 2000x400 with 20 Axes>"
      ]
     },
     "metadata": {},
     "output_type": "display_data"
    }
   ],
   "source": [
    "with open(model_path, 'rb') as f:\n",
    "    crf = pickle.load(f)\n",
    "\n",
    "# Training Accuracy\n",
    "y_train_pred = crf.predict(X_train)\n",
    "y_train_true_flat = [label for seq in y_train for label in seq]\n",
    "y_train_pred_flat = [label for seq in y_train_pred for label in seq]\n",
    "\n",
    "train_acc = accuracy_score(y_train_true_flat, y_train_pred_flat)\n",
    "print(f\"Training accuracy: {train_acc:.4f}\")\n",
    "\n",
    "# Testing Accuracy\n",
    "start_test = timeit.default_timer()\n",
    "y_pred = crf.predict(X_test)\n",
    "end_test = timeit.default_timer()\n",
    "print(f\"Testing time elapsed: {end_test - start_test:.2f} s\")\n",
    "\n",
    "y_test_true_flat = [label for seq in y_test for label in seq]\n",
    "y_test_pred_flat = [label for seq in y_pred for label in seq]\n",
    "\n",
    "test_acc = accuracy_score(y_test_true_flat, y_test_pred_flat)\n",
    "print(f\"Testing accuracy: {test_acc:.4f}\")\n",
    "\n",
    "# Full word accuracy\n",
    "correct = sum(yt == yp for yt, yp in zip(y_test, y_pred))\n",
    "word_accuracy = correct / len(y_test)\n",
    "print(f\"Full word accuracy: {word_accuracy:.4f}\")\n",
    "\n",
    "features_flat = []\n",
    "for wid in id_test:\n",
    "    char_indices = wordid_to_indices[wid]\n",
    "    for idx in char_indices:\n",
    "        features_flat.append(dataset['features'][idx])\n",
    "showFeatures(features_flat, y_test_true_flat, y_test_pred_flat, num=20)"
   ]
  },
  {
   "cell_type": "markdown",
   "id": "f4395fd8",
   "metadata": {},
   "source": [
    "### 1000/4000"
   ]
  },
  {
   "cell_type": "code",
   "execution_count": 31,
   "id": "6b60ca5b",
   "metadata": {},
   "outputs": [],
   "source": [
    "features, labels, ids = format(dataset, N, L)\n",
    "TRAIN = 0.2\n",
    "model_path = 'crf2_28.obj'"
   ]
  },
  {
   "cell_type": "code",
   "execution_count": 32,
   "id": "729896b5",
   "metadata": {},
   "outputs": [],
   "source": [
    "X_train, X_test = features[:int(N * TRAIN)], features[int(N * TRAIN):]\n",
    "y_train, y_test = labels[:int(N * TRAIN)], labels[int(N * TRAIN):]\n",
    "id_train, id_test = ids[:int(N * TRAIN)], ids[int(N * TRAIN):]\n",
    "\n",
    "y_train = [[i2l(label) for label in seq] for seq in y_train]\n",
    "y_test = [[i2l(label) for label in seq] for seq in y_test]"
   ]
  },
  {
   "cell_type": "code",
   "execution_count": 33,
   "id": "f8b3b3eb",
   "metadata": {},
   "outputs": [
    {
     "name": "stdout",
     "output_type": "stream",
     "text": [
      "Training time elapsed: 14.51 s\n"
     ]
    }
   ],
   "source": [
    "crf = CRF(\n",
    "    algorithm='lbfgs',\n",
    "    max_iterations=100,\n",
    "    all_possible_transitions=True,\n",
    ")\n",
    "\n",
    "start_train = timeit.default_timer()\n",
    "crf.fit(X_train, y_train)\n",
    "end_train = timeit.default_timer()\n",
    "print(f\"Training time elapsed: {end_train - start_train:.2f} s\")\n",
    "\n",
    "with open(model_path, 'wb') as f:\n",
    "    pickle.dump(crf, f)"
   ]
  },
  {
   "cell_type": "code",
   "execution_count": 34,
   "id": "47cf80c4",
   "metadata": {},
   "outputs": [
    {
     "name": "stdout",
     "output_type": "stream",
     "text": [
      "Training accuracy: 0.9797\n",
      "Testing time elapsed: 2.13 s\n",
      "Testing accuracy: 0.7685\n",
      "Full word accuracy: 0.3247\n"
     ]
    },
    {
     "data": {
      "image/png": "[encoded data removed]",
      "text/plain": [
       "<Figure size 2000x400 with 20 Axes>"
      ]
     },
     "metadata": {},
     "output_type": "display_data"
    }
   ],
   "source": [
    "with open(model_path, 'rb') as f:\n",
    "    crf = pickle.load(f)\n",
    "\n",
    "# Training Accuracy\n",
    "y_train_pred = crf.predict(X_train)\n",
    "y_train_true_flat = [label for seq in y_train for label in seq]\n",
    "y_train_pred_flat = [label for seq in y_train_pred for label in seq]\n",
    "\n",
    "train_acc = accuracy_score(y_train_true_flat, y_train_pred_flat)\n",
    "print(f\"Training accuracy: {train_acc:.4f}\")\n",
    "\n",
    "# Testing Accuracy\n",
    "start_test = timeit.default_timer()\n",
    "y_pred = crf.predict(X_test)\n",
    "end_test = timeit.default_timer()\n",
    "print(f\"Testing time elapsed: {end_test - start_test:.2f} s\")\n",
    "\n",
    "y_test_true_flat = [label for seq in y_test for label in seq]\n",
    "y_test_pred_flat = [label for seq in y_pred for label in seq]\n",
    "\n",
    "test_acc = accuracy_score(y_test_true_flat, y_test_pred_flat)\n",
    "print(f\"Testing accuracy: {test_acc:.4f}\")\n",
    "\n",
    "# Full word accuracy\n",
    "correct = sum(yt == yp for yt, yp in zip(y_test, y_pred))\n",
    "word_accuracy = correct / len(y_test)\n",
    "print(f\"Full word accuracy: {word_accuracy:.4f}\")\n",
    "\n",
    "features_flat = []\n",
    "for wid in id_test:\n",
    "    char_indices = wordid_to_indices[wid]\n",
    "    for idx in char_indices:\n",
    "        features_flat.append(dataset['features'][idx])\n",
    "showFeatures(features_flat, y_test_true_flat, y_test_pred_flat, num=20)"
   ]
  },
  {
   "cell_type": "markdown",
   "id": "841b0eef",
   "metadata": {},
   "source": [
    "## L = 3"
   ]
  },
  {
   "cell_type": "code",
   "execution_count": 35,
   "id": "7d71bc66",
   "metadata": {},
   "outputs": [],
   "source": [
    "L = 3"
   ]
  },
  {
   "cell_type": "markdown",
   "id": "3f1e282b",
   "metadata": {},
   "source": [
    "### 4000/1000"
   ]
  },
  {
   "cell_type": "code",
   "execution_count": 36,
   "id": "35b4549f",
   "metadata": {},
   "outputs": [],
   "source": [
    "features, labels, ids = format(dataset, N, L)\n",
    "TRAIN = 0.8\n",
    "model_path = 'crf3_82.obj'"
   ]
  },
  {
   "cell_type": "code",
   "execution_count": 37,
   "id": "d77865c1",
   "metadata": {},
   "outputs": [],
   "source": [
    "X_train, X_test = features[:int(N * TRAIN)], features[int(N * TRAIN):]\n",
    "y_train, y_test = labels[:int(N * TRAIN)], labels[int(N * TRAIN):]\n",
    "id_train, id_test = ids[:int(N * TRAIN)], ids[int(N * TRAIN):]\n",
    "\n",
    "y_train = [[i2l(label) for label in seq] for seq in y_train]\n",
    "y_test = [[i2l(label) for label in seq] for seq in y_test]"
   ]
  },
  {
   "cell_type": "code",
   "execution_count": 38,
   "id": "dc62c439",
   "metadata": {},
   "outputs": [
    {
     "name": "stdout",
     "output_type": "stream",
     "text": [
      "Training time elapsed: 57.36 s\n"
     ]
    }
   ],
   "source": [
    "crf = CRF(\n",
    "    algorithm='lbfgs',\n",
    "    max_iterations=100,\n",
    "    all_possible_transitions=True,\n",
    ")\n",
    "\n",
    "start_train = timeit.default_timer()\n",
    "crf.fit(X_train, y_train)\n",
    "end_train = timeit.default_timer()\n",
    "print(f\"Training time elapsed: {end_train - start_train:.2f} s\")\n",
    "\n",
    "with open(model_path, 'wb') as f:\n",
    "    pickle.dump(crf, f)"
   ]
  },
  {
   "cell_type": "code",
   "execution_count": 39,
   "id": "3b11897d",
   "metadata": {},
   "outputs": [
    {
     "name": "stdout",
     "output_type": "stream",
     "text": [
      "Training accuracy: 0.9245\n",
      "Testing time elapsed: 0.58 s\n",
      "Testing accuracy: 0.8285\n",
      "Full word accuracy: 0.4550\n"
     ]
    },
    {
     "data": {
      "image/png": "[encoded data removed]",
      "text/plain": [
       "<Figure size 2000x400 with 20 Axes>"
      ]
     },
     "metadata": {},
     "output_type": "display_data"
    }
   ],
   "source": [
    "with open(model_path, 'rb') as f:\n",
    "    crf = pickle.load(f)\n",
    "\n",
    "# Training Accuracy\n",
    "y_train_pred = crf.predict(X_train)\n",
    "y_train_true_flat = [label for seq in y_train for label in seq]\n",
    "y_train_pred_flat = [label for seq in y_train_pred for label in seq]\n",
    "\n",
    "train_acc = accuracy_score(y_train_true_flat, y_train_pred_flat)\n",
    "print(f\"Training accuracy: {train_acc:.4f}\")\n",
    "\n",
    "# Testing Accuracy\n",
    "start_test = timeit.default_timer()\n",
    "y_pred = crf.predict(X_test)\n",
    "end_test = timeit.default_timer()\n",
    "print(f\"Testing time elapsed: {end_test - start_test:.2f} s\")\n",
    "\n",
    "y_test_true_flat = [label for seq in y_test for label in seq]\n",
    "y_test_pred_flat = [label for seq in y_pred for label in seq]\n",
    "\n",
    "test_acc = accuracy_score(y_test_true_flat, y_test_pred_flat)\n",
    "print(f\"Testing accuracy: {test_acc:.4f}\")\n",
    "\n",
    "# Full word accuracy\n",
    "correct = sum(yt == yp for yt, yp in zip(y_test, y_pred))\n",
    "word_accuracy = correct / len(y_test)\n",
    "print(f\"Full word accuracy: {word_accuracy:.4f}\")\n",
    "\n",
    "features_flat = []\n",
    "for wid in id_test:\n",
    "    char_indices = wordid_to_indices[wid]\n",
    "    for idx in char_indices:\n",
    "        features_flat.append(dataset['features'][idx])\n",
    "showFeatures(features_flat, y_test_true_flat, y_test_pred_flat, num=20)"
   ]
  },
  {
   "cell_type": "markdown",
   "id": "5bfeb084",
   "metadata": {},
   "source": [
    "### 2500/2500"
   ]
  },
  {
   "cell_type": "code",
   "execution_count": 40,
   "id": "f1487ab5",
   "metadata": {},
   "outputs": [],
   "source": [
    "features, labels, ids = format(dataset, N, L)\n",
    "TRAIN = 0.5\n",
    "model_path = 'crf3_55.obj'"
   ]
  },
  {
   "cell_type": "code",
   "execution_count": 41,
   "id": "96ff3f4c",
   "metadata": {},
   "outputs": [],
   "source": [
    "X_train, X_test = features[:int(N * TRAIN)], features[int(N * TRAIN):]\n",
    "y_train, y_test = labels[:int(N * TRAIN)], labels[int(N * TRAIN):]\n",
    "id_train, id_test = ids[:int(N * TRAIN)], ids[int(N * TRAIN):]\n",
    "\n",
    "y_train = [[i2l(label) for label in seq] for seq in y_train]\n",
    "y_test = [[i2l(label) for label in seq] for seq in y_test]"
   ]
  },
  {
   "cell_type": "code",
   "execution_count": 42,
   "id": "9beaaa8c",
   "metadata": {},
   "outputs": [
    {
     "name": "stdout",
     "output_type": "stream",
     "text": [
      "Training time elapsed: 35.21 s\n"
     ]
    }
   ],
   "source": [
    "crf = CRF(\n",
    "    algorithm='lbfgs',\n",
    "    max_iterations=100,\n",
    "    all_possible_transitions=True,\n",
    ")\n",
    "\n",
    "start_train = timeit.default_timer()\n",
    "crf.fit(X_train, y_train)\n",
    "end_train = timeit.default_timer()\n",
    "print(f\"Training time elapsed: {end_train - start_train:.2f} s\")\n",
    "\n",
    "with open(model_path, 'wb') as f:\n",
    "    pickle.dump(crf, f)"
   ]
  },
  {
   "cell_type": "code",
   "execution_count": 43,
   "id": "b62f7796",
   "metadata": {},
   "outputs": [
    {
     "name": "stdout",
     "output_type": "stream",
     "text": [
      "Training accuracy: 0.9468\n",
      "Testing time elapsed: 1.57 s\n",
      "Testing accuracy: 0.8141\n",
      "Full word accuracy: 0.4164\n"
     ]
    },
    {
     "data": {
      "image/png": "[encoded data removed]",
      "text/plain": [
       "<Figure size 2000x400 with 20 Axes>"
      ]
     },
     "metadata": {},
     "output_type": "display_data"
    }
   ],
   "source": [
    "with open(model_path, 'rb') as f:\n",
    "    crf = pickle.load(f)\n",
    "\n",
    "# Training Accuracy\n",
    "y_train_pred = crf.predict(X_train)\n",
    "y_train_true_flat = [label for seq in y_train for label in seq]\n",
    "y_train_pred_flat = [label for seq in y_train_pred for label in seq]\n",
    "\n",
    "train_acc = accuracy_score(y_train_true_flat, y_train_pred_flat)\n",
    "print(f\"Training accuracy: {train_acc:.4f}\")\n",
    "\n",
    "# Testing Accuracy\n",
    "start_test = timeit.default_timer()\n",
    "y_pred = crf.predict(X_test)\n",
    "end_test = timeit.default_timer()\n",
    "print(f\"Testing time elapsed: {end_test - start_test:.2f} s\")\n",
    "\n",
    "y_test_true_flat = [label for seq in y_test for label in seq]\n",
    "y_test_pred_flat = [label for seq in y_pred for label in seq]\n",
    "\n",
    "test_acc = accuracy_score(y_test_true_flat, y_test_pred_flat)\n",
    "print(f\"Testing accuracy: {test_acc:.4f}\")\n",
    "\n",
    "# Full word accuracy\n",
    "correct = sum(yt == yp for yt, yp in zip(y_test, y_pred))\n",
    "word_accuracy = correct / len(y_test)\n",
    "print(f\"Full word accuracy: {word_accuracy:.4f}\")\n",
    "\n",
    "features_flat = []\n",
    "for wid in id_test:\n",
    "    char_indices = wordid_to_indices[wid]\n",
    "    for idx in char_indices:\n",
    "        features_flat.append(dataset['features'][idx])\n",
    "showFeatures(features_flat, y_test_true_flat, y_test_pred_flat, num=20)"
   ]
  },
  {
   "cell_type": "markdown",
   "id": "718d0571",
   "metadata": {},
   "source": [
    "### 1000/4000"
   ]
  },
  {
   "cell_type": "code",
   "execution_count": 44,
   "id": "a355f43b",
   "metadata": {},
   "outputs": [],
   "source": [
    "features, labels, ids = format(dataset, N, L)\n",
    "TRAIN = 0.2\n",
    "model_path = 'crf3_28.obj'"
   ]
  },
  {
   "cell_type": "code",
   "execution_count": 45,
   "id": "d1e991da",
   "metadata": {},
   "outputs": [],
   "source": [
    "X_train, X_test = features[:int(N * TRAIN)], features[int(N * TRAIN):]\n",
    "y_train, y_test = labels[:int(N * TRAIN)], labels[int(N * TRAIN):]\n",
    "id_train, id_test = ids[:int(N * TRAIN)], ids[int(N * TRAIN):]\n",
    "\n",
    "y_train = [[i2l(label) for label in seq] for seq in y_train]\n",
    "y_test = [[i2l(label) for label in seq] for seq in y_test]"
   ]
  },
  {
   "cell_type": "code",
   "execution_count": 46,
   "id": "083f629f",
   "metadata": {},
   "outputs": [
    {
     "name": "stdout",
     "output_type": "stream",
     "text": [
      "Training time elapsed: 15.50 s\n"
     ]
    }
   ],
   "source": [
    "crf = CRF(\n",
    "    algorithm='lbfgs',\n",
    "    max_iterations=100,\n",
    "    all_possible_transitions=True,\n",
    ")\n",
    "\n",
    "start_train = timeit.default_timer()\n",
    "crf.fit(X_train, y_train)\n",
    "end_train = timeit.default_timer()\n",
    "print(f\"Training time elapsed: {end_train - start_train:.2f} s\")\n",
    "\n",
    "with open(model_path, 'wb') as f:\n",
    "    pickle.dump(crf, f)"
   ]
  },
  {
   "cell_type": "code",
   "execution_count": 47,
   "id": "592ac889",
   "metadata": {},
   "outputs": [
    {
     "name": "stdout",
     "output_type": "stream",
     "text": [
      "Training accuracy: 0.9817\n",
      "Testing time elapsed: 2.28 s\n",
      "Testing accuracy: 0.7591\n",
      "Full word accuracy: 0.3205\n"
     ]
    },
    {
     "data": {
      "image/png": "[encoded data removed]",
      "text/plain": [
       "<Figure size 2000x400 with 20 Axes>"
      ]
     },
     "metadata": {},
     "output_type": "display_data"
    }
   ],
   "source": [
    "with open(model_path, 'rb') as f:\n",
    "    crf = pickle.load(f)\n",
    "\n",
    "# Training Accuracy\n",
    "y_train_pred = crf.predict(X_train)\n",
    "y_train_true_flat = [label for seq in y_train for label in seq]\n",
    "y_train_pred_flat = [label for seq in y_train_pred for label in seq]\n",
    "\n",
    "train_acc = accuracy_score(y_train_true_flat, y_train_pred_flat)\n",
    "print(f\"Training accuracy: {train_acc:.4f}\")\n",
    "\n",
    "# Testing Accuracy\n",
    "start_test = timeit.default_timer()\n",
    "y_pred = crf.predict(X_test)\n",
    "end_test = timeit.default_timer()\n",
    "print(f\"Testing time elapsed: {end_test - start_test:.2f} s\")\n",
    "\n",
    "y_test_true_flat = [label for seq in y_test for label in seq]\n",
    "y_test_pred_flat = [label for seq in y_pred for label in seq]\n",
    "\n",
    "test_acc = accuracy_score(y_test_true_flat, y_test_pred_flat)\n",
    "print(f\"Testing accuracy: {test_acc:.4f}\")\n",
    "\n",
    "# Full word accuracy\n",
    "correct = sum(yt == yp for yt, yp in zip(y_test, y_pred))\n",
    "word_accuracy = correct / len(y_test)\n",
    "print(f\"Full word accuracy: {word_accuracy:.4f}\")\n",
    "\n",
    "features_flat = []\n",
    "for wid in id_test:\n",
    "    char_indices = wordid_to_indices[wid]\n",
    "    for idx in char_indices:\n",
    "        features_flat.append(dataset['features'][idx])\n",
    "showFeatures(features_flat, y_test_true_flat, y_test_pred_flat, num=20)"
   ]
  },
  {
   "cell_type": "code",
   "execution_count": null,
   "id": "485f122b",
   "metadata": {},
   "outputs": [],
   "source": []
  }
 ],
 "metadata": {
  "kernelspec": {
   "display_name": "venv",
   "language": "python",
   "name": "python3"
  },
  "language_info": {
   "codemirror_mode": {
    "name": "ipython",
    "version": 3
   },
   "file_extension": ".py",
   "mimetype": "text/x-python",
   "name": "python",
   "nbconvert_exporter": "python",
   "pygments_lexer": "ipython3",
   "version": "3.11.9"
  }
 },
 "nbformat": 4,
 "nbformat_minor": 5
}
