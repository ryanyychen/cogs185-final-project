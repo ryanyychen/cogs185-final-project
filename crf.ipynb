{
 "cells": [
  {
   "cell_type": "code",
   "execution_count": 1,
   "id": "61bcef0e",
   "metadata": {},
   "outputs": [],
   "source": [
    "import warnings; warnings.simplefilter('ignore')\n",
    "\n",
    "import re\n",
    "import string\n",
    "import timeit\n",
    "import pickle\n",
    "import random\n",
    "import numpy as np\n",
    "from itertools import product\n",
    "import matplotlib.pyplot as plt\n",
    "from collections import defaultdict\n",
    "\n",
    "from sklearn_crfsuite import CRF\n",
    "from sklearn.metrics import accuracy_score\n",
    "\n",
    "%matplotlib inline"
   ]
  },
  {
   "cell_type": "code",
   "execution_count": 2,
   "id": "b79f46d4",
   "metadata": {},
   "outputs": [],
   "source": [
    "# Number of examples\n",
    "N = 5000\n",
    "# Length of a feature\n",
    "d = 128"
   ]
  },
  {
   "cell_type": "code",
   "execution_count": 3,
   "id": "e99988e8",
   "metadata": {},
   "outputs": [],
   "source": [
    "def l2i(a):\n",
    "        return int(ord(a)-ord('a'))\n",
    "def i2l(i):\n",
    "    if i >= 0:\n",
    "        return chr(i+ord('a'))\n",
    "    else:\n",
    "        return '_'\n",
    "def iors(s):\n",
    "    try:\n",
    "        return int(s)\n",
    "    except ValueError: # if it is a string, return a string\n",
    "        return s"
   ]
  },
  {
   "cell_type": "code",
   "execution_count": 4,
   "id": "3600c54a",
   "metadata": {},
   "outputs": [],
   "source": [
    "def read_OCR(filename, n_features):\n",
    "    F = open(filename)\n",
    "    dataset = {}\n",
    "    dataset['ids'] = []#np.zeros(n_examples, dtype=int)\n",
    "    dataset['labels'] = []#np.zeros(n_examples,dtype=int)\n",
    "    dataset['labelDic'] = {} # To profile the distribution of labels\n",
    "    dataset['next_ids'] = []#np.zeros(n_examples,dtype=int)\n",
    "    dataset['word_ids'] = []#np.zeros(n_examples,dtype=int)\n",
    "    dataset['positions'] = []#np.zeros(n_examples,dtype=int)\n",
    "    dataset['folds'] = []#np.zeros(n_examples,dtype=int)\n",
    "    dataset['features'] = []#np.zeros([n_examples,n_features])\n",
    "    \n",
    "    for str_line in F.readlines():\n",
    "        #line0 = map(iors, filter(None, re.split('\\t', str_line.strip())))\n",
    "        ## ATTENTION: If you are using Python3, use the following line instead\n",
    "        line0 = list(map(iors, filter(None, re.split('\\t', str_line.strip()))))\n",
    "\n",
    "\n",
    "        dataset['ids'].append(int(line0.pop(0)))\n",
    "        dataset['labels'].append(l2i(line0.pop(0))) # The label is converted into integer('a'=>0, 'z'=>25)\n",
    "        if dataset['labels'][-1] in dataset['labelDic']:\n",
    "            dataset['labelDic'][dataset['labels'][-1]] += 1\n",
    "        else:\n",
    "            dataset['labelDic'][dataset['labels'][-1]] = 1\n",
    "            \n",
    "        dataset['next_ids'].append(int(line0.pop(0)))\n",
    "        dataset['word_ids'].append(int(line0.pop(0)))\n",
    "        dataset['positions'].append(int(line0.pop(0)))\n",
    "        dataset['folds'].append(int(line0.pop(0)))\n",
    "        if len(line0) != 128:  # Sanity check of the length\n",
    "            print (len(line0))\n",
    "        dataset['features'].append(line0)\n",
    "\n",
    "    return dataset"
   ]
  },
  {
   "cell_type": "code",
   "execution_count": 5,
   "id": "3e5d4fa5",
   "metadata": {},
   "outputs": [],
   "source": [
    "def format(dataset, N, L):\n",
    "    # Group by words\n",
    "    words = defaultdict(lambda: {'features': [], 'labels': []})\n",
    "    for i in range(len(dataset['features'])):\n",
    "        word_id = dataset['word_ids'][i]\n",
    "        feats = dataset['features'][i]\n",
    "        label = dataset['labels'][i]\n",
    "        words[word_id]['features'].append(feats)\n",
    "        words[word_id]['labels'].append(label)\n",
    "    \n",
    "    all_X = []\n",
    "    all_y = []\n",
    "    all_id = []\n",
    "\n",
    "    # Flatten into list of full-word sequences\n",
    "    for word_id in words.keys():\n",
    "        word = words[word_id]\n",
    "        word_feats = word['features']\n",
    "        word_labels = word['labels']\n",
    "        n = len(word_feats)\n",
    "\n",
    "        if n < L:\n",
    "            continue\n",
    "\n",
    "        feats_seq = []\n",
    "\n",
    "        for i in range(n):\n",
    "            feat_dict = {}\n",
    "            for offset in range(-(L // 2), L // 2 + 1):\n",
    "                pos = i + offset\n",
    "                if 0 <= pos < n:\n",
    "                    prefix = f\"{offset:+}\"\n",
    "                    for j, val in enumerate(word_feats[pos]):\n",
    "                        feat_dict[f\"{prefix}_{j}\"] = val\n",
    "            feats_seq.append(feat_dict)\n",
    "        \n",
    "        all_X.append(feats_seq)\n",
    "        all_y.append(word_labels)\n",
    "        all_id.append(word_id)\n",
    "\n",
    "    # Randomly sample N sequences\n",
    "    combined = list(zip(all_X, all_y, all_id))\n",
    "    random.shuffle(combined)\n",
    "    combined = combined[:N]\n",
    "    X, y, ids = zip(*combined)\n",
    "\n",
    "    return list(X), list(y), list(ids)"
   ]
  },
  {
   "cell_type": "code",
   "execution_count": 6,
   "id": "3fc74476",
   "metadata": {},
   "outputs": [],
   "source": [
    "def showFeatures(features, true_labels, predicted_labels, num=20):\n",
    "    plt.figure(figsize=(num, 4))\n",
    "\n",
    "    for i in range(num):\n",
    "        npfeature = np.array(features[i])\n",
    "        image = npfeature.reshape(16, 8)\n",
    "\n",
    "        true_char = true_labels[i]\n",
    "        pred_char = predicted_labels[i]\n",
    "\n",
    "        plt.subplot(1, num, i + 1)\n",
    "        plt.imshow(image, cmap='gray')\n",
    "        plt.title(f\"T:{true_char}\\nP:{pred_char}\", fontsize=8)\n",
    "        plt.axis('off')\n",
    "\n",
    "    plt.suptitle(\"Character Predictions — T: Truth, P: Predicted\", fontsize=12)\n",
    "    plt.tight_layout()\n",
    "    plt.show()"
   ]
  },
  {
   "cell_type": "code",
   "execution_count": 7,
   "id": "9f4a768f",
   "metadata": {},
   "outputs": [],
   "source": [
    "dataset = read_OCR('OCRdataset/letter.data', d)"
   ]
  },
  {
   "cell_type": "code",
   "execution_count": 8,
   "id": "43426869",
   "metadata": {},
   "outputs": [],
   "source": [
    "wordid_to_indices = defaultdict(list)\n",
    "for idx, wid in enumerate(dataset['word_ids']):\n",
    "    wordid_to_indices[wid].append(idx)"
   ]
  },
  {
   "cell_type": "markdown",
   "id": "49cd0b97",
   "metadata": {},
   "source": [
    "## L = 1"
   ]
  },
  {
   "cell_type": "code",
   "execution_count": 9,
   "id": "bfd36d35",
   "metadata": {},
   "outputs": [],
   "source": [
    "L = 1"
   ]
  },
  {
   "cell_type": "markdown",
   "id": "eeea68c2",
   "metadata": {},
   "source": [
    "### 4000/1000"
   ]
  },
  {
   "cell_type": "code",
   "execution_count": 10,
   "id": "084202a0",
   "metadata": {},
   "outputs": [],
   "source": [
    "features, labels, ids = format(dataset, N, L)\n",
    "TRAIN = 0.8\n",
    "model_path = 'crf1_82.obj'"
   ]
  },
  {
   "cell_type": "code",
   "execution_count": 11,
   "id": "121fee21",
   "metadata": {},
   "outputs": [],
   "source": [
    "X_train, X_test = features[:int(N * TRAIN)], features[int(N * TRAIN):]\n",
    "y_train, y_test = labels[:int(N * TRAIN)], labels[int(N * TRAIN):]\n",
    "id_train, id_test = ids[:int(N * TRAIN)], ids[int(N * TRAIN):]\n",
    "\n",
    "X_train_chars = [seq[:L] for seq in X_train]\n",
    "X_test_chars = [seq[:L] for seq in X_test]\n",
    "y_train_chars = [seq[:L] for seq in y_train]\n",
    "y_test_chars = [seq[:L] for seq in y_test]\n",
    "\n",
    "y_train = [[i2l(label) for label in seq] for seq in y_train]\n",
    "y_test = [[i2l(label) for label in seq] for seq in y_test]\n",
    "y_train_chars = [[i2l(label) for label in seq] for seq in y_train_chars]\n",
    "y_test_chars = [[i2l(label) for label in seq] for seq in y_test_chars]"
   ]
  },
  {
   "cell_type": "code",
   "execution_count": 12,
   "id": "825bc498",
   "metadata": {},
   "outputs": [
    {
     "name": "stdout",
     "output_type": "stream",
     "text": [
      "Training time elapsed: 2.08 s\n"
     ]
    }
   ],
   "source": [
    "crf = CRF(\n",
    "    algorithm='lbfgs',\n",
    "    max_iterations=100,\n",
    "    all_possible_transitions=True,\n",
    ")\n",
    "\n",
    "start_train = timeit.default_timer()\n",
    "crf.fit(X_train_chars, y_train_chars)\n",
    "end_train = timeit.default_timer()\n",
    "print(f\"Training time elapsed: {end_train - start_train:.2f} s\")\n",
    "\n",
    "with open(model_path, 'wb') as f:\n",
    "    pickle.dump(crf, f)"
   ]
  },
  {
   "cell_type": "code",
   "execution_count": 13,
   "id": "2e9846a9",
   "metadata": {},
   "outputs": [
    {
     "name": "stdout",
     "output_type": "stream",
     "text": [
      "Training accuracy: 0.8755\n",
      "Testing time elapsed: 0.04 s\n",
      "Testing accuracy: 0.8060\n",
      "Full word accuracy: 0.0550\n"
     ]
    },
    {
     "data": {
      "image/png": "[encoded data removed]",
      "text/plain": [
       "<Figure size 2000x400 with 20 Axes>"
      ]
     },
     "metadata": {},
     "output_type": "display_data"
    }
   ],
   "source": [
    "with open(model_path, 'rb') as f:\n",
    "    crf = pickle.load(f)\n",
    "\n",
    "# Training Accuracy\n",
    "y_train_pred = crf.predict(X_train_chars)\n",
    "y_train_true_flat = [label for seq in y_train_chars for label in seq]\n",
    "y_train_pred_flat = [label for seq in y_train_pred for label in seq]\n",
    "\n",
    "train_acc = accuracy_score(y_train_true_flat, y_train_pred_flat)\n",
    "print(f\"Training accuracy: {train_acc:.4f}\")\n",
    "\n",
    "# Testing Accuracy\n",
    "start_test = timeit.default_timer()\n",
    "y_pred = crf.predict(X_test_chars)\n",
    "end_test = timeit.default_timer()\n",
    "print(f\"Testing time elapsed: {end_test - start_test:.2f} s\")\n",
    "\n",
    "y_test_true_flat = [label for seq in y_test_chars for label in seq]\n",
    "y_test_pred_flat = [label for seq in y_pred for label in seq]\n",
    "\n",
    "test_acc = accuracy_score(y_test_true_flat, y_test_pred_flat)\n",
    "print(f\"Testing accuracy: {test_acc:.4f}\")\n",
    "\n",
    "# Full word accuracy\n",
    "y_pred = crf.predict(X_test)\n",
    "correct = sum(yt == yp for yt, yp in zip(y_test, y_pred))\n",
    "word_accuracy = correct / len(y_test)\n",
    "print(f\"Full word accuracy: {word_accuracy:.4f}\")\n",
    "\n",
    "features_flat = []\n",
    "for wid in id_test:\n",
    "    char_indices = wordid_to_indices[wid]\n",
    "    for idx in char_indices:\n",
    "        features_flat.append(dataset['features'][idx])\n",
    "showFeatures(features_flat, y_test_true_flat, y_test_pred_flat, num=20)"
   ]
  },
  {
   "cell_type": "markdown",
   "id": "8826c77e",
   "metadata": {},
   "source": [
    "### 2500/2500"
   ]
  },
  {
   "cell_type": "code",
   "execution_count": 14,
   "id": "2bdaa2fb",
   "metadata": {},
   "outputs": [],
   "source": [
    "features, labels, ids = format(dataset, N, L)\n",
    "TRAIN = 0.5\n",
    "model_path = 'crf1_55.obj'"
   ]
  },
  {
   "cell_type": "code",
   "execution_count": 15,
   "id": "f2f9a2b3",
   "metadata": {},
   "outputs": [],
   "source": [
    "X_train, X_test = features[:int(N * TRAIN)], features[int(N * TRAIN):]\n",
    "y_train, y_test = labels[:int(N * TRAIN)], labels[int(N * TRAIN):]\n",
    "id_train, id_test = ids[:int(N * TRAIN)], ids[int(N * TRAIN):]\n",
    "\n",
    "X_train_chars = [seq[:L] for seq in X_train]\n",
    "X_test_chars = [seq[:L] for seq in X_test]\n",
    "y_train_chars = [seq[:L] for seq in y_train]\n",
    "y_test_chars = [seq[:L] for seq in y_test]\n",
    "\n",
    "y_train = [[i2l(label) for label in seq] for seq in y_train]\n",
    "y_test = [[i2l(label) for label in seq] for seq in y_test]\n",
    "y_train_chars = [[i2l(label) for label in seq] for seq in y_train_chars]\n",
    "y_test_chars = [[i2l(label) for label in seq] for seq in y_test_chars]"
   ]
  },
  {
   "cell_type": "code",
   "execution_count": 16,
   "id": "034ce27b",
   "metadata": {},
   "outputs": [
    {
     "name": "stdout",
     "output_type": "stream",
     "text": [
      "Training time elapsed: 1.16 s\n"
     ]
    }
   ],
   "source": [
    "crf = CRF(\n",
    "    algorithm='lbfgs',\n",
    "    max_iterations=100,\n",
    "    all_possible_transitions=True,\n",
    ")\n",
    "\n",
    "start_train = timeit.default_timer()\n",
    "crf.fit(X_train_chars, y_train_chars)\n",
    "end_train = timeit.default_timer()\n",
    "print(f\"Training time elapsed: {end_train - start_train:.2f} s\")\n",
    "\n",
    "with open(model_path, 'wb') as f:\n",
    "    pickle.dump(crf, f)"
   ]
  },
  {
   "cell_type": "code",
   "execution_count": 17,
   "id": "66ba7658",
   "metadata": {},
   "outputs": [
    {
     "name": "stdout",
     "output_type": "stream",
     "text": [
      "Training accuracy: 0.8932\n",
      "Testing time elapsed: 0.08 s\n",
      "Testing accuracy: 0.7896\n",
      "Full word accuracy: 0.0604\n"
     ]
    },
    {
     "data": {
      "image/png": "[encoded data removed]",
      "text/plain": [
       "<Figure size 2000x400 with 20 Axes>"
      ]
     },
     "metadata": {},
     "output_type": "display_data"
    }
   ],
   "source": [
    "with open(model_path, 'rb') as f:\n",
    "    crf = pickle.load(f)\n",
    "\n",
    "# Training Accuracy\n",
    "y_train_pred = crf.predict(X_train_chars)\n",
    "y_train_true_flat = [label for seq in y_train_chars for label in seq]\n",
    "y_train_pred_flat = [label for seq in y_train_pred for label in seq]\n",
    "\n",
    "train_acc = accuracy_score(y_train_true_flat, y_train_pred_flat)\n",
    "print(f\"Training accuracy: {train_acc:.4f}\")\n",
    "\n",
    "# Testing Accuracy\n",
    "start_test = timeit.default_timer()\n",
    "y_pred = crf.predict(X_test_chars)\n",
    "end_test = timeit.default_timer()\n",
    "print(f\"Testing time elapsed: {end_test - start_test:.2f} s\")\n",
    "\n",
    "y_test_true_flat = [label for seq in y_test_chars for label in seq]\n",
    "y_test_pred_flat = [label for seq in y_pred for label in seq]\n",
    "\n",
    "test_acc = accuracy_score(y_test_true_flat, y_test_pred_flat)\n",
    "print(f\"Testing accuracy: {test_acc:.4f}\")\n",
    "\n",
    "# Full word accuracy\n",
    "y_pred = crf.predict(X_test)\n",
    "correct = sum(yt == yp for yt, yp in zip(y_test, y_pred))\n",
    "word_accuracy = correct / len(y_test)\n",
    "print(f\"Full word accuracy: {word_accuracy:.4f}\")\n",
    "\n",
    "features_flat = []\n",
    "for wid in id_test:\n",
    "    char_indices = wordid_to_indices[wid]\n",
    "    for idx in char_indices:\n",
    "        features_flat.append(dataset['features'][idx])\n",
    "showFeatures(features_flat, y_test_true_flat, y_test_pred_flat, num=20)"
   ]
  },
  {
   "cell_type": "markdown",
   "id": "c8e85ffb",
   "metadata": {},
   "source": [
    "### 1000/4000"
   ]
  },
  {
   "cell_type": "code",
   "execution_count": 18,
   "id": "7af3e02b",
   "metadata": {},
   "outputs": [],
   "source": [
    "features, labels, ids = format(dataset, N, L)\n",
    "TRAIN = 0.2\n",
    "model_path = 'crf1_28.obj'"
   ]
  },
  {
   "cell_type": "code",
   "execution_count": 19,
   "id": "89bcceb7",
   "metadata": {},
   "outputs": [],
   "source": [
    "X_train, X_test = features[:int(N * TRAIN)], features[int(N * TRAIN):]\n",
    "y_train, y_test = labels[:int(N * TRAIN)], labels[int(N * TRAIN):]\n",
    "id_train, id_test = ids[:int(N * TRAIN)], ids[int(N * TRAIN):]\n",
    "\n",
    "X_train_chars = [seq[:L] for seq in X_train]\n",
    "X_test_chars = [seq[:L] for seq in X_test]\n",
    "y_train_chars = [seq[:L] for seq in y_train]\n",
    "y_test_chars = [seq[:L] for seq in y_test]\n",
    "\n",
    "y_train = [[i2l(label) for label in seq] for seq in y_train]\n",
    "y_test = [[i2l(label) for label in seq] for seq in y_test]\n",
    "y_train_chars = [[i2l(label) for label in seq] for seq in y_train_chars]\n",
    "y_test_chars = [[i2l(label) for label in seq] for seq in y_test_chars]"
   ]
  },
  {
   "cell_type": "code",
   "execution_count": 20,
   "id": "d69750a5",
   "metadata": {},
   "outputs": [
    {
     "name": "stdout",
     "output_type": "stream",
     "text": [
      "Training time elapsed: 0.33 s\n"
     ]
    }
   ],
   "source": [
    "crf = CRF(\n",
    "    algorithm='lbfgs',\n",
    "    max_iterations=100,\n",
    "    all_possible_transitions=True,\n",
    ")\n",
    "\n",
    "start_train = timeit.default_timer()\n",
    "crf.fit(X_train_chars, y_train_chars)\n",
    "end_train = timeit.default_timer()\n",
    "print(f\"Training time elapsed: {end_train - start_train:.2f} s\")\n",
    "\n",
    "with open(model_path, 'wb') as f:\n",
    "    pickle.dump(crf, f)"
   ]
  },
  {
   "cell_type": "code",
   "execution_count": 21,
   "id": "f80a364b",
   "metadata": {},
   "outputs": [
    {
     "name": "stdout",
     "output_type": "stream",
     "text": [
      "Training accuracy: 0.9440\n",
      "Testing time elapsed: 0.11 s\n",
      "Testing accuracy: 0.7370\n",
      "Full word accuracy: 0.0343\n"
     ]
    },
    {
     "data": {
      "image/png": "[encoded data removed]",
      "text/plain": [
       "<Figure size 2000x400 with 20 Axes>"
      ]
     },
     "metadata": {},
     "output_type": "display_data"
    }
   ],
   "source": [
    "with open(model_path, 'rb') as f:\n",
    "    crf = pickle.load(f)\n",
    "\n",
    "# Training Accuracy\n",
    "y_train_pred = crf.predict(X_train_chars)\n",
    "y_train_true_flat = [label for seq in y_train_chars for label in seq]\n",
    "y_train_pred_flat = [label for seq in y_train_pred for label in seq]\n",
    "\n",
    "train_acc = accuracy_score(y_train_true_flat, y_train_pred_flat)\n",
    "print(f\"Training accuracy: {train_acc:.4f}\")\n",
    "\n",
    "# Testing Accuracy\n",
    "start_test = timeit.default_timer()\n",
    "y_pred = crf.predict(X_test_chars)\n",
    "end_test = timeit.default_timer()\n",
    "print(f\"Testing time elapsed: {end_test - start_test:.2f} s\")\n",
    "\n",
    "y_test_true_flat = [label for seq in y_test_chars for label in seq]\n",
    "y_test_pred_flat = [label for seq in y_pred for label in seq]\n",
    "\n",
    "test_acc = accuracy_score(y_test_true_flat, y_test_pred_flat)\n",
    "print(f\"Testing accuracy: {test_acc:.4f}\")\n",
    "\n",
    "# Full word accuracy\n",
    "y_pred = crf.predict(X_test)\n",
    "correct = sum(yt == yp for yt, yp in zip(y_test, y_pred))\n",
    "word_accuracy = correct / len(y_test)\n",
    "print(f\"Full word accuracy: {word_accuracy:.4f}\")\n",
    "\n",
    "features_flat = []\n",
    "for wid in id_test:\n",
    "    char_indices = wordid_to_indices[wid]\n",
    "    for idx in char_indices:\n",
    "        features_flat.append(dataset['features'][idx])\n",
    "showFeatures(features_flat, y_test_true_flat, y_test_pred_flat, num=20)"
   ]
  },
  {
   "cell_type": "markdown",
   "id": "0bab442f",
   "metadata": {},
   "source": [
    "## L = 2"
   ]
  },
  {
   "cell_type": "code",
   "execution_count": 22,
   "id": "26bbda9c",
   "metadata": {},
   "outputs": [],
   "source": [
    "L = 2"
   ]
  },
  {
   "cell_type": "markdown",
   "id": "6f3578b4",
   "metadata": {},
   "source": [
    "### 4000/1000"
   ]
  },
  {
   "cell_type": "code",
   "execution_count": 23,
   "id": "2ae98ee2",
   "metadata": {},
   "outputs": [],
   "source": [
    "features, labels, ids = format(dataset, N, L)\n",
    "TRAIN = 0.8\n",
    "model_path = 'crf2_82.obj'"
   ]
  },
  {
   "cell_type": "code",
   "execution_count": 24,
   "id": "c4fcdd1b",
   "metadata": {},
   "outputs": [],
   "source": [
    "X_train, X_test = features[:int(N * TRAIN)], features[int(N * TRAIN):]\n",
    "y_train, y_test = labels[:int(N * TRAIN)], labels[int(N * TRAIN):]\n",
    "id_train, id_test = ids[:int(N * TRAIN)], ids[int(N * TRAIN):]\n",
    "\n",
    "X_train_chars = [seq[:L] for seq in X_train]\n",
    "X_test_chars = [seq[:L] for seq in X_test]\n",
    "y_train_chars = [seq[:L] for seq in y_train]\n",
    "y_test_chars = [seq[:L] for seq in y_test]\n",
    "\n",
    "y_train = [[i2l(label) for label in seq] for seq in y_train]\n",
    "y_test = [[i2l(label) for label in seq] for seq in y_test]\n",
    "y_train_chars = [[i2l(label) for label in seq] for seq in y_train_chars]\n",
    "y_test_chars = [[i2l(label) for label in seq] for seq in y_test_chars]"
   ]
  },
  {
   "cell_type": "code",
   "execution_count": 25,
   "id": "90667366",
   "metadata": {},
   "outputs": [
    {
     "name": "stdout",
     "output_type": "stream",
     "text": [
      "Training time elapsed: 13.95 s\n"
     ]
    }
   ],
   "source": [
    "crf = CRF(\n",
    "    algorithm='lbfgs',\n",
    "    max_iterations=100,\n",
    "    all_possible_transitions=True,\n",
    ")\n",
    "\n",
    "start_train = timeit.default_timer()\n",
    "crf.fit(X_train_chars, y_train_chars)\n",
    "end_train = timeit.default_timer()\n",
    "print(f\"Training time elapsed: {end_train - start_train:.2f} s\")\n",
    "\n",
    "with open(model_path, 'wb') as f:\n",
    "    pickle.dump(crf, f)"
   ]
  },
  {
   "cell_type": "code",
   "execution_count": 26,
   "id": "c7c04322",
   "metadata": {},
   "outputs": [
    {
     "name": "stdout",
     "output_type": "stream",
     "text": [
      "Training accuracy: 0.9872\n",
      "Testing time elapsed: 0.14 s\n",
      "Testing accuracy: 0.8565\n",
      "Full word accuracy: 0.0710\n"
     ]
    },
    {
     "data": {
      "image/png": "[encoded data removed]",
      "text/plain": [
       "<Figure size 2000x400 with 20 Axes>"
      ]
     },
     "metadata": {},
     "output_type": "display_data"
    }
   ],
   "source": [
    "with open(model_path, 'rb') as f:\n",
    "    crf = pickle.load(f)\n",
    "\n",
    "# Training Accuracy\n",
    "y_train_pred = crf.predict(X_train_chars)\n",
    "y_train_true_flat = [label for seq in y_train_chars for label in seq]\n",
    "y_train_pred_flat = [label for seq in y_train_pred for label in seq]\n",
    "\n",
    "train_acc = accuracy_score(y_train_true_flat, y_train_pred_flat)\n",
    "print(f\"Training accuracy: {train_acc:.4f}\")\n",
    "\n",
    "# Testing Accuracy\n",
    "start_test = timeit.default_timer()\n",
    "y_pred = crf.predict(X_test_chars)\n",
    "end_test = timeit.default_timer()\n",
    "print(f\"Testing time elapsed: {end_test - start_test:.2f} s\")\n",
    "\n",
    "y_test_true_flat = [label for seq in y_test_chars for label in seq]\n",
    "y_test_pred_flat = [label for seq in y_pred for label in seq]\n",
    "\n",
    "test_acc = accuracy_score(y_test_true_flat, y_test_pred_flat)\n",
    "print(f\"Testing accuracy: {test_acc:.4f}\")\n",
    "\n",
    "# Full word accuracy\n",
    "y_pred = crf.predict(X_test)\n",
    "correct = sum(yt == yp for yt, yp in zip(y_test, y_pred))\n",
    "word_accuracy = correct / len(y_test)\n",
    "print(f\"Full word accuracy: {word_accuracy:.4f}\")\n",
    "\n",
    "features_flat = []\n",
    "for wid in id_test:\n",
    "    char_indices = wordid_to_indices[wid]\n",
    "    for idx in char_indices:\n",
    "        features_flat.append(dataset['features'][idx])\n",
    "showFeatures(features_flat, y_test_true_flat, y_test_pred_flat, num=20)"
   ]
  },
  {
   "cell_type": "markdown",
   "id": "c3232de0",
   "metadata": {},
   "source": [
    "### 2500/2500"
   ]
  },
  {
   "cell_type": "code",
   "execution_count": 27,
   "id": "8442085e",
   "metadata": {},
   "outputs": [],
   "source": [
    "features, labels, ids = format(dataset, N, L)\n",
    "TRAIN = 0.5\n",
    "model_path = 'crf2_55.obj'"
   ]
  },
  {
   "cell_type": "code",
   "execution_count": 28,
   "id": "aac4fd6a",
   "metadata": {},
   "outputs": [],
   "source": [
    "X_train, X_test = features[:int(N * TRAIN)], features[int(N * TRAIN):]\n",
    "y_train, y_test = labels[:int(N * TRAIN)], labels[int(N * TRAIN):]\n",
    "id_train, id_test = ids[:int(N * TRAIN)], ids[int(N * TRAIN):]\n",
    "\n",
    "X_train_chars = [seq[:L] for seq in X_train]\n",
    "X_test_chars = [seq[:L] for seq in X_test]\n",
    "y_train_chars = [seq[:L] for seq in y_train]\n",
    "y_test_chars = [seq[:L] for seq in y_test]\n",
    "\n",
    "y_train = [[i2l(label) for label in seq] for seq in y_train]\n",
    "y_test = [[i2l(label) for label in seq] for seq in y_test]\n",
    "y_train_chars = [[i2l(label) for label in seq] for seq in y_train_chars]\n",
    "y_test_chars = [[i2l(label) for label in seq] for seq in y_test_chars]"
   ]
  },
  {
   "cell_type": "code",
   "execution_count": 29,
   "id": "9690bf85",
   "metadata": {},
   "outputs": [
    {
     "name": "stdout",
     "output_type": "stream",
     "text": [
      "Training time elapsed: 8.58 s\n"
     ]
    }
   ],
   "source": [
    "crf = CRF(\n",
    "    algorithm='lbfgs',\n",
    "    max_iterations=100,\n",
    "    all_possible_transitions=True,\n",
    ")\n",
    "\n",
    "start_train = timeit.default_timer()\n",
    "crf.fit(X_train_chars, y_train_chars)\n",
    "end_train = timeit.default_timer()\n",
    "print(f\"Training time elapsed: {end_train - start_train:.2f} s\")\n",
    "\n",
    "with open(model_path, 'wb') as f:\n",
    "    pickle.dump(crf, f)"
   ]
  },
  {
   "cell_type": "code",
   "execution_count": 30,
   "id": "c89623fa",
   "metadata": {},
   "outputs": [
    {
     "name": "stdout",
     "output_type": "stream",
     "text": [
      "Training accuracy: 0.9934\n",
      "Testing time elapsed: 0.36 s\n",
      "Testing accuracy: 0.8384\n",
      "Full word accuracy: 0.0660\n"
     ]
    },
    {
     "data": {
      "image/png": "[encoded data removed]",
      "text/plain": [
       "<Figure size 2000x400 with 20 Axes>"
      ]
     },
     "metadata": {},
     "output_type": "display_data"
    }
   ],
   "source": [
    "with open(model_path, 'rb') as f:\n",
    "    crf = pickle.load(f)\n",
    "\n",
    "# Training Accuracy\n",
    "y_train_pred = crf.predict(X_train_chars)\n",
    "y_train_true_flat = [label for seq in y_train_chars for label in seq]\n",
    "y_train_pred_flat = [label for seq in y_train_pred for label in seq]\n",
    "\n",
    "train_acc = accuracy_score(y_train_true_flat, y_train_pred_flat)\n",
    "print(f\"Training accuracy: {train_acc:.4f}\")\n",
    "\n",
    "# Testing Accuracy\n",
    "start_test = timeit.default_timer()\n",
    "y_pred = crf.predict(X_test_chars)\n",
    "end_test = timeit.default_timer()\n",
    "print(f\"Testing time elapsed: {end_test - start_test:.2f} s\")\n",
    "\n",
    "y_test_true_flat = [label for seq in y_test_chars for label in seq]\n",
    "y_test_pred_flat = [label for seq in y_pred for label in seq]\n",
    "\n",
    "test_acc = accuracy_score(y_test_true_flat, y_test_pred_flat)\n",
    "print(f\"Testing accuracy: {test_acc:.4f}\")\n",
    "\n",
    "# Full word accuracy\n",
    "y_pred = crf.predict(X_test)\n",
    "correct = sum(yt == yp for yt, yp in zip(y_test, y_pred))\n",
    "word_accuracy = correct / len(y_test)\n",
    "print(f\"Full word accuracy: {word_accuracy:.4f}\")\n",
    "\n",
    "features_flat = []\n",
    "for wid in id_test:\n",
    "    char_indices = wordid_to_indices[wid]\n",
    "    for idx in char_indices:\n",
    "        features_flat.append(dataset['features'][idx])\n",
    "showFeatures(features_flat, y_test_true_flat, y_test_pred_flat, num=20)"
   ]
  },
  {
   "cell_type": "markdown",
   "id": "f4395fd8",
   "metadata": {},
   "source": [
    "### 1000/4000"
   ]
  },
  {
   "cell_type": "code",
   "execution_count": 31,
   "id": "6b60ca5b",
   "metadata": {},
   "outputs": [],
   "source": [
    "features, labels, ids = format(dataset, N, L)\n",
    "TRAIN = 0.2\n",
    "model_path = 'crf2_28.obj'"
   ]
  },
  {
   "cell_type": "code",
   "execution_count": 32,
   "id": "ba9d6618",
   "metadata": {},
   "outputs": [],
   "source": [
    "X_train, X_test = features[:int(N * TRAIN)], features[int(N * TRAIN):]\n",
    "y_train, y_test = labels[:int(N * TRAIN)], labels[int(N * TRAIN):]\n",
    "id_train, id_test = ids[:int(N * TRAIN)], ids[int(N * TRAIN):]\n",
    "\n",
    "X_train_chars = [seq[:L] for seq in X_train]\n",
    "X_test_chars = [seq[:L] for seq in X_test]\n",
    "y_train_chars = [seq[:L] for seq in y_train]\n",
    "y_test_chars = [seq[:L] for seq in y_test]\n",
    "\n",
    "y_train = [[i2l(label) for label in seq] for seq in y_train]\n",
    "y_test = [[i2l(label) for label in seq] for seq in y_test]\n",
    "y_train_chars = [[i2l(label) for label in seq] for seq in y_train_chars]\n",
    "y_test_chars = [[i2l(label) for label in seq] for seq in y_test_chars]"
   ]
  },
  {
   "cell_type": "code",
   "execution_count": 33,
   "id": "91dc4a8e",
   "metadata": {},
   "outputs": [
    {
     "name": "stdout",
     "output_type": "stream",
     "text": [
      "Training time elapsed: 2.96 s\n"
     ]
    }
   ],
   "source": [
    "crf = CRF(\n",
    "    algorithm='lbfgs',\n",
    "    max_iterations=100,\n",
    "    all_possible_transitions=True,\n",
    ")\n",
    "\n",
    "start_train = timeit.default_timer()\n",
    "crf.fit(X_train_chars, y_train_chars)\n",
    "end_train = timeit.default_timer()\n",
    "print(f\"Training time elapsed: {end_train - start_train:.2f} s\")\n",
    "\n",
    "with open(model_path, 'wb') as f:\n",
    "    pickle.dump(crf, f)"
   ]
  },
  {
   "cell_type": "code",
   "execution_count": 34,
   "id": "d2438e54",
   "metadata": {},
   "outputs": [
    {
     "name": "stdout",
     "output_type": "stream",
     "text": [
      "Training accuracy: 1.0000\n",
      "Testing time elapsed: 0.55 s\n",
      "Testing accuracy: 0.7985\n",
      "Full word accuracy: 0.0522\n"
     ]
    },
    {
     "data": {
      "image/png": "[encoded data removed]",
      "text/plain": [
       "<Figure size 2000x400 with 20 Axes>"
      ]
     },
     "metadata": {},
     "output_type": "display_data"
    }
   ],
   "source": [
    "with open(model_path, 'rb') as f:\n",
    "    crf = pickle.load(f)\n",
    "\n",
    "# Training Accuracy\n",
    "y_train_pred = crf.predict(X_train_chars)\n",
    "y_train_true_flat = [label for seq in y_train_chars for label in seq]\n",
    "y_train_pred_flat = [label for seq in y_train_pred for label in seq]\n",
    "\n",
    "train_acc = accuracy_score(y_train_true_flat, y_train_pred_flat)\n",
    "print(f\"Training accuracy: {train_acc:.4f}\")\n",
    "\n",
    "# Testing Accuracy\n",
    "start_test = timeit.default_timer()\n",
    "y_pred = crf.predict(X_test_chars)\n",
    "end_test = timeit.default_timer()\n",
    "print(f\"Testing time elapsed: {end_test - start_test:.2f} s\")\n",
    "\n",
    "y_test_true_flat = [label for seq in y_test_chars for label in seq]\n",
    "y_test_pred_flat = [label for seq in y_pred for label in seq]\n",
    "\n",
    "test_acc = accuracy_score(y_test_true_flat, y_test_pred_flat)\n",
    "print(f\"Testing accuracy: {test_acc:.4f}\")\n",
    "\n",
    "# Full word accuracy\n",
    "y_pred = crf.predict(X_test)\n",
    "correct = sum(yt == yp for yt, yp in zip(y_test, y_pred))\n",
    "word_accuracy = correct / len(y_test)\n",
    "print(f\"Full word accuracy: {word_accuracy:.4f}\")\n",
    "\n",
    "features_flat = []\n",
    "for wid in id_test:\n",
    "    char_indices = wordid_to_indices[wid]\n",
    "    for idx in char_indices:\n",
    "        features_flat.append(dataset['features'][idx])\n",
    "showFeatures(features_flat, y_test_true_flat, y_test_pred_flat, num=20)"
   ]
  },
  {
   "cell_type": "markdown",
   "id": "841b0eef",
   "metadata": {},
   "source": [
    "## L = 3"
   ]
  },
  {
   "cell_type": "code",
   "execution_count": 35,
   "id": "7d71bc66",
   "metadata": {},
   "outputs": [],
   "source": [
    "L = 3"
   ]
  },
  {
   "cell_type": "markdown",
   "id": "3f1e282b",
   "metadata": {},
   "source": [
    "### 4000/1000"
   ]
  },
  {
   "cell_type": "code",
   "execution_count": 36,
   "id": "35b4549f",
   "metadata": {},
   "outputs": [],
   "source": [
    "features, labels, ids = format(dataset, N, L)\n",
    "TRAIN = 0.8\n",
    "model_path = 'crf3_82.obj'"
   ]
  },
  {
   "cell_type": "code",
   "execution_count": 37,
   "id": "120f1cf2",
   "metadata": {},
   "outputs": [],
   "source": [
    "X_train, X_test = features[:int(N * TRAIN)], features[int(N * TRAIN):]\n",
    "y_train, y_test = labels[:int(N * TRAIN)], labels[int(N * TRAIN):]\n",
    "id_train, id_test = ids[:int(N * TRAIN)], ids[int(N * TRAIN):]\n",
    "\n",
    "X_train_chars = [seq[:L] for seq in X_train]\n",
    "X_test_chars = [seq[:L] for seq in X_test]\n",
    "y_train_chars = [seq[:L] for seq in y_train]\n",
    "y_test_chars = [seq[:L] for seq in y_test]\n",
    "\n",
    "y_train = [[i2l(label) for label in seq] for seq in y_train]\n",
    "y_test = [[i2l(label) for label in seq] for seq in y_test]\n",
    "y_train_chars = [[i2l(label) for label in seq] for seq in y_train_chars]\n",
    "y_test_chars = [[i2l(label) for label in seq] for seq in y_test_chars]"
   ]
  },
  {
   "cell_type": "code",
   "execution_count": 38,
   "id": "683a8be0",
   "metadata": {},
   "outputs": [
    {
     "name": "stdout",
     "output_type": "stream",
     "text": [
      "Training time elapsed: 23.89 s\n"
     ]
    }
   ],
   "source": [
    "crf = CRF(\n",
    "    algorithm='lbfgs',\n",
    "    max_iterations=100,\n",
    "    all_possible_transitions=True,\n",
    ")\n",
    "\n",
    "start_train = timeit.default_timer()\n",
    "crf.fit(X_train_chars, y_train_chars)\n",
    "end_train = timeit.default_timer()\n",
    "print(f\"Training time elapsed: {end_train - start_train:.2f} s\")\n",
    "\n",
    "with open(model_path, 'wb') as f:\n",
    "    pickle.dump(crf, f)"
   ]
  },
  {
   "cell_type": "code",
   "execution_count": 39,
   "id": "57fe5b87",
   "metadata": {},
   "outputs": [
    {
     "name": "stdout",
     "output_type": "stream",
     "text": [
      "Training accuracy: 0.9868\n",
      "Testing time elapsed: 0.26 s\n",
      "Testing accuracy: 0.8510\n",
      "Full word accuracy: 0.1440\n"
     ]
    },
    {
     "data": {
      "image/png": "[encoded data removed]",
      "text/plain": [
       "<Figure size 2000x400 with 20 Axes>"
      ]
     },
     "metadata": {},
     "output_type": "display_data"
    }
   ],
   "source": [
    "with open(model_path, 'rb') as f:\n",
    "    crf = pickle.load(f)\n",
    "\n",
    "# Training Accuracy\n",
    "y_train_pred = crf.predict(X_train_chars)\n",
    "y_train_true_flat = [label for seq in y_train_chars for label in seq]\n",
    "y_train_pred_flat = [label for seq in y_train_pred for label in seq]\n",
    "\n",
    "train_acc = accuracy_score(y_train_true_flat, y_train_pred_flat)\n",
    "print(f\"Training accuracy: {train_acc:.4f}\")\n",
    "\n",
    "# Testing Accuracy\n",
    "start_test = timeit.default_timer()\n",
    "y_pred = crf.predict(X_test_chars)\n",
    "end_test = timeit.default_timer()\n",
    "print(f\"Testing time elapsed: {end_test - start_test:.2f} s\")\n",
    "\n",
    "y_test_true_flat = [label for seq in y_test_chars for label in seq]\n",
    "y_test_pred_flat = [label for seq in y_pred for label in seq]\n",
    "\n",
    "test_acc = accuracy_score(y_test_true_flat, y_test_pred_flat)\n",
    "print(f\"Testing accuracy: {test_acc:.4f}\")\n",
    "\n",
    "# Full word accuracy\n",
    "y_pred = crf.predict(X_test)\n",
    "correct = sum(yt == yp for yt, yp in zip(y_test, y_pred))\n",
    "word_accuracy = correct / len(y_test)\n",
    "print(f\"Full word accuracy: {word_accuracy:.4f}\")\n",
    "\n",
    "features_flat = []\n",
    "for wid in id_test:\n",
    "    char_indices = wordid_to_indices[wid]\n",
    "    for idx in char_indices:\n",
    "        features_flat.append(dataset['features'][idx])\n",
    "showFeatures(features_flat, y_test_true_flat, y_test_pred_flat, num=20)"
   ]
  },
  {
   "cell_type": "markdown",
   "id": "5bfeb084",
   "metadata": {},
   "source": [
    "### 2500/2500"
   ]
  },
  {
   "cell_type": "code",
   "execution_count": 40,
   "id": "f1487ab5",
   "metadata": {},
   "outputs": [],
   "source": [
    "features, labels, ids = format(dataset, N, L)\n",
    "TRAIN = 0.5\n",
    "model_path = 'crf3_55.obj'"
   ]
  },
  {
   "cell_type": "code",
   "execution_count": 41,
   "id": "2cc50c85",
   "metadata": {},
   "outputs": [],
   "source": [
    "X_train, X_test = features[:int(N * TRAIN)], features[int(N * TRAIN):]\n",
    "y_train, y_test = labels[:int(N * TRAIN)], labels[int(N * TRAIN):]\n",
    "id_train, id_test = ids[:int(N * TRAIN)], ids[int(N * TRAIN):]\n",
    "\n",
    "X_train_chars = [seq[:L] for seq in X_train]\n",
    "X_test_chars = [seq[:L] for seq in X_test]\n",
    "y_train_chars = [seq[:L] for seq in y_train]\n",
    "y_test_chars = [seq[:L] for seq in y_test]\n",
    "\n",
    "y_train = [[i2l(label) for label in seq] for seq in y_train]\n",
    "y_test = [[i2l(label) for label in seq] for seq in y_test]\n",
    "y_train_chars = [[i2l(label) for label in seq] for seq in y_train_chars]\n",
    "y_test_chars = [[i2l(label) for label in seq] for seq in y_test_chars]"
   ]
  },
  {
   "cell_type": "code",
   "execution_count": 42,
   "id": "665e9069",
   "metadata": {},
   "outputs": [
    {
     "name": "stdout",
     "output_type": "stream",
     "text": [
      "Training time elapsed: 14.41 s\n"
     ]
    }
   ],
   "source": [
    "crf = CRF(\n",
    "    algorithm='lbfgs',\n",
    "    max_iterations=100,\n",
    "    all_possible_transitions=True,\n",
    ")\n",
    "\n",
    "start_train = timeit.default_timer()\n",
    "crf.fit(X_train_chars, y_train_chars)\n",
    "end_train = timeit.default_timer()\n",
    "print(f\"Training time elapsed: {end_train - start_train:.2f} s\")\n",
    "\n",
    "with open(model_path, 'wb') as f:\n",
    "    pickle.dump(crf, f)"
   ]
  },
  {
   "cell_type": "code",
   "execution_count": 43,
   "id": "8ccf32fe",
   "metadata": {},
   "outputs": [
    {
     "name": "stdout",
     "output_type": "stream",
     "text": [
      "Training accuracy: 0.9931\n",
      "Testing time elapsed: 0.69 s\n",
      "Testing accuracy: 0.8460\n",
      "Full word accuracy: 0.1536\n"
     ]
    },
    {
     "data": {
      "image/png": "[encoded data removed]",
      "text/plain": [
       "<Figure size 2000x400 with 20 Axes>"
      ]
     },
     "metadata": {},
     "output_type": "display_data"
    }
   ],
   "source": [
    "with open(model_path, 'rb') as f:\n",
    "    crf = pickle.load(f)\n",
    "\n",
    "# Training Accuracy\n",
    "y_train_pred = crf.predict(X_train_chars)\n",
    "y_train_true_flat = [label for seq in y_train_chars for label in seq]\n",
    "y_train_pred_flat = [label for seq in y_train_pred for label in seq]\n",
    "\n",
    "train_acc = accuracy_score(y_train_true_flat, y_train_pred_flat)\n",
    "print(f\"Training accuracy: {train_acc:.4f}\")\n",
    "\n",
    "# Testing Accuracy\n",
    "start_test = timeit.default_timer()\n",
    "y_pred = crf.predict(X_test_chars)\n",
    "end_test = timeit.default_timer()\n",
    "print(f\"Testing time elapsed: {end_test - start_test:.2f} s\")\n",
    "\n",
    "y_test_true_flat = [label for seq in y_test_chars for label in seq]\n",
    "y_test_pred_flat = [label for seq in y_pred for label in seq]\n",
    "\n",
    "test_acc = accuracy_score(y_test_true_flat, y_test_pred_flat)\n",
    "print(f\"Testing accuracy: {test_acc:.4f}\")\n",
    "\n",
    "# Full word accuracy\n",
    "y_pred = crf.predict(X_test)\n",
    "correct = sum(yt == yp for yt, yp in zip(y_test, y_pred))\n",
    "word_accuracy = correct / len(y_test)\n",
    "print(f\"Full word accuracy: {word_accuracy:.4f}\")\n",
    "\n",
    "features_flat = []\n",
    "for wid in id_test:\n",
    "    char_indices = wordid_to_indices[wid]\n",
    "    for idx in char_indices:\n",
    "        features_flat.append(dataset['features'][idx])\n",
    "showFeatures(features_flat, y_test_true_flat, y_test_pred_flat, num=20)"
   ]
  },
  {
   "cell_type": "markdown",
   "id": "718d0571",
   "metadata": {},
   "source": [
    "### 1000/4000"
   ]
  },
  {
   "cell_type": "code",
   "execution_count": 44,
   "id": "a355f43b",
   "metadata": {},
   "outputs": [],
   "source": [
    "features, labels, ids = format(dataset, N, L)\n",
    "TRAIN = 0.2\n",
    "model_path = 'crf3_28.obj'"
   ]
  },
  {
   "cell_type": "code",
   "execution_count": 45,
   "id": "81d4e0f0",
   "metadata": {},
   "outputs": [],
   "source": [
    "X_train, X_test = features[:int(N * TRAIN)], features[int(N * TRAIN):]\n",
    "y_train, y_test = labels[:int(N * TRAIN)], labels[int(N * TRAIN):]\n",
    "id_train, id_test = ids[:int(N * TRAIN)], ids[int(N * TRAIN):]\n",
    "\n",
    "X_train_chars = [seq[:L] for seq in X_train]\n",
    "X_test_chars = [seq[:L] for seq in X_test]\n",
    "y_train_chars = [seq[:L] for seq in y_train]\n",
    "y_test_chars = [seq[:L] for seq in y_test]\n",
    "\n",
    "y_train = [[i2l(label) for label in seq] for seq in y_train]\n",
    "y_test = [[i2l(label) for label in seq] for seq in y_test]\n",
    "y_train_chars = [[i2l(label) for label in seq] for seq in y_train_chars]\n",
    "y_test_chars = [[i2l(label) for label in seq] for seq in y_test_chars]"
   ]
  },
  {
   "cell_type": "code",
   "execution_count": 46,
   "id": "7089641b",
   "metadata": {},
   "outputs": [
    {
     "name": "stdout",
     "output_type": "stream",
     "text": [
      "Training time elapsed: 6.02 s\n"
     ]
    }
   ],
   "source": [
    "crf = CRF(\n",
    "    algorithm='lbfgs',\n",
    "    max_iterations=100,\n",
    "    all_possible_transitions=True,\n",
    ")\n",
    "\n",
    "start_train = timeit.default_timer()\n",
    "crf.fit(X_train_chars, y_train_chars)\n",
    "end_train = timeit.default_timer()\n",
    "print(f\"Training time elapsed: {end_train - start_train:.2f} s\")\n",
    "\n",
    "with open(model_path, 'wb') as f:\n",
    "    pickle.dump(crf, f)"
   ]
  },
  {
   "cell_type": "code",
   "execution_count": 47,
   "id": "fe569bdf",
   "metadata": {},
   "outputs": [
    {
     "name": "stdout",
     "output_type": "stream",
     "text": [
      "Training accuracy: 0.9990\n",
      "Testing time elapsed: 1.03 s\n",
      "Testing accuracy: 0.7918\n",
      "Full word accuracy: 0.1378\n"
     ]
    },
    {
     "data": {
      "image/png": "[encoded data removed]",
      "text/plain": [
       "<Figure size 2000x400 with 20 Axes>"
      ]
     },
     "metadata": {},
     "output_type": "display_data"
    }
   ],
   "source": [
    "with open(model_path, 'rb') as f:\n",
    "    crf = pickle.load(f)\n",
    "\n",
    "# Training Accuracy\n",
    "y_train_pred = crf.predict(X_train_chars)\n",
    "y_train_true_flat = [label for seq in y_train_chars for label in seq]\n",
    "y_train_pred_flat = [label for seq in y_train_pred for label in seq]\n",
    "\n",
    "train_acc = accuracy_score(y_train_true_flat, y_train_pred_flat)\n",
    "print(f\"Training accuracy: {train_acc:.4f}\")\n",
    "\n",
    "# Testing Accuracy\n",
    "start_test = timeit.default_timer()\n",
    "y_pred = crf.predict(X_test_chars)\n",
    "end_test = timeit.default_timer()\n",
    "print(f\"Testing time elapsed: {end_test - start_test:.2f} s\")\n",
    "\n",
    "y_test_true_flat = [label for seq in y_test_chars for label in seq]\n",
    "y_test_pred_flat = [label for seq in y_pred for label in seq]\n",
    "\n",
    "test_acc = accuracy_score(y_test_true_flat, y_test_pred_flat)\n",
    "print(f\"Testing accuracy: {test_acc:.4f}\")\n",
    "\n",
    "# Full word accuracy\n",
    "y_pred = crf.predict(X_test)\n",
    "correct = sum(yt == yp for yt, yp in zip(y_test, y_pred))\n",
    "word_accuracy = correct / len(y_test)\n",
    "print(f\"Full word accuracy: {word_accuracy:.4f}\")\n",
    "\n",
    "features_flat = []\n",
    "for wid in id_test:\n",
    "    char_indices = wordid_to_indices[wid]\n",
    "    for idx in char_indices:\n",
    "        features_flat.append(dataset['features'][idx])\n",
    "showFeatures(features_flat, y_test_true_flat, y_test_pred_flat, num=20)"
   ]
  }
 ],
 "metadata": {
  "kernelspec": {
   "display_name": "venv",
   "language": "python",
   "name": "python3"
  },
  "language_info": {
   "codemirror_mode": {
    "name": "ipython",
    "version": 3
   },
   "file_extension": ".py",
   "mimetype": "text/x-python",
   "name": "python",
   "nbconvert_exporter": "python",
   "pygments_lexer": "ipython3",
   "version": "3.11.9"
  }
 },
 "nbformat": 4,
 "nbformat_minor": 5
}
