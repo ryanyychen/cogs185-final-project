{
 "cells": [
  {
   "cell_type": "code",
   "execution_count": 1,
   "id": "af806254",
   "metadata": {},
   "outputs": [],
   "source": [
    "import warnings; warnings.simplefilter('ignore')\n",
    "\n",
    "import re\n",
    "import copy\n",
    "import string\n",
    "import timeit\n",
    "import pickle\n",
    "import random\n",
    "import numpy as np\n",
    "import matplotlib.pyplot as plt\n",
    "from collections import defaultdict\n",
    "\n",
    "from sklearn.linear_model import LogisticRegression\n",
    "from sklearn.feature_extraction import DictVectorizer\n",
    "from sklearn.metrics import accuracy_score\n",
    "\n",
    "%matplotlib inline"
   ]
  },
  {
   "cell_type": "code",
   "execution_count": 2,
   "id": "77f38889",
   "metadata": {},
   "outputs": [],
   "source": [
    "# Number of examples\n",
    "N = 5000\n",
    "# Length of a feature\n",
    "d = 128"
   ]
  },
  {
   "cell_type": "code",
   "execution_count": 3,
   "id": "477e24db",
   "metadata": {},
   "outputs": [],
   "source": [
    "def l2i(a):\n",
    "        return int(ord(a)-ord('a'))\n",
    "def i2l(i):\n",
    "    if i >= 0:\n",
    "        return chr(i+ord('a'))\n",
    "    else:\n",
    "        return '_'\n",
    "def iors(s):\n",
    "    try:\n",
    "        return int(s)\n",
    "    except ValueError: # if it is a string, return a string\n",
    "        return s"
   ]
  },
  {
   "cell_type": "code",
   "execution_count": 4,
   "id": "033b5df7",
   "metadata": {},
   "outputs": [],
   "source": [
    "def read_OCR(filename, n_features):\n",
    "    F = open(filename)\n",
    "    dataset = {}\n",
    "    dataset['ids'] = []#np.zeros(n_examples, dtype=int)\n",
    "    dataset['labels'] = []#np.zeros(n_examples,dtype=int)\n",
    "    dataset['labelDic'] = {} # To profile the distribution of labels\n",
    "    dataset['next_ids'] = []#np.zeros(n_examples,dtype=int)\n",
    "    dataset['word_ids'] = []#np.zeros(n_examples,dtype=int)\n",
    "    dataset['positions'] = []#np.zeros(n_examples,dtype=int)\n",
    "    dataset['folds'] = []#np.zeros(n_examples,dtype=int)\n",
    "    dataset['features'] = []#np.zeros([n_examples,n_features])\n",
    "    \n",
    "    for str_line in F.readlines():\n",
    "        #line0 = map(iors, filter(None, re.split('\\t', str_line.strip())))\n",
    "        ## ATTENTION: If you are using Python3, use the following line instead\n",
    "        line0 = list(map(iors, filter(None, re.split('\\t', str_line.strip()))))\n",
    "\n",
    "\n",
    "        dataset['ids'].append(int(line0.pop(0)))\n",
    "        dataset['labels'].append(l2i(line0.pop(0))) # The label is converted into integer('a'=>0, 'z'=>25)\n",
    "        if dataset['labels'][-1] in dataset['labelDic']:\n",
    "            dataset['labelDic'][dataset['labels'][-1]] += 1\n",
    "        else:\n",
    "            dataset['labelDic'][dataset['labels'][-1]] = 1\n",
    "            \n",
    "        dataset['next_ids'].append(int(line0.pop(0)))\n",
    "        dataset['word_ids'].append(int(line0.pop(0)))\n",
    "        dataset['positions'].append(int(line0.pop(0)))\n",
    "        dataset['folds'].append(int(line0.pop(0)))\n",
    "        if len(line0) != 128:  # Sanity check of the length\n",
    "            print (len(line0))\n",
    "        dataset['features'].append(line0)\n",
    "\n",
    "    return dataset"
   ]
  },
  {
   "cell_type": "code",
   "execution_count": 5,
   "id": "16bd9b2c",
   "metadata": {},
   "outputs": [],
   "source": [
    "def format(dataset, N, L):\n",
    "    # Group by words\n",
    "    words = defaultdict(lambda: {'features': [], 'labels': []})\n",
    "    for i in range(len(dataset['features'])):\n",
    "        word_id = dataset['word_ids'][i]\n",
    "        feats = dataset['features'][i]\n",
    "        label = dataset['labels'][i]\n",
    "        words[word_id]['features'].append(feats)\n",
    "        words[word_id]['labels'].append(label)\n",
    "        \n",
    "    all_X = []\n",
    "    all_y = []\n",
    "    word_pos_info = []\n",
    "\n",
    "    word_ids = list(words.keys())\n",
    "\n",
    "    for wid in word_ids:\n",
    "        feats = words[wid]['features']\n",
    "        labels = words[wid]['labels']\n",
    "        length = len(feats)\n",
    "        \n",
    "        if length < L:\n",
    "            continue\n",
    "\n",
    "        for i in range(length):\n",
    "            feature_dict = {f\"f_{j}\": val for j, val in enumerate(feats[i])}\n",
    "            all_X.append(feature_dict)\n",
    "            all_y.append(labels[i])\n",
    "            word_pos_info.append((wid, i))\n",
    "\n",
    "    # Randomly sample N sequences\n",
    "    combined = list(zip(all_X, all_y, word_pos_info))\n",
    "    random.shuffle(combined)\n",
    "    combined = combined[:N]\n",
    "    X, y, word_pos_info = zip(*combined)\n",
    "\n",
    "    return list(X), list(y), list(word_pos_info)"
   ]
  },
  {
   "cell_type": "code",
   "execution_count": 6,
   "id": "0a264839",
   "metadata": {},
   "outputs": [],
   "source": [
    "def train_auto_context(model, X_train, y_train, num_iterations, L, save_path):\n",
    "    vec = DictVectorizer(sparse=False)\n",
    "    X_train_vec = vec.fit_transform(X_train)\n",
    "\n",
    "    if num_iterations == 1:\n",
    "        train_start = timeit.default_timer()\n",
    "        model.fit(X_train_vec, y_train)\n",
    "        y_pred = model.predict(X_train_vec)\n",
    "        train_end = timeit.default_timer()\n",
    "        print(f\"Training time elapsed: {train_end - train_start:.2f} s\")\n",
    "        train_acc = accuracy_score(y_train, y_pred)\n",
    "        print(f\"Training accuracy: {train_acc:.4f}\")\n",
    "        with open(save_path, 'wb') as f:\n",
    "            pickle.dump((model, vec), f)\n",
    "        return model, vec\n",
    "\n",
    "\n",
    "    # Training the model\n",
    "    train_start = timeit.default_timer()\n",
    "    for step in range(num_iterations):\n",
    "        model.fit(X_train_vec, y_train)\n",
    "\n",
    "        probs = model.predict_proba(X_train_vec)\n",
    "        num_classes = len(probs[0])\n",
    "\n",
    "        new_X_train = []\n",
    "        for i in range(len(X_train)):\n",
    "            feat = dict(X_train[i])\n",
    "            for offset in range(-(L // 2), L // 2 + 1):\n",
    "                if offset == 0:\n",
    "                    continue\n",
    "                pos = i + offset\n",
    "                if 0 <= pos < len(probs):\n",
    "                    for k in range(num_classes):\n",
    "                        feat[f\"context_{offset:+}_{k}\"] = probs[pos][k]\n",
    "            new_X_train.append(feat)\n",
    "        X_train_vec = vec.fit_transform(new_X_train)\n",
    "    train_end = timeit.default_timer()\n",
    "    y_pred = model.predict(X_train_vec)\n",
    "    print(f\"Training time elapsed: {train_end - train_start:.2f} s\")\n",
    "    train_acc = accuracy_score(y_train, y_pred)\n",
    "    print(f\"Training accuracy: {train_acc:.4f}\")\n",
    "\n",
    "    with open(save_path, 'wb') as f:\n",
    "        pickle.dump((model, vec), f)\n",
    "    \n",
    "    return model, vec"
   ]
  },
  {
   "cell_type": "code",
   "execution_count": 7,
   "id": "9f52c71f",
   "metadata": {},
   "outputs": [],
   "source": [
    "def test_auto_context(model, X_test, y_test, id_test, num_iterations, L, load_path):\n",
    "    with open(load_path, 'rb') as f:\n",
    "        model, vec = pickle.load(f)\n",
    "    \n",
    "    X_vec = vec.transform(X_test)\n",
    "\n",
    "    if num_iterations == 1:\n",
    "        start_test = timeit.default_timer()\n",
    "        y_pred = model.predict(X_vec)\n",
    "        end_test = timeit.default_timer()\n",
    "        print(f\"Testing time elapsed: {end_test - start_test:.2f} s\")\n",
    "        test_acc = accuracy_score(y_test, y_pred)\n",
    "        print(f\"Testing accuracy: {test_acc:.4f}\")\n",
    "\n",
    "        # Full word accuracy\n",
    "        start_pred = timeit.default_timer()\n",
    "        word_truth, word_pred = {}, {}\n",
    "        for pred, true, (wid, pos) in zip(y_pred, y_test, id_test):\n",
    "            word_truth.setdefault(wid, {})[pos] = true\n",
    "            word_pred.setdefault(wid, {})[pos] = pred\n",
    "        correct_words = sum(pw == tw for pw, tw in zip(word_pred.values(), word_truth.values()))\n",
    "        total_words = len(word_truth)\n",
    "        word_acc = correct_words / total_words if total_words > 0 else 0.0\n",
    "        end_pred = timeit.default_timer()\n",
    "        print(f\"Word accuracy: {word_acc:.4f} ({correct_words}/{total_words})\")\n",
    "        return y_pred\n",
    "\n",
    "    start_test = timeit.default_timer()\n",
    "    for step in range(num_iterations):\n",
    "        probs = model.predict_proba(X_vec)\n",
    "        num_classes = len(probs[0])\n",
    "\n",
    "        new_X_test = []\n",
    "        for i in range(len(X_test)):\n",
    "            feat = dict(X_test[i])\n",
    "            for offset in range(-(L // 2), L // 2 + 1):\n",
    "                if offset == 0:\n",
    "                    continue\n",
    "                pos = i + offset\n",
    "                if 0 <= pos < len(probs):\n",
    "                    for k in range(num_classes):\n",
    "                        feat[f\"context_{offset:+}_{k}\"] = probs[pos][k]\n",
    "            new_X_test.append(feat)\n",
    "        X_test_vec = vec.transform(new_X_test)\n",
    "    end_test = timeit.default_timer()\n",
    "\n",
    "    y_pred = model.predict(X_test_vec)\n",
    "    print(f\"Testing time elapsed: {end_test - start_test:.2f} s\")\n",
    "    test_acc = accuracy_score(y_test, model.predict(X_test_vec))\n",
    "    print(f\"Testing accuracy: {test_acc:.4f}\")\n",
    "\n",
    "    # Full word accuracy\n",
    "    start_pred = timeit.default_timer()\n",
    "    word_truth, word_pred = {}, {}\n",
    "    for pred, true, (wid, pos) in zip(y_pred, y_test, id_test):\n",
    "        word_truth.setdefault(wid, {})[pos] = true\n",
    "        word_pred.setdefault(wid, {})[pos] = pred\n",
    "    \n",
    "    correct_words = sum(pw == tw for pw, tw in zip(word_pred.values(), word_truth.values()))\n",
    "    total_words = len(word_truth)\n",
    "    word_acc = correct_words / total_words if total_words > 0 else 0.0\n",
    "    end_pred = timeit.default_timer()\n",
    "    print(f\"Prediction time elapsed: {end_pred - start_pred:.2f} s\")\n",
    "    print(f\"Word accuracy: {word_acc:.4f} ({correct_words}/{total_words})\")\n",
    "    return y_pred"
   ]
  },
  {
   "cell_type": "code",
   "execution_count": 8,
   "id": "cf683428",
   "metadata": {},
   "outputs": [],
   "source": [
    "def showFeatures(features, true_labels, predicted_labels, num=20):\n",
    "    plt.figure(figsize=(num, 4))\n",
    "\n",
    "    for i in range(num):\n",
    "        npfeature = np.array(features[i])\n",
    "        image = npfeature.reshape(16, 8)\n",
    "\n",
    "        true_char = i2l(true_labels[i])\n",
    "        pred_char = i2l(predicted_labels[i])\n",
    "\n",
    "        plt.subplot(1, num, i + 1)\n",
    "        plt.imshow(image, cmap='gray')\n",
    "        plt.title(f\"T:{true_char}\\nP:{pred_char}\", fontsize=8)\n",
    "        plt.axis('off')\n",
    "\n",
    "    plt.suptitle(\"Character Predictions — T: Truth, P: Predicted\", fontsize=12)\n",
    "    plt.tight_layout()\n",
    "    plt.show()"
   ]
  },
  {
   "cell_type": "code",
   "execution_count": 9,
   "id": "538f5c96",
   "metadata": {},
   "outputs": [],
   "source": [
    "dataset = read_OCR('OCRdataset/letter.data', d)"
   ]
  },
  {
   "cell_type": "code",
   "execution_count": 10,
   "id": "acb72c0d",
   "metadata": {},
   "outputs": [],
   "source": [
    "wordid_to_indices = defaultdict(list)\n",
    "for idx, wid in enumerate(dataset['word_ids']):\n",
    "    wordid_to_indices[wid].append(idx)"
   ]
  },
  {
   "cell_type": "markdown",
   "id": "30d95c68",
   "metadata": {},
   "source": [
    "# N_ITERATIONS = 1"
   ]
  },
  {
   "cell_type": "code",
   "execution_count": 11,
   "id": "0421dee1",
   "metadata": {},
   "outputs": [],
   "source": [
    "n_iter = 1"
   ]
  },
  {
   "cell_type": "markdown",
   "id": "e1834bf9",
   "metadata": {},
   "source": [
    "## L = 1"
   ]
  },
  {
   "cell_type": "code",
   "execution_count": 12,
   "id": "c67c2b28",
   "metadata": {},
   "outputs": [],
   "source": [
    "L = 1"
   ]
  },
  {
   "cell_type": "markdown",
   "id": "116cf681",
   "metadata": {},
   "source": [
    "### 4000/1000"
   ]
  },
  {
   "cell_type": "code",
   "execution_count": 13,
   "id": "b6828c0f",
   "metadata": {},
   "outputs": [],
   "source": [
    "features, labels, word_pos_info = format(dataset, N, L)\n",
    "TRAIN = 0.8\n",
    "model_path = 'ac1_1_82.obj'"
   ]
  },
  {
   "cell_type": "code",
   "execution_count": 14,
   "id": "6441eb37",
   "metadata": {},
   "outputs": [],
   "source": [
    "X_train, X_test = features[:int(N * TRAIN)], features[int(N * TRAIN):]\n",
    "y_train, y_test = labels[:int(N * TRAIN)], labels[int(N * TRAIN):]\n",
    "id_train, id_test = word_pos_info[:int(N * TRAIN)], word_pos_info[int(N * TRAIN):]"
   ]
  },
  {
   "cell_type": "code",
   "execution_count": 15,
   "id": "78504791",
   "metadata": {},
   "outputs": [
    {
     "name": "stdout",
     "output_type": "stream",
     "text": [
      "Training time elapsed: 0.24 s\n",
      "Training accuracy: 0.8628\n"
     ]
    }
   ],
   "source": [
    "lr = LogisticRegression(max_iter=200)\n",
    "\n",
    "model, vec = train_auto_context(lr, X_train, y_train, n_iter, L, model_path)"
   ]
  },
  {
   "cell_type": "code",
   "execution_count": 16,
   "id": "019e4808",
   "metadata": {},
   "outputs": [
    {
     "name": "stdout",
     "output_type": "stream",
     "text": [
      "Testing time elapsed: 0.00 s\n",
      "Testing accuracy: 0.7280\n",
      "Word accuracy: 0.7117 (659/926)\n"
     ]
    },
    {
     "data": {
      "image/png": "[encoded data removed]",
      "text/plain": [
       "<Figure size 2000x400 with 20 Axes>"
      ]
     },
     "metadata": {},
     "output_type": "display_data"
    }
   ],
   "source": [
    "y_pred = test_auto_context(model, X_test, y_test, id_test, n_iter, L, model_path)\n",
    "\n",
    "features_flat = []\n",
    "true_flat = []\n",
    "pred_flat = []\n",
    "\n",
    "for (wid, pos), true_label, pred_label in zip(id_test, y_test, y_pred):\n",
    "    idx = wordid_to_indices[wid][pos]\n",
    "    features_flat.append(dataset['features'][idx])\n",
    "    true_flat.append(true_label)\n",
    "    pred_flat.append(pred_label)\n",
    "\n",
    "showFeatures(features_flat, true_flat, pred_flat, num=20)"
   ]
  },
  {
   "cell_type": "markdown",
   "id": "6978f43f",
   "metadata": {},
   "source": [
    "### 2500/2500"
   ]
  },
  {
   "cell_type": "code",
   "execution_count": 17,
   "id": "0d37dc12",
   "metadata": {},
   "outputs": [],
   "source": [
    "features, labels, word_pos_info = format(dataset, N, L)\n",
    "TRAIN = 0.5\n",
    "model_path = 'ac1_1_55.obj'"
   ]
  },
  {
   "cell_type": "code",
   "execution_count": 18,
   "id": "a5467554",
   "metadata": {},
   "outputs": [],
   "source": [
    "X_train, X_test = features[:int(N * TRAIN)], features[int(N * TRAIN):]\n",
    "y_train, y_test = labels[:int(N * TRAIN)], labels[int(N * TRAIN):]\n",
    "id_train, id_test = word_pos_info[:int(N * TRAIN)], word_pos_info[int(N * TRAIN):]"
   ]
  },
  {
   "cell_type": "code",
   "execution_count": 19,
   "id": "d95c409b",
   "metadata": {},
   "outputs": [
    {
     "name": "stdout",
     "output_type": "stream",
     "text": [
      "Training time elapsed: 0.13 s\n",
      "Training accuracy: 0.8956\n"
     ]
    }
   ],
   "source": [
    "lr = LogisticRegression(max_iter=200)\n",
    "\n",
    "model, vec = train_auto_context(lr, X_train, y_train, n_iter, L, model_path)"
   ]
  },
  {
   "cell_type": "code",
   "execution_count": 20,
   "id": "6c7e30a5",
   "metadata": {},
   "outputs": [
    {
     "name": "stdout",
     "output_type": "stream",
     "text": [
      "Testing time elapsed: 0.00 s\n",
      "Testing accuracy: 0.6852\n",
      "Word accuracy: 0.6439 (1338/2078)\n"
     ]
    },
    {
     "data": {
      "image/png": "[encoded data removed]",
      "text/plain": [
       "<Figure size 2000x400 with 20 Axes>"
      ]
     },
     "metadata": {},
     "output_type": "display_data"
    }
   ],
   "source": [
    "y_pred = test_auto_context(model, X_test, y_test, id_test, n_iter, L, model_path)\n",
    "\n",
    "features_flat = []\n",
    "true_flat = []\n",
    "pred_flat = []\n",
    "\n",
    "for (wid, pos), true_label, pred_label in zip(id_test, y_test, y_pred):\n",
    "    idx = wordid_to_indices[wid][pos]\n",
    "    features_flat.append(dataset['features'][idx])\n",
    "    true_flat.append(true_label)\n",
    "    pred_flat.append(pred_label)\n",
    "\n",
    "showFeatures(features_flat, true_flat, pred_flat, num=20)"
   ]
  },
  {
   "cell_type": "markdown",
   "id": "75b491ed",
   "metadata": {},
   "source": [
    "### 1000/4000"
   ]
  },
  {
   "cell_type": "code",
   "execution_count": 21,
   "id": "ea47de4e",
   "metadata": {},
   "outputs": [],
   "source": [
    "features, labels, word_pos_info = format(dataset, N, L)\n",
    "TRAIN = 0.2\n",
    "model_path = 'ac1_1_28.obj'"
   ]
  },
  {
   "cell_type": "code",
   "execution_count": 22,
   "id": "5e72d507",
   "metadata": {},
   "outputs": [],
   "source": [
    "X_train, X_test = features[:int(N * TRAIN)], features[int(N * TRAIN):]\n",
    "y_train, y_test = labels[:int(N * TRAIN)], labels[int(N * TRAIN):]\n",
    "id_train, id_test = word_pos_info[:int(N * TRAIN)], word_pos_info[int(N * TRAIN):]"
   ]
  },
  {
   "cell_type": "code",
   "execution_count": 23,
   "id": "1beb0633",
   "metadata": {},
   "outputs": [
    {
     "name": "stdout",
     "output_type": "stream",
     "text": [
      "Training time elapsed: 0.06 s\n",
      "Training accuracy: 0.9620\n"
     ]
    }
   ],
   "source": [
    "lr = LogisticRegression(max_iter=200)\n",
    "\n",
    "model, vec = train_auto_context(lr, X_train, y_train, n_iter, L, model_path)"
   ]
  },
  {
   "cell_type": "code",
   "execution_count": 24,
   "id": "1582ebed",
   "metadata": {},
   "outputs": [
    {
     "name": "stdout",
     "output_type": "stream",
     "text": [
      "Testing time elapsed: 0.00 s\n",
      "Testing accuracy: 0.6535\n",
      "Word accuracy: 0.5892 (1777/3016)\n"
     ]
    },
    {
     "data": {
      "image/png": "[encoded data removed]",
      "text/plain": [
       "<Figure size 2000x400 with 20 Axes>"
      ]
     },
     "metadata": {},
     "output_type": "display_data"
    }
   ],
   "source": [
    "y_pred = test_auto_context(model, X_test, y_test, id_test, n_iter, L, model_path)\n",
    "\n",
    "features_flat = []\n",
    "true_flat = []\n",
    "pred_flat = []\n",
    "\n",
    "for (wid, pos), true_label, pred_label in zip(id_test, y_test, y_pred):\n",
    "    idx = wordid_to_indices[wid][pos]\n",
    "    features_flat.append(dataset['features'][idx])\n",
    "    true_flat.append(true_label)\n",
    "    pred_flat.append(pred_label)\n",
    "\n",
    "showFeatures(features_flat, true_flat, pred_flat, num=20)"
   ]
  },
  {
   "cell_type": "markdown",
   "id": "f1b44276",
   "metadata": {},
   "source": [
    "## L = 2"
   ]
  },
  {
   "cell_type": "code",
   "execution_count": 25,
   "id": "ea41df46",
   "metadata": {},
   "outputs": [],
   "source": [
    "L = 2"
   ]
  },
  {
   "cell_type": "markdown",
   "id": "3684b949",
   "metadata": {},
   "source": [
    "### 4000/1000"
   ]
  },
  {
   "cell_type": "code",
   "execution_count": 26,
   "id": "1b84ddfd",
   "metadata": {},
   "outputs": [],
   "source": [
    "features, labels, word_pos_info = format(dataset, N, L)\n",
    "TRAIN = 0.8\n",
    "model_path = 'ac1_2_82.obj'"
   ]
  },
  {
   "cell_type": "code",
   "execution_count": 27,
   "id": "c5a9becc",
   "metadata": {},
   "outputs": [],
   "source": [
    "X_train, X_test = features[:int(N * TRAIN)], features[int(N * TRAIN):]\n",
    "y_train, y_test = labels[:int(N * TRAIN)], labels[int(N * TRAIN):]\n",
    "id_train, id_test = word_pos_info[:int(N * TRAIN)], word_pos_info[int(N * TRAIN):]"
   ]
  },
  {
   "cell_type": "code",
   "execution_count": 28,
   "id": "b34b75ae",
   "metadata": {},
   "outputs": [
    {
     "name": "stdout",
     "output_type": "stream",
     "text": [
      "Training time elapsed: 0.24 s\n",
      "Training accuracy: 0.8695\n"
     ]
    }
   ],
   "source": [
    "lr = LogisticRegression(max_iter=200)\n",
    "\n",
    "model, vec = train_auto_context(lr, X_train, y_train, n_iter, L, model_path)"
   ]
  },
  {
   "cell_type": "code",
   "execution_count": 29,
   "id": "64993d66",
   "metadata": {},
   "outputs": [
    {
     "name": "stdout",
     "output_type": "stream",
     "text": [
      "Testing time elapsed: 0.00 s\n",
      "Testing accuracy: 0.7150\n",
      "Word accuracy: 0.7099 (668/941)\n"
     ]
    },
    {
     "data": {
      "image/png": "[encoded data removed]",
      "text/plain": [
       "<Figure size 2000x400 with 20 Axes>"
      ]
     },
     "metadata": {},
     "output_type": "display_data"
    }
   ],
   "source": [
    "y_pred = test_auto_context(model, X_test, y_test, id_test, n_iter, L, model_path)\n",
    "\n",
    "features_flat = []\n",
    "true_flat = []\n",
    "pred_flat = []\n",
    "\n",
    "for (wid, pos), true_label, pred_label in zip(id_test, y_test, y_pred):\n",
    "    idx = wordid_to_indices[wid][pos]\n",
    "    features_flat.append(dataset['features'][idx])\n",
    "    true_flat.append(true_label)\n",
    "    pred_flat.append(pred_label)\n",
    "\n",
    "showFeatures(features_flat, true_flat, pred_flat, num=20)"
   ]
  },
  {
   "cell_type": "markdown",
   "id": "9df09ea4",
   "metadata": {},
   "source": [
    "### 2500/2500"
   ]
  },
  {
   "cell_type": "code",
   "execution_count": 30,
   "id": "81acab41",
   "metadata": {},
   "outputs": [],
   "source": [
    "features, labels, word_pos_info = format(dataset, N, L)\n",
    "TRAIN = 0.5\n",
    "model_path = 'ac1_2_55.obj'"
   ]
  },
  {
   "cell_type": "code",
   "execution_count": 31,
   "id": "eaf79835",
   "metadata": {},
   "outputs": [],
   "source": [
    "X_train, X_test = features[:int(N * TRAIN)], features[int(N * TRAIN):]\n",
    "y_train, y_test = labels[:int(N * TRAIN)], labels[int(N * TRAIN):]\n",
    "id_train, id_test = word_pos_info[:int(N * TRAIN)], word_pos_info[int(N * TRAIN):]"
   ]
  },
  {
   "cell_type": "code",
   "execution_count": 32,
   "id": "92af73a8",
   "metadata": {},
   "outputs": [
    {
     "name": "stdout",
     "output_type": "stream",
     "text": [
      "Training time elapsed: 0.13 s\n",
      "Training accuracy: 0.9072\n"
     ]
    }
   ],
   "source": [
    "lr = LogisticRegression(max_iter=200)\n",
    "\n",
    "model, vec = train_auto_context(lr, X_train, y_train, n_iter, L, model_path)"
   ]
  },
  {
   "cell_type": "code",
   "execution_count": 33,
   "id": "37edbcc5",
   "metadata": {},
   "outputs": [
    {
     "name": "stdout",
     "output_type": "stream",
     "text": [
      "Testing time elapsed: 0.00 s\n",
      "Testing accuracy: 0.7080\n",
      "Word accuracy: 0.6654 (1388/2086)\n"
     ]
    },
    {
     "data": {
      "image/png": "[encoded data removed]",
      "text/plain": [
       "<Figure size 2000x400 with 20 Axes>"
      ]
     },
     "metadata": {},
     "output_type": "display_data"
    }
   ],
   "source": [
    "y_pred = test_auto_context(model, X_test, y_test, id_test, n_iter, L, model_path)\n",
    "\n",
    "features_flat = []\n",
    "true_flat = []\n",
    "pred_flat = []\n",
    "\n",
    "for (wid, pos), true_label, pred_label in zip(id_test, y_test, y_pred):\n",
    "    idx = wordid_to_indices[wid][pos]\n",
    "    features_flat.append(dataset['features'][idx])\n",
    "    true_flat.append(true_label)\n",
    "    pred_flat.append(pred_label)\n",
    "\n",
    "showFeatures(features_flat, true_flat, pred_flat, num=20)"
   ]
  },
  {
   "cell_type": "markdown",
   "id": "60d61669",
   "metadata": {},
   "source": [
    "### 1000/4000"
   ]
  },
  {
   "cell_type": "code",
   "execution_count": 34,
   "id": "acdbc19b",
   "metadata": {},
   "outputs": [],
   "source": [
    "features, labels, word_pos_info = format(dataset, N, L)\n",
    "TRAIN = 0.2\n",
    "model_path = 'ac1_2_28.obj'"
   ]
  },
  {
   "cell_type": "code",
   "execution_count": 35,
   "id": "874ce1b2",
   "metadata": {},
   "outputs": [],
   "source": [
    "X_train, X_test = features[:int(N * TRAIN)], features[int(N * TRAIN):]\n",
    "y_train, y_test = labels[:int(N * TRAIN)], labels[int(N * TRAIN):]\n",
    "id_train, id_test = word_pos_info[:int(N * TRAIN)], word_pos_info[int(N * TRAIN):]"
   ]
  },
  {
   "cell_type": "code",
   "execution_count": 36,
   "id": "c965742d",
   "metadata": {},
   "outputs": [
    {
     "name": "stdout",
     "output_type": "stream",
     "text": [
      "Training time elapsed: 0.06 s\n",
      "Training accuracy: 0.9620\n"
     ]
    }
   ],
   "source": [
    "lr = LogisticRegression(max_iter=200)\n",
    "\n",
    "model, vec = train_auto_context(lr, X_train, y_train, n_iter, L, model_path)"
   ]
  },
  {
   "cell_type": "code",
   "execution_count": 37,
   "id": "0d7518b2",
   "metadata": {},
   "outputs": [
    {
     "name": "stdout",
     "output_type": "stream",
     "text": [
      "Testing time elapsed: 0.00 s\n",
      "Testing accuracy: 0.6430\n",
      "Word accuracy: 0.5783 (1757/3038)\n"
     ]
    },
    {
     "data": {
      "image/png": "[encoded data removed]",
      "text/plain": [
       "<Figure size 2000x400 with 20 Axes>"
      ]
     },
     "metadata": {},
     "output_type": "display_data"
    }
   ],
   "source": [
    "y_pred = test_auto_context(model, X_test, y_test, id_test, n_iter, L, model_path)\n",
    "\n",
    "features_flat = []\n",
    "true_flat = []\n",
    "pred_flat = []\n",
    "\n",
    "for (wid, pos), true_label, pred_label in zip(id_test, y_test, y_pred):\n",
    "    idx = wordid_to_indices[wid][pos]\n",
    "    features_flat.append(dataset['features'][idx])\n",
    "    true_flat.append(true_label)\n",
    "    pred_flat.append(pred_label)\n",
    "\n",
    "showFeatures(features_flat, true_flat, pred_flat, num=20)"
   ]
  },
  {
   "cell_type": "markdown",
   "id": "b83bf640",
   "metadata": {},
   "source": [
    "## L = 3"
   ]
  },
  {
   "cell_type": "code",
   "execution_count": 38,
   "id": "02f82fe7",
   "metadata": {},
   "outputs": [],
   "source": [
    "L = 3"
   ]
  },
  {
   "cell_type": "markdown",
   "id": "a5fbeed3",
   "metadata": {},
   "source": [
    "### 4000/1000"
   ]
  },
  {
   "cell_type": "code",
   "execution_count": 39,
   "id": "d93bac31",
   "metadata": {},
   "outputs": [],
   "source": [
    "features, labels, word_pos_info = format(dataset, N, L)\n",
    "TRAIN = 0.8\n",
    "model_path = 'ac1_3_82.obj'"
   ]
  },
  {
   "cell_type": "code",
   "execution_count": 40,
   "id": "d44f2a88",
   "metadata": {},
   "outputs": [],
   "source": [
    "X_train, X_test = features[:int(N * TRAIN)], features[int(N * TRAIN):]\n",
    "y_train, y_test = labels[:int(N * TRAIN)], labels[int(N * TRAIN):]\n",
    "id_train, id_test = word_pos_info[:int(N * TRAIN)], word_pos_info[int(N * TRAIN):]"
   ]
  },
  {
   "cell_type": "code",
   "execution_count": 41,
   "id": "6e363b87",
   "metadata": {},
   "outputs": [
    {
     "name": "stdout",
     "output_type": "stream",
     "text": [
      "Training time elapsed: 0.23 s\n",
      "Training accuracy: 0.8600\n"
     ]
    }
   ],
   "source": [
    "lr = LogisticRegression(max_iter=200)\n",
    "\n",
    "model, vec = train_auto_context(lr, X_train, y_train, n_iter, L, model_path)"
   ]
  },
  {
   "cell_type": "code",
   "execution_count": 42,
   "id": "dd9b7b75",
   "metadata": {},
   "outputs": [
    {
     "name": "stdout",
     "output_type": "stream",
     "text": [
      "Testing time elapsed: 0.00 s\n",
      "Testing accuracy: 0.7200\n",
      "Word accuracy: 0.7101 (659/928)\n"
     ]
    },
    {
     "data": {
      "image/png": "[encoded data removed]",
      "text/plain": [
       "<Figure size 2000x400 with 20 Axes>"
      ]
     },
     "metadata": {},
     "output_type": "display_data"
    }
   ],
   "source": [
    "y_pred = test_auto_context(model, X_test, y_test, id_test, n_iter, L, model_path)\n",
    "\n",
    "features_flat = []\n",
    "true_flat = []\n",
    "pred_flat = []\n",
    "\n",
    "for (wid, pos), true_label, pred_label in zip(id_test, y_test, y_pred):\n",
    "    idx = wordid_to_indices[wid][pos]\n",
    "    features_flat.append(dataset['features'][idx])\n",
    "    true_flat.append(true_label)\n",
    "    pred_flat.append(pred_label)\n",
    "\n",
    "showFeatures(features_flat, true_flat, pred_flat, num=20)"
   ]
  },
  {
   "cell_type": "markdown",
   "id": "00ec576e",
   "metadata": {},
   "source": [
    "### 2500/2500"
   ]
  },
  {
   "cell_type": "code",
   "execution_count": 43,
   "id": "4186fc24",
   "metadata": {},
   "outputs": [],
   "source": [
    "features, labels, word_pos_info = format(dataset, N, L)\n",
    "TRAIN = 0.5\n",
    "model_path = 'ac1_3_55.obj'"
   ]
  },
  {
   "cell_type": "code",
   "execution_count": 44,
   "id": "f6010a8c",
   "metadata": {},
   "outputs": [],
   "source": [
    "X_train, X_test = features[:int(N * TRAIN)], features[int(N * TRAIN):]\n",
    "y_train, y_test = labels[:int(N * TRAIN)], labels[int(N * TRAIN):]\n",
    "id_train, id_test = word_pos_info[:int(N * TRAIN)], word_pos_info[int(N * TRAIN):]"
   ]
  },
  {
   "cell_type": "code",
   "execution_count": 45,
   "id": "540f9a3a",
   "metadata": {},
   "outputs": [
    {
     "name": "stdout",
     "output_type": "stream",
     "text": [
      "Training time elapsed: 0.12 s\n",
      "Training accuracy: 0.8960\n"
     ]
    }
   ],
   "source": [
    "lr = LogisticRegression(max_iter=200)\n",
    "\n",
    "model, vec = train_auto_context(lr, X_train, y_train, n_iter, L, model_path)"
   ]
  },
  {
   "cell_type": "code",
   "execution_count": 46,
   "id": "28d903c1",
   "metadata": {},
   "outputs": [
    {
     "name": "stdout",
     "output_type": "stream",
     "text": [
      "Testing time elapsed: 0.00 s\n",
      "Testing accuracy: 0.6740\n",
      "Word accuracy: 0.6302 (1302/2066)\n"
     ]
    },
    {
     "data": {
      "image/png": "[encoded data removed]",
      "text/plain": [
       "<Figure size 2000x400 with 20 Axes>"
      ]
     },
     "metadata": {},
     "output_type": "display_data"
    }
   ],
   "source": [
    "y_pred = test_auto_context(model, X_test, y_test, id_test, n_iter, L, model_path)\n",
    "\n",
    "features_flat = []\n",
    "true_flat = []\n",
    "pred_flat = []\n",
    "\n",
    "for (wid, pos), true_label, pred_label in zip(id_test, y_test, y_pred):\n",
    "    idx = wordid_to_indices[wid][pos]\n",
    "    features_flat.append(dataset['features'][idx])\n",
    "    true_flat.append(true_label)\n",
    "    pred_flat.append(pred_label)\n",
    "\n",
    "showFeatures(features_flat, true_flat, pred_flat, num=20)"
   ]
  },
  {
   "cell_type": "markdown",
   "id": "1a964a0c",
   "metadata": {},
   "source": [
    "### 1000/4000"
   ]
  },
  {
   "cell_type": "code",
   "execution_count": 47,
   "id": "6d79709f",
   "metadata": {},
   "outputs": [],
   "source": [
    "features, labels, word_pos_info = format(dataset, N, L)\n",
    "TRAIN = 0.2\n",
    "model_path = 'ac1_3_28.obj'"
   ]
  },
  {
   "cell_type": "code",
   "execution_count": 48,
   "id": "61a7d11d",
   "metadata": {},
   "outputs": [],
   "source": [
    "X_train, X_test = features[:int(N * TRAIN)], features[int(N * TRAIN):]\n",
    "y_train, y_test = labels[:int(N * TRAIN)], labels[int(N * TRAIN):]\n",
    "id_train, id_test = word_pos_info[:int(N * TRAIN)], word_pos_info[int(N * TRAIN):]"
   ]
  },
  {
   "cell_type": "code",
   "execution_count": 49,
   "id": "bd9a8e51",
   "metadata": {},
   "outputs": [
    {
     "name": "stdout",
     "output_type": "stream",
     "text": [
      "Training time elapsed: 0.06 s\n",
      "Training accuracy: 0.9670\n"
     ]
    }
   ],
   "source": [
    "lr = LogisticRegression(max_iter=200)\n",
    "\n",
    "model, vec = train_auto_context(lr, X_train, y_train, n_iter, L, model_path)"
   ]
  },
  {
   "cell_type": "code",
   "execution_count": 50,
   "id": "2916e6da",
   "metadata": {},
   "outputs": [
    {
     "name": "stdout",
     "output_type": "stream",
     "text": [
      "Testing time elapsed: 0.00 s\n",
      "Testing accuracy: 0.6240\n",
      "Word accuracy: 0.5600 (1670/2982)\n"
     ]
    },
    {
     "data": {
      "image/png": "[encoded data removed]",
      "text/plain": [
       "<Figure size 2000x400 with 20 Axes>"
      ]
     },
     "metadata": {},
     "output_type": "display_data"
    }
   ],
   "source": [
    "y_pred = test_auto_context(model, X_test, y_test, id_test, n_iter, L, model_path)\n",
    "\n",
    "features_flat = []\n",
    "true_flat = []\n",
    "pred_flat = []\n",
    "\n",
    "for (wid, pos), true_label, pred_label in zip(id_test, y_test, y_pred):\n",
    "    idx = wordid_to_indices[wid][pos]\n",
    "    features_flat.append(dataset['features'][idx])\n",
    "    true_flat.append(true_label)\n",
    "    pred_flat.append(pred_label)\n",
    "\n",
    "showFeatures(features_flat, true_flat, pred_flat, num=20)"
   ]
  },
  {
   "cell_type": "markdown",
   "id": "b5d9290d",
   "metadata": {},
   "source": [
    "# N_ITERATIONS = 3"
   ]
  },
  {
   "cell_type": "code",
   "execution_count": 51,
   "id": "e011ee22",
   "metadata": {},
   "outputs": [],
   "source": [
    "n_iter = 3"
   ]
  },
  {
   "cell_type": "markdown",
   "id": "99cc9786",
   "metadata": {},
   "source": [
    "## L = 1"
   ]
  },
  {
   "cell_type": "code",
   "execution_count": 52,
   "id": "5efaf3f2",
   "metadata": {},
   "outputs": [],
   "source": [
    "L = 1"
   ]
  },
  {
   "cell_type": "markdown",
   "id": "d01b0bbb",
   "metadata": {},
   "source": [
    "### 4000/1000"
   ]
  },
  {
   "cell_type": "code",
   "execution_count": 53,
   "id": "3144f6ae",
   "metadata": {},
   "outputs": [],
   "source": [
    "features, labels, word_pos_info = format(dataset, N, L)\n",
    "TRAIN = 0.8\n",
    "model_path = 'ac3_1_82.obj'"
   ]
  },
  {
   "cell_type": "code",
   "execution_count": 54,
   "id": "2ca3f39c",
   "metadata": {},
   "outputs": [],
   "source": [
    "X_train, X_test = features[:int(N * TRAIN)], features[int(N * TRAIN):]\n",
    "y_train, y_test = labels[:int(N * TRAIN)], labels[int(N * TRAIN):]\n",
    "id_train, id_test = word_pos_info[:int(N * TRAIN)], word_pos_info[int(N * TRAIN):]"
   ]
  },
  {
   "cell_type": "code",
   "execution_count": 55,
   "id": "85e6a12e",
   "metadata": {},
   "outputs": [
    {
     "name": "stdout",
     "output_type": "stream",
     "text": [
      "Training time elapsed: 1.15 s\n",
      "Training accuracy: 0.8680\n"
     ]
    }
   ],
   "source": [
    "lr = LogisticRegression(max_iter=200)\n",
    "\n",
    "model, vec = train_auto_context(lr, X_train, y_train, n_iter, L, model_path)"
   ]
  },
  {
   "cell_type": "code",
   "execution_count": 56,
   "id": "ff2fa478",
   "metadata": {},
   "outputs": [
    {
     "name": "stdout",
     "output_type": "stream",
     "text": [
      "Testing time elapsed: 0.13 s\n",
      "Testing accuracy: 0.7090\n",
      "Prediction time elapsed: 0.00 s\n",
      "Word accuracy: 0.6957 (647/930)\n"
     ]
    },
    {
     "data": {
      "image/png": "[encoded data removed]",
      "text/plain": [
       "<Figure size 2000x400 with 20 Axes>"
      ]
     },
     "metadata": {},
     "output_type": "display_data"
    }
   ],
   "source": [
    "y_pred = test_auto_context(model, X_test, y_test, id_test, n_iter, L, model_path)\n",
    "\n",
    "features_flat = []\n",
    "true_flat = []\n",
    "pred_flat = []\n",
    "\n",
    "for (wid, pos), true_label, pred_label in zip(id_test, y_test, y_pred):\n",
    "    idx = wordid_to_indices[wid][pos]\n",
    "    features_flat.append(dataset['features'][idx])\n",
    "    true_flat.append(true_label)\n",
    "    pred_flat.append(pred_label)\n",
    "\n",
    "showFeatures(features_flat, true_flat, pred_flat, num=20)"
   ]
  },
  {
   "cell_type": "markdown",
   "id": "1cb03482",
   "metadata": {},
   "source": [
    "### 2500/2500"
   ]
  },
  {
   "cell_type": "code",
   "execution_count": 57,
   "id": "727ea30d",
   "metadata": {},
   "outputs": [],
   "source": [
    "features, labels, word_pos_info = format(dataset, N, L)\n",
    "TRAIN = 0.5\n",
    "model_path = 'ac3_1_55.obj'"
   ]
  },
  {
   "cell_type": "code",
   "execution_count": 58,
   "id": "78e7af0f",
   "metadata": {},
   "outputs": [],
   "source": [
    "X_train, X_test = features[:int(N * TRAIN)], features[int(N * TRAIN):]\n",
    "y_train, y_test = labels[:int(N * TRAIN)], labels[int(N * TRAIN):]\n",
    "id_train, id_test = word_pos_info[:int(N * TRAIN)], word_pos_info[int(N * TRAIN):]"
   ]
  },
  {
   "cell_type": "code",
   "execution_count": 59,
   "id": "4e24834a",
   "metadata": {},
   "outputs": [
    {
     "name": "stdout",
     "output_type": "stream",
     "text": [
      "Training time elapsed: 0.64 s\n",
      "Training accuracy: 0.9024\n"
     ]
    }
   ],
   "source": [
    "lr = LogisticRegression(max_iter=200)\n",
    "\n",
    "model, vec = train_auto_context(lr, X_train, y_train, n_iter, L, model_path)"
   ]
  },
  {
   "cell_type": "code",
   "execution_count": 60,
   "id": "05730e50",
   "metadata": {},
   "outputs": [
    {
     "name": "stdout",
     "output_type": "stream",
     "text": [
      "Testing time elapsed: 0.27 s\n",
      "Testing accuracy: 0.6796\n",
      "Prediction time elapsed: 0.00 s\n",
      "Word accuracy: 0.6405 (1336/2086)\n"
     ]
    },
    {
     "data": {
      "image/png": "[encoded data removed]",
      "text/plain": [
       "<Figure size 2000x400 with 20 Axes>"
      ]
     },
     "metadata": {},
     "output_type": "display_data"
    }
   ],
   "source": [
    "y_pred = test_auto_context(model, X_test, y_test, id_test, n_iter, L, model_path)\n",
    "\n",
    "features_flat = []\n",
    "true_flat = []\n",
    "pred_flat = []\n",
    "\n",
    "for (wid, pos), true_label, pred_label in zip(id_test, y_test, y_pred):\n",
    "    idx = wordid_to_indices[wid][pos]\n",
    "    features_flat.append(dataset['features'][idx])\n",
    "    true_flat.append(true_label)\n",
    "    pred_flat.append(pred_label)\n",
    "\n",
    "showFeatures(features_flat, true_flat, pred_flat, num=20)"
   ]
  },
  {
   "cell_type": "markdown",
   "id": "4f9de772",
   "metadata": {},
   "source": [
    "### 1000/4000"
   ]
  },
  {
   "cell_type": "code",
   "execution_count": 61,
   "id": "895aa6fe",
   "metadata": {},
   "outputs": [],
   "source": [
    "features, labels, word_pos_info = format(dataset, N, L)\n",
    "TRAIN = 0.2\n",
    "model_path = 'ac3_1_28.obj'"
   ]
  },
  {
   "cell_type": "code",
   "execution_count": 62,
   "id": "53e08c25",
   "metadata": {},
   "outputs": [],
   "source": [
    "X_train, X_test = features[:int(N * TRAIN)], features[int(N * TRAIN):]\n",
    "y_train, y_test = labels[:int(N * TRAIN)], labels[int(N * TRAIN):]\n",
    "id_train, id_test = word_pos_info[:int(N * TRAIN)], word_pos_info[int(N * TRAIN):]"
   ]
  },
  {
   "cell_type": "code",
   "execution_count": 63,
   "id": "8771295d",
   "metadata": {},
   "outputs": [
    {
     "name": "stdout",
     "output_type": "stream",
     "text": [
      "Training time elapsed: 0.31 s\n",
      "Training accuracy: 0.9720\n"
     ]
    }
   ],
   "source": [
    "lr = LogisticRegression(max_iter=200)\n",
    "\n",
    "model, vec = train_auto_context(lr, X_train, y_train, n_iter, L, model_path)"
   ]
  },
  {
   "cell_type": "code",
   "execution_count": 64,
   "id": "5bee3949",
   "metadata": {},
   "outputs": [
    {
     "name": "stdout",
     "output_type": "stream",
     "text": [
      "Testing time elapsed: 0.45 s\n",
      "Testing accuracy: 0.6315\n",
      "Prediction time elapsed: 0.00 s\n",
      "Word accuracy: 0.5609 (1695/3022)\n"
     ]
    },
    {
     "data": {
      "image/png": "[encoded data removed]",
      "text/plain": [
       "<Figure size 2000x400 with 20 Axes>"
      ]
     },
     "metadata": {},
     "output_type": "display_data"
    }
   ],
   "source": [
    "y_pred = test_auto_context(model, X_test, y_test, id_test, n_iter, L, model_path)\n",
    "\n",
    "features_flat = []\n",
    "true_flat = []\n",
    "pred_flat = []\n",
    "\n",
    "for (wid, pos), true_label, pred_label in zip(id_test, y_test, y_pred):\n",
    "    idx = wordid_to_indices[wid][pos]\n",
    "    features_flat.append(dataset['features'][idx])\n",
    "    true_flat.append(true_label)\n",
    "    pred_flat.append(pred_label)\n",
    "\n",
    "showFeatures(features_flat, true_flat, pred_flat, num=20)"
   ]
  },
  {
   "cell_type": "markdown",
   "id": "8f347a63",
   "metadata": {},
   "source": [
    "## L = 2"
   ]
  },
  {
   "cell_type": "code",
   "execution_count": 65,
   "id": "bcf79f26",
   "metadata": {},
   "outputs": [],
   "source": [
    "L = 2"
   ]
  },
  {
   "cell_type": "markdown",
   "id": "47aba95a",
   "metadata": {},
   "source": [
    "### 4000/1000"
   ]
  },
  {
   "cell_type": "code",
   "execution_count": 66,
   "id": "51d3caf3",
   "metadata": {},
   "outputs": [],
   "source": [
    "features, labels, word_pos_info = format(dataset, N, L)\n",
    "TRAIN = 0.8\n",
    "model_path = 'ac3_2_82.obj'"
   ]
  },
  {
   "cell_type": "code",
   "execution_count": 67,
   "id": "383a1fe2",
   "metadata": {},
   "outputs": [],
   "source": [
    "X_train, X_test = features[:int(N * TRAIN)], features[int(N * TRAIN):]\n",
    "y_train, y_test = labels[:int(N * TRAIN)], labels[int(N * TRAIN):]\n",
    "id_train, id_test = word_pos_info[:int(N * TRAIN)], word_pos_info[int(N * TRAIN):]"
   ]
  },
  {
   "cell_type": "code",
   "execution_count": 68,
   "id": "c2eafba4",
   "metadata": {},
   "outputs": [
    {
     "name": "stdout",
     "output_type": "stream",
     "text": [
      "Training time elapsed: 1.85 s\n",
      "Training accuracy: 0.8835\n"
     ]
    }
   ],
   "source": [
    "lr = LogisticRegression(max_iter=200)\n",
    "\n",
    "model, vec = train_auto_context(lr, X_train, y_train, n_iter, L, model_path)"
   ]
  },
  {
   "cell_type": "code",
   "execution_count": 69,
   "id": "452ccd83",
   "metadata": {},
   "outputs": [
    {
     "name": "stdout",
     "output_type": "stream",
     "text": [
      "Testing time elapsed: 0.20 s\n",
      "Testing accuracy: 0.7240\n",
      "Prediction time elapsed: 0.01 s\n",
      "Word accuracy: 0.7123 (661/928)\n"
     ]
    },
    {
     "data": {
      "image/png": "[encoded data removed]",
      "text/plain": [
       "<Figure size 2000x400 with 20 Axes>"
      ]
     },
     "metadata": {},
     "output_type": "display_data"
    }
   ],
   "source": [
    "y_pred = test_auto_context(model, X_test, y_test, id_test, n_iter, L, model_path)\n",
    "\n",
    "features_flat = []\n",
    "true_flat = []\n",
    "pred_flat = []\n",
    "\n",
    "for (wid, pos), true_label, pred_label in zip(id_test, y_test, y_pred):\n",
    "    idx = wordid_to_indices[wid][pos]\n",
    "    features_flat.append(dataset['features'][idx])\n",
    "    true_flat.append(true_label)\n",
    "    pred_flat.append(pred_label)\n",
    "\n",
    "showFeatures(features_flat, true_flat, pred_flat, num=20)"
   ]
  },
  {
   "cell_type": "markdown",
   "id": "ae8f91e0",
   "metadata": {},
   "source": [
    "### 2500/2500"
   ]
  },
  {
   "cell_type": "code",
   "execution_count": 70,
   "id": "06e653a2",
   "metadata": {},
   "outputs": [],
   "source": [
    "features, labels, word_pos_info = format(dataset, N, L)\n",
    "TRAIN = 0.5\n",
    "model_path = 'ac3_2_55.obj'"
   ]
  },
  {
   "cell_type": "code",
   "execution_count": 71,
   "id": "bc5fd883",
   "metadata": {},
   "outputs": [],
   "source": [
    "X_train, X_test = features[:int(N * TRAIN)], features[int(N * TRAIN):]\n",
    "y_train, y_test = labels[:int(N * TRAIN)], labels[int(N * TRAIN):]\n",
    "id_train, id_test = word_pos_info[:int(N * TRAIN)], word_pos_info[int(N * TRAIN):]"
   ]
  },
  {
   "cell_type": "code",
   "execution_count": 72,
   "id": "8b3fcafe",
   "metadata": {},
   "outputs": [
    {
     "name": "stdout",
     "output_type": "stream",
     "text": [
      "Training time elapsed: 1.02 s\n",
      "Training accuracy: 0.9216\n"
     ]
    }
   ],
   "source": [
    "lr = LogisticRegression(max_iter=200)\n",
    "\n",
    "model, vec = train_auto_context(lr, X_train, y_train, n_iter, L, model_path)"
   ]
  },
  {
   "cell_type": "code",
   "execution_count": 73,
   "id": "a3abf899",
   "metadata": {},
   "outputs": [
    {
     "name": "stdout",
     "output_type": "stream",
     "text": [
      "Testing time elapsed: 0.49 s\n",
      "Testing accuracy: 0.6856\n",
      "Prediction time elapsed: 0.00 s\n",
      "Word accuracy: 0.6492 (1360/2095)\n"
     ]
    },
    {
     "data": {
      "image/png": "[encoded data removed]",
      "text/plain": [
       "<Figure size 2000x400 with 20 Axes>"
      ]
     },
     "metadata": {},
     "output_type": "display_data"
    }
   ],
   "source": [
    "y_pred = test_auto_context(model, X_test, y_test, id_test, n_iter, L, model_path)\n",
    "\n",
    "features_flat = []\n",
    "true_flat = []\n",
    "pred_flat = []\n",
    "\n",
    "for (wid, pos), true_label, pred_label in zip(id_test, y_test, y_pred):\n",
    "    idx = wordid_to_indices[wid][pos]\n",
    "    features_flat.append(dataset['features'][idx])\n",
    "    true_flat.append(true_label)\n",
    "    pred_flat.append(pred_label)\n",
    "\n",
    "showFeatures(features_flat, true_flat, pred_flat, num=20)"
   ]
  },
  {
   "cell_type": "markdown",
   "id": "11b3bb34",
   "metadata": {},
   "source": [
    "### 1000/4000"
   ]
  },
  {
   "cell_type": "code",
   "execution_count": 74,
   "id": "a62c6857",
   "metadata": {},
   "outputs": [],
   "source": [
    "features, labels, word_pos_info = format(dataset, N, L)\n",
    "TRAIN = 0.2\n",
    "model_path = 'ac3_2_28.obj'"
   ]
  },
  {
   "cell_type": "code",
   "execution_count": 75,
   "id": "bababad6",
   "metadata": {},
   "outputs": [],
   "source": [
    "X_train, X_test = features[:int(N * TRAIN)], features[int(N * TRAIN):]\n",
    "y_train, y_test = labels[:int(N * TRAIN)], labels[int(N * TRAIN):]\n",
    "id_train, id_test = word_pos_info[:int(N * TRAIN)], word_pos_info[int(N * TRAIN):]"
   ]
  },
  {
   "cell_type": "code",
   "execution_count": 76,
   "id": "61c09de6",
   "metadata": {},
   "outputs": [
    {
     "name": "stdout",
     "output_type": "stream",
     "text": [
      "Training time elapsed: 0.39 s\n",
      "Training accuracy: 0.9820\n"
     ]
    }
   ],
   "source": [
    "lr = LogisticRegression(max_iter=200)\n",
    "\n",
    "model, vec = train_auto_context(lr, X_train, y_train, n_iter, L, model_path)"
   ]
  },
  {
   "cell_type": "code",
   "execution_count": 77,
   "id": "00d172b1",
   "metadata": {},
   "outputs": [
    {
     "name": "stdout",
     "output_type": "stream",
     "text": [
      "Testing time elapsed: 0.80 s\n",
      "Testing accuracy: 0.6295\n",
      "Prediction time elapsed: 0.00 s\n",
      "Word accuracy: 0.5598 (1685/3010)\n"
     ]
    },
    {
     "data": {
      "image/png": "[encoded data removed]",
      "text/plain": [
       "<Figure size 2000x400 with 20 Axes>"
      ]
     },
     "metadata": {},
     "output_type": "display_data"
    }
   ],
   "source": [
    "y_pred = test_auto_context(model, X_test, y_test, id_test, n_iter, L, model_path)\n",
    "\n",
    "features_flat = []\n",
    "true_flat = []\n",
    "pred_flat = []\n",
    "\n",
    "for (wid, pos), true_label, pred_label in zip(id_test, y_test, y_pred):\n",
    "    idx = wordid_to_indices[wid][pos]\n",
    "    features_flat.append(dataset['features'][idx])\n",
    "    true_flat.append(true_label)\n",
    "    pred_flat.append(pred_label)\n",
    "\n",
    "showFeatures(features_flat, true_flat, pred_flat, num=20)"
   ]
  },
  {
   "cell_type": "markdown",
   "id": "232cda95",
   "metadata": {},
   "source": [
    "## L = 3"
   ]
  },
  {
   "cell_type": "code",
   "execution_count": 78,
   "id": "d28e7574",
   "metadata": {},
   "outputs": [],
   "source": [
    "L = 3"
   ]
  },
  {
   "cell_type": "markdown",
   "id": "f1e2009f",
   "metadata": {},
   "source": [
    "### 4000/1000"
   ]
  },
  {
   "cell_type": "code",
   "execution_count": 79,
   "id": "16d196db",
   "metadata": {},
   "outputs": [],
   "source": [
    "features, labels, word_pos_info = format(dataset, N, L)\n",
    "TRAIN = 0.8\n",
    "model_path = 'ac3_3_82.obj'"
   ]
  },
  {
   "cell_type": "code",
   "execution_count": 80,
   "id": "dab9ef25",
   "metadata": {},
   "outputs": [],
   "source": [
    "X_train, X_test = features[:int(N * TRAIN)], features[int(N * TRAIN):]\n",
    "y_train, y_test = labels[:int(N * TRAIN)], labels[int(N * TRAIN):]\n",
    "id_train, id_test = word_pos_info[:int(N * TRAIN)], word_pos_info[int(N * TRAIN):]"
   ]
  },
  {
   "cell_type": "code",
   "execution_count": 81,
   "id": "291da4ae",
   "metadata": {},
   "outputs": [
    {
     "name": "stdout",
     "output_type": "stream",
     "text": [
      "Training time elapsed: 1.69 s\n",
      "Training accuracy: 0.8878\n"
     ]
    }
   ],
   "source": [
    "lr = LogisticRegression(max_iter=200)\n",
    "\n",
    "model, vec = train_auto_context(lr, X_train, y_train, n_iter, L, model_path)"
   ]
  },
  {
   "cell_type": "code",
   "execution_count": 82,
   "id": "91ca0b3f",
   "metadata": {},
   "outputs": [
    {
     "name": "stdout",
     "output_type": "stream",
     "text": [
      "Testing time elapsed: 0.23 s\n",
      "Testing accuracy: 0.7210\n",
      "Prediction time elapsed: 0.01 s\n",
      "Word accuracy: 0.7015 (637/908)\n"
     ]
    },
    {
     "data": {
      "image/png": "[encoded data removed]",
      "text/plain": [
       "<Figure size 2000x400 with 20 Axes>"
      ]
     },
     "metadata": {},
     "output_type": "display_data"
    }
   ],
   "source": [
    "y_pred = test_auto_context(model, X_test, y_test, id_test, n_iter, L, model_path)\n",
    "\n",
    "features_flat = []\n",
    "true_flat = []\n",
    "pred_flat = []\n",
    "\n",
    "for (wid, pos), true_label, pred_label in zip(id_test, y_test, y_pred):\n",
    "    idx = wordid_to_indices[wid][pos]\n",
    "    features_flat.append(dataset['features'][idx])\n",
    "    true_flat.append(true_label)\n",
    "    pred_flat.append(pred_label)\n",
    "\n",
    "showFeatures(features_flat, true_flat, pred_flat, num=20)"
   ]
  },
  {
   "cell_type": "markdown",
   "id": "cc3f6c50",
   "metadata": {},
   "source": [
    "### 2500/2500"
   ]
  },
  {
   "cell_type": "code",
   "execution_count": 83,
   "id": "064806ab",
   "metadata": {},
   "outputs": [],
   "source": [
    "features, labels, word_pos_info = format(dataset, N, L)\n",
    "TRAIN = 0.5\n",
    "model_path = 'ac3_3_55.obj'"
   ]
  },
  {
   "cell_type": "code",
   "execution_count": 84,
   "id": "b64aa5e0",
   "metadata": {},
   "outputs": [],
   "source": [
    "X_train, X_test = features[:int(N * TRAIN)], features[int(N * TRAIN):]\n",
    "y_train, y_test = labels[:int(N * TRAIN)], labels[int(N * TRAIN):]\n",
    "id_train, id_test = word_pos_info[:int(N * TRAIN)], word_pos_info[int(N * TRAIN):]"
   ]
  },
  {
   "cell_type": "code",
   "execution_count": 85,
   "id": "80653389",
   "metadata": {},
   "outputs": [
    {
     "name": "stdout",
     "output_type": "stream",
     "text": [
      "Training time elapsed: 1.01 s\n",
      "Training accuracy: 0.9192\n"
     ]
    }
   ],
   "source": [
    "lr = LogisticRegression(max_iter=200)\n",
    "\n",
    "model, vec = train_auto_context(lr, X_train, y_train, n_iter, L, model_path)"
   ]
  },
  {
   "cell_type": "code",
   "execution_count": 86,
   "id": "34866810",
   "metadata": {},
   "outputs": [
    {
     "name": "stdout",
     "output_type": "stream",
     "text": [
      "Testing time elapsed: 0.52 s\n",
      "Testing accuracy: 0.6852\n",
      "Prediction time elapsed: 0.00 s\n",
      "Word accuracy: 0.6443 (1337/2075)\n"
     ]
    },
    {
     "data": {
      "image/png": "[encoded data removed]",
      "text/plain": [
       "<Figure size 2000x400 with 20 Axes>"
      ]
     },
     "metadata": {},
     "output_type": "display_data"
    }
   ],
   "source": [
    "y_pred = test_auto_context(model, X_test, y_test, id_test, n_iter, L, model_path)\n",
    "\n",
    "features_flat = []\n",
    "true_flat = []\n",
    "pred_flat = []\n",
    "\n",
    "for (wid, pos), true_label, pred_label in zip(id_test, y_test, y_pred):\n",
    "    idx = wordid_to_indices[wid][pos]\n",
    "    features_flat.append(dataset['features'][idx])\n",
    "    true_flat.append(true_label)\n",
    "    pred_flat.append(pred_label)\n",
    "\n",
    "showFeatures(features_flat, true_flat, pred_flat, num=20)"
   ]
  },
  {
   "cell_type": "markdown",
   "id": "62f800c1",
   "metadata": {},
   "source": [
    "### 1000/4000"
   ]
  },
  {
   "cell_type": "code",
   "execution_count": 87,
   "id": "0a4f8162",
   "metadata": {},
   "outputs": [],
   "source": [
    "features, labels, word_pos_info = format(dataset, N, L)\n",
    "TRAIN = 0.2\n",
    "model_path = 'ac3_3_28.obj'"
   ]
  },
  {
   "cell_type": "code",
   "execution_count": 88,
   "id": "079ac601",
   "metadata": {},
   "outputs": [],
   "source": [
    "X_train, X_test = features[:int(N * TRAIN)], features[int(N * TRAIN):]\n",
    "y_train, y_test = labels[:int(N * TRAIN)], labels[int(N * TRAIN):]\n",
    "id_train, id_test = word_pos_info[:int(N * TRAIN)], word_pos_info[int(N * TRAIN):]"
   ]
  },
  {
   "cell_type": "code",
   "execution_count": 89,
   "id": "b4086b69",
   "metadata": {},
   "outputs": [
    {
     "name": "stdout",
     "output_type": "stream",
     "text": [
      "Training time elapsed: 0.46 s\n",
      "Training accuracy: 0.9710\n"
     ]
    }
   ],
   "source": [
    "lr = LogisticRegression(max_iter=200)\n",
    "\n",
    "model, vec = train_auto_context(lr, X_train, y_train, n_iter, L, model_path)"
   ]
  },
  {
   "cell_type": "code",
   "execution_count": 90,
   "id": "215f7758",
   "metadata": {},
   "outputs": [
    {
     "name": "stdout",
     "output_type": "stream",
     "text": [
      "Testing time elapsed: 0.80 s\n",
      "Testing accuracy: 0.6418\n",
      "Prediction time elapsed: 0.00 s\n",
      "Word accuracy: 0.5797 (1763/3041)\n"
     ]
    },
    {
     "data": {
      "image/png": "[encoded data removed]",
      "text/plain": [
       "<Figure size 2000x400 with 20 Axes>"
      ]
     },
     "metadata": {},
     "output_type": "display_data"
    }
   ],
   "source": [
    "y_pred = test_auto_context(model, X_test, y_test, id_test, n_iter, L, model_path)\n",
    "\n",
    "features_flat = []\n",
    "true_flat = []\n",
    "pred_flat = []\n",
    "\n",
    "for (wid, pos), true_label, pred_label in zip(id_test, y_test, y_pred):\n",
    "    idx = wordid_to_indices[wid][pos]\n",
    "    features_flat.append(dataset['features'][idx])\n",
    "    true_flat.append(true_label)\n",
    "    pred_flat.append(pred_label)\n",
    "\n",
    "showFeatures(features_flat, true_flat, pred_flat, num=20)"
   ]
  },
  {
   "cell_type": "markdown",
   "id": "687635b9",
   "metadata": {},
   "source": [
    "# N_ITERATIONS = 5"
   ]
  },
  {
   "cell_type": "code",
   "execution_count": 91,
   "id": "e51d40ec",
   "metadata": {},
   "outputs": [],
   "source": [
    "n_iter = 5"
   ]
  },
  {
   "cell_type": "markdown",
   "id": "0fabafbb",
   "metadata": {},
   "source": [
    "## L = 1"
   ]
  },
  {
   "cell_type": "code",
   "execution_count": 92,
   "id": "d5e4e6e6",
   "metadata": {},
   "outputs": [],
   "source": [
    "L = 1"
   ]
  },
  {
   "cell_type": "markdown",
   "id": "8128dcc3",
   "metadata": {},
   "source": [
    "### 4000/1000"
   ]
  },
  {
   "cell_type": "code",
   "execution_count": 93,
   "id": "3843e5ab",
   "metadata": {},
   "outputs": [],
   "source": [
    "features, labels, word_pos_info = format(dataset, N, L)\n",
    "TRAIN = 0.8\n",
    "model_path = 'ac5_1_82.obj'"
   ]
  },
  {
   "cell_type": "code",
   "execution_count": 94,
   "id": "37d53700",
   "metadata": {},
   "outputs": [],
   "source": [
    "X_train, X_test = features[:int(N * TRAIN)], features[int(N * TRAIN):]\n",
    "y_train, y_test = labels[:int(N * TRAIN)], labels[int(N * TRAIN):]\n",
    "id_train, id_test = word_pos_info[:int(N * TRAIN)], word_pos_info[int(N * TRAIN):]"
   ]
  },
  {
   "cell_type": "code",
   "execution_count": 95,
   "id": "7783d616",
   "metadata": {},
   "outputs": [
    {
     "name": "stdout",
     "output_type": "stream",
     "text": [
      "Training time elapsed: 2.31 s\n",
      "Training accuracy: 0.8580\n"
     ]
    }
   ],
   "source": [
    "lr = LogisticRegression(max_iter=200)\n",
    "\n",
    "model, vec = train_auto_context(lr, X_train, y_train, n_iter, L, model_path)"
   ]
  },
  {
   "cell_type": "code",
   "execution_count": 96,
   "id": "3c137dc2",
   "metadata": {},
   "outputs": [
    {
     "name": "stdout",
     "output_type": "stream",
     "text": [
      "Testing time elapsed: 0.19 s\n",
      "Testing accuracy: 0.7110\n",
      "Prediction time elapsed: 0.00 s\n",
      "Word accuracy: 0.6999 (653/933)\n"
     ]
    },
    {
     "data": {
      "image/png": "[encoded data removed]",
      "text/plain": [
       "<Figure size 2000x400 with 20 Axes>"
      ]
     },
     "metadata": {},
     "output_type": "display_data"
    }
   ],
   "source": [
    "y_pred = test_auto_context(model, X_test, y_test, id_test, n_iter, L, model_path)\n",
    "\n",
    "features_flat = []\n",
    "true_flat = []\n",
    "pred_flat = []\n",
    "\n",
    "for (wid, pos), true_label, pred_label in zip(id_test, y_test, y_pred):\n",
    "    idx = wordid_to_indices[wid][pos]\n",
    "    features_flat.append(dataset['features'][idx])\n",
    "    true_flat.append(true_label)\n",
    "    pred_flat.append(pred_label)\n",
    "\n",
    "showFeatures(features_flat, true_flat, pred_flat, num=20)"
   ]
  },
  {
   "cell_type": "markdown",
   "id": "9c92e0b2",
   "metadata": {},
   "source": [
    "### 2500/2500"
   ]
  },
  {
   "cell_type": "code",
   "execution_count": 97,
   "id": "cf2a18d5",
   "metadata": {},
   "outputs": [],
   "source": [
    "features, labels, word_pos_info = format(dataset, N, L)\n",
    "TRAIN = 0.5\n",
    "model_path = 'ac5_1_55.obj'"
   ]
  },
  {
   "cell_type": "code",
   "execution_count": 98,
   "id": "9d361a5e",
   "metadata": {},
   "outputs": [],
   "source": [
    "X_train, X_test = features[:int(N * TRAIN)], features[int(N * TRAIN):]\n",
    "y_train, y_test = labels[:int(N * TRAIN)], labels[int(N * TRAIN):]\n",
    "id_train, id_test = word_pos_info[:int(N * TRAIN)], word_pos_info[int(N * TRAIN):]"
   ]
  },
  {
   "cell_type": "code",
   "execution_count": 99,
   "id": "db372804",
   "metadata": {},
   "outputs": [
    {
     "name": "stdout",
     "output_type": "stream",
     "text": [
      "Training time elapsed: 1.25 s\n",
      "Training accuracy: 0.9072\n"
     ]
    }
   ],
   "source": [
    "lr = LogisticRegression(max_iter=200)\n",
    "\n",
    "model, vec = train_auto_context(lr, X_train, y_train, n_iter, L, model_path)"
   ]
  },
  {
   "cell_type": "code",
   "execution_count": 100,
   "id": "d1795043",
   "metadata": {},
   "outputs": [
    {
     "name": "stdout",
     "output_type": "stream",
     "text": [
      "Testing time elapsed: 0.46 s\n",
      "Testing accuracy: 0.7132\n",
      "Prediction time elapsed: 0.01 s\n",
      "Word accuracy: 0.6773 (1404/2073)\n"
     ]
    },
    {
     "data": {
      "image/png": "[encoded data removed]",
      "text/plain": [
       "<Figure size 2000x400 with 20 Axes>"
      ]
     },
     "metadata": {},
     "output_type": "display_data"
    }
   ],
   "source": [
    "y_pred = test_auto_context(model, X_test, y_test, id_test, n_iter, L, model_path)\n",
    "\n",
    "features_flat = []\n",
    "true_flat = []\n",
    "pred_flat = []\n",
    "\n",
    "for (wid, pos), true_label, pred_label in zip(id_test, y_test, y_pred):\n",
    "    idx = wordid_to_indices[wid][pos]\n",
    "    features_flat.append(dataset['features'][idx])\n",
    "    true_flat.append(true_label)\n",
    "    pred_flat.append(pred_label)\n",
    "\n",
    "showFeatures(features_flat, true_flat, pred_flat, num=20)"
   ]
  },
  {
   "cell_type": "markdown",
   "id": "c32f3b82",
   "metadata": {},
   "source": [
    "### 1000/4000"
   ]
  },
  {
   "cell_type": "code",
   "execution_count": 101,
   "id": "bf292a47",
   "metadata": {},
   "outputs": [],
   "source": [
    "features, labels, word_pos_info = format(dataset, N, L)\n",
    "TRAIN = 0.2\n",
    "model_path = 'ac5_1_28.obj'"
   ]
  },
  {
   "cell_type": "code",
   "execution_count": 102,
   "id": "90bee9f1",
   "metadata": {},
   "outputs": [],
   "source": [
    "X_train, X_test = features[:int(N * TRAIN)], features[int(N * TRAIN):]\n",
    "y_train, y_test = labels[:int(N * TRAIN)], labels[int(N * TRAIN):]\n",
    "id_train, id_test = word_pos_info[:int(N * TRAIN)], word_pos_info[int(N * TRAIN):]"
   ]
  },
  {
   "cell_type": "code",
   "execution_count": 103,
   "id": "0c0f9eae",
   "metadata": {},
   "outputs": [
    {
     "name": "stdout",
     "output_type": "stream",
     "text": [
      "Training time elapsed: 0.46 s\n",
      "Training accuracy: 0.9640\n"
     ]
    }
   ],
   "source": [
    "lr = LogisticRegression(max_iter=200)\n",
    "\n",
    "model, vec = train_auto_context(lr, X_train, y_train, n_iter, L, model_path)"
   ]
  },
  {
   "cell_type": "code",
   "execution_count": 104,
   "id": "7c66e4a6",
   "metadata": {},
   "outputs": [
    {
     "name": "stdout",
     "output_type": "stream",
     "text": [
      "Testing time elapsed: 0.75 s\n",
      "Testing accuracy: 0.6583\n",
      "Prediction time elapsed: 0.00 s\n",
      "Word accuracy: 0.5951 (1786/3001)\n"
     ]
    },
    {
     "data": {
      "image/png": "[encoded data removed]",
      "text/plain": [
       "<Figure size 2000x400 with 20 Axes>"
      ]
     },
     "metadata": {},
     "output_type": "display_data"
    }
   ],
   "source": [
    "y_pred = test_auto_context(model, X_test, y_test, id_test, n_iter, L, model_path)\n",
    "\n",
    "features_flat = []\n",
    "true_flat = []\n",
    "pred_flat = []\n",
    "\n",
    "for (wid, pos), true_label, pred_label in zip(id_test, y_test, y_pred):\n",
    "    idx = wordid_to_indices[wid][pos]\n",
    "    features_flat.append(dataset['features'][idx])\n",
    "    true_flat.append(true_label)\n",
    "    pred_flat.append(pred_label)\n",
    "\n",
    "showFeatures(features_flat, true_flat, pred_flat, num=20)"
   ]
  },
  {
   "cell_type": "markdown",
   "id": "a21c66ad",
   "metadata": {},
   "source": [
    "## L = 2"
   ]
  },
  {
   "cell_type": "code",
   "execution_count": 105,
   "id": "01d8ed8b",
   "metadata": {},
   "outputs": [],
   "source": [
    "L = 2"
   ]
  },
  {
   "cell_type": "markdown",
   "id": "d5102bda",
   "metadata": {},
   "source": [
    "### 4000/1000"
   ]
  },
  {
   "cell_type": "code",
   "execution_count": 106,
   "id": "885efdec",
   "metadata": {},
   "outputs": [],
   "source": [
    "features, labels, word_pos_info = format(dataset, N, L)\n",
    "TRAIN = 0.8\n",
    "model_path = 'ac5_2_82.obj'"
   ]
  },
  {
   "cell_type": "code",
   "execution_count": 107,
   "id": "f2517f68",
   "metadata": {},
   "outputs": [],
   "source": [
    "X_train, X_test = features[:int(N * TRAIN)], features[int(N * TRAIN):]\n",
    "y_train, y_test = labels[:int(N * TRAIN)], labels[int(N * TRAIN):]\n",
    "id_train, id_test = word_pos_info[:int(N * TRAIN)], word_pos_info[int(N * TRAIN):]"
   ]
  },
  {
   "cell_type": "code",
   "execution_count": 108,
   "id": "f98f0ec5",
   "metadata": {},
   "outputs": [
    {
     "name": "stdout",
     "output_type": "stream",
     "text": [
      "Training time elapsed: 2.93 s\n",
      "Training accuracy: 0.9002\n"
     ]
    }
   ],
   "source": [
    "lr = LogisticRegression(max_iter=200)\n",
    "\n",
    "model, vec = train_auto_context(lr, X_train, y_train, n_iter, L, model_path)"
   ]
  },
  {
   "cell_type": "code",
   "execution_count": 109,
   "id": "6910ed87",
   "metadata": {},
   "outputs": [
    {
     "name": "stdout",
     "output_type": "stream",
     "text": [
      "Testing time elapsed: 0.35 s\n",
      "Testing accuracy: 0.7200\n",
      "Prediction time elapsed: 0.00 s\n",
      "Word accuracy: 0.7123 (671/942)\n"
     ]
    },
    {
     "data": {
      "image/png": "[encoded data removed]",
      "text/plain": [
       "<Figure size 2000x400 with 20 Axes>"
      ]
     },
     "metadata": {},
     "output_type": "display_data"
    }
   ],
   "source": [
    "y_pred = test_auto_context(model, X_test, y_test, id_test, n_iter, L, model_path)\n",
    "\n",
    "features_flat = []\n",
    "true_flat = []\n",
    "pred_flat = []\n",
    "\n",
    "for (wid, pos), true_label, pred_label in zip(id_test, y_test, y_pred):\n",
    "    idx = wordid_to_indices[wid][pos]\n",
    "    features_flat.append(dataset['features'][idx])\n",
    "    true_flat.append(true_label)\n",
    "    pred_flat.append(pred_label)\n",
    "\n",
    "showFeatures(features_flat, true_flat, pred_flat, num=20)"
   ]
  },
  {
   "cell_type": "markdown",
   "id": "b911afbd",
   "metadata": {},
   "source": [
    "### 2500/2500"
   ]
  },
  {
   "cell_type": "code",
   "execution_count": 110,
   "id": "2784c560",
   "metadata": {},
   "outputs": [],
   "source": [
    "features, labels, word_pos_info = format(dataset, N, L)\n",
    "TRAIN = 0.5\n",
    "model_path = 'ac5_2_55.obj'"
   ]
  },
  {
   "cell_type": "code",
   "execution_count": 111,
   "id": "45a558c6",
   "metadata": {},
   "outputs": [],
   "source": [
    "X_train, X_test = features[:int(N * TRAIN)], features[int(N * TRAIN):]\n",
    "y_train, y_test = labels[:int(N * TRAIN)], labels[int(N * TRAIN):]\n",
    "id_train, id_test = word_pos_info[:int(N * TRAIN)], word_pos_info[int(N * TRAIN):]"
   ]
  },
  {
   "cell_type": "code",
   "execution_count": 112,
   "id": "5ccad4a8",
   "metadata": {},
   "outputs": [
    {
     "name": "stdout",
     "output_type": "stream",
     "text": [
      "Training time elapsed: 1.82 s\n",
      "Training accuracy: 0.9236\n"
     ]
    }
   ],
   "source": [
    "lr = LogisticRegression(max_iter=200)\n",
    "\n",
    "model, vec = train_auto_context(lr, X_train, y_train, n_iter, L, model_path)"
   ]
  },
  {
   "cell_type": "code",
   "execution_count": 113,
   "id": "5476c97f",
   "metadata": {},
   "outputs": [
    {
     "name": "stdout",
     "output_type": "stream",
     "text": [
      "Testing time elapsed: 0.85 s\n",
      "Testing accuracy: 0.7064\n",
      "Prediction time elapsed: 0.01 s\n",
      "Word accuracy: 0.6736 (1416/2102)\n"
     ]
    },
    {
     "data": {
      "image/png": "[encoded data removed]",
      "text/plain": [
       "<Figure size 2000x400 with 20 Axes>"
      ]
     },
     "metadata": {},
     "output_type": "display_data"
    }
   ],
   "source": [
    "y_pred = test_auto_context(model, X_test, y_test, id_test, n_iter, L, model_path)\n",
    "\n",
    "features_flat = []\n",
    "true_flat = []\n",
    "pred_flat = []\n",
    "\n",
    "for (wid, pos), true_label, pred_label in zip(id_test, y_test, y_pred):\n",
    "    idx = wordid_to_indices[wid][pos]\n",
    "    features_flat.append(dataset['features'][idx])\n",
    "    true_flat.append(true_label)\n",
    "    pred_flat.append(pred_label)\n",
    "\n",
    "showFeatures(features_flat, true_flat, pred_flat, num=20)"
   ]
  },
  {
   "cell_type": "markdown",
   "id": "9ca0e868",
   "metadata": {},
   "source": [
    "### 1000/4000"
   ]
  },
  {
   "cell_type": "code",
   "execution_count": 114,
   "id": "be8aab62",
   "metadata": {},
   "outputs": [],
   "source": [
    "features, labels, word_pos_info = format(dataset, N, L)\n",
    "TRAIN = 0.2\n",
    "model_path = 'ac5_2_28.obj'"
   ]
  },
  {
   "cell_type": "code",
   "execution_count": 115,
   "id": "4afd45eb",
   "metadata": {},
   "outputs": [],
   "source": [
    "X_train, X_test = features[:int(N * TRAIN)], features[int(N * TRAIN):]\n",
    "y_train, y_test = labels[:int(N * TRAIN)], labels[int(N * TRAIN):]\n",
    "id_train, id_test = word_pos_info[:int(N * TRAIN)], word_pos_info[int(N * TRAIN):]"
   ]
  },
  {
   "cell_type": "code",
   "execution_count": 116,
   "id": "9752c3a0",
   "metadata": {},
   "outputs": [
    {
     "name": "stdout",
     "output_type": "stream",
     "text": [
      "Training time elapsed: 0.77 s\n",
      "Training accuracy: 0.9870\n"
     ]
    }
   ],
   "source": [
    "lr = LogisticRegression(max_iter=200)\n",
    "\n",
    "model, vec = train_auto_context(lr, X_train, y_train, n_iter, L, model_path)"
   ]
  },
  {
   "cell_type": "code",
   "execution_count": 117,
   "id": "c765b1b5",
   "metadata": {},
   "outputs": [
    {
     "name": "stdout",
     "output_type": "stream",
     "text": [
      "Testing time elapsed: 1.36 s\n",
      "Testing accuracy: 0.6432\n",
      "Prediction time elapsed: 0.02 s\n",
      "Word accuracy: 0.5766 (1716/2976)\n"
     ]
    },
    {
     "data": {
      "image/png": "[encoded data removed]",
      "text/plain": [
       "<Figure size 2000x400 with 20 Axes>"
      ]
     },
     "metadata": {},
     "output_type": "display_data"
    }
   ],
   "source": [
    "y_pred = test_auto_context(model, X_test, y_test, id_test, n_iter, L, model_path)\n",
    "\n",
    "features_flat = []\n",
    "true_flat = []\n",
    "pred_flat = []\n",
    "\n",
    "for (wid, pos), true_label, pred_label in zip(id_test, y_test, y_pred):\n",
    "    idx = wordid_to_indices[wid][pos]\n",
    "    features_flat.append(dataset['features'][idx])\n",
    "    true_flat.append(true_label)\n",
    "    pred_flat.append(pred_label)\n",
    "\n",
    "showFeatures(features_flat, true_flat, pred_flat, num=20)"
   ]
  },
  {
   "cell_type": "markdown",
   "id": "0bfd0b7c",
   "metadata": {},
   "source": [
    "## L = 3"
   ]
  },
  {
   "cell_type": "code",
   "execution_count": 118,
   "id": "96dae3f4",
   "metadata": {},
   "outputs": [],
   "source": [
    "L = 3"
   ]
  },
  {
   "cell_type": "markdown",
   "id": "fe752a74",
   "metadata": {},
   "source": [
    "### 4000/1000"
   ]
  },
  {
   "cell_type": "code",
   "execution_count": 119,
   "id": "2ca605e2",
   "metadata": {},
   "outputs": [],
   "source": [
    "features, labels, word_pos_info = format(dataset, N, L)\n",
    "TRAIN = 0.8\n",
    "model_path = 'ac5_3_82.obj'"
   ]
  },
  {
   "cell_type": "code",
   "execution_count": 120,
   "id": "f79fd163",
   "metadata": {},
   "outputs": [],
   "source": [
    "X_train, X_test = features[:int(N * TRAIN)], features[int(N * TRAIN):]\n",
    "y_train, y_test = labels[:int(N * TRAIN)], labels[int(N * TRAIN):]\n",
    "id_train, id_test = word_pos_info[:int(N * TRAIN)], word_pos_info[int(N * TRAIN):]"
   ]
  },
  {
   "cell_type": "code",
   "execution_count": 121,
   "id": "8cb7ded3",
   "metadata": {},
   "outputs": [
    {
     "name": "stdout",
     "output_type": "stream",
     "text": [
      "Training time elapsed: 2.76 s\n",
      "Training accuracy: 0.8942\n"
     ]
    }
   ],
   "source": [
    "lr = LogisticRegression(max_iter=200)\n",
    "\n",
    "model, vec = train_auto_context(lr, X_train, y_train, n_iter, L, model_path)"
   ]
  },
  {
   "cell_type": "code",
   "execution_count": 122,
   "id": "5e5ed0de",
   "metadata": {},
   "outputs": [
    {
     "name": "stdout",
     "output_type": "stream",
     "text": [
      "Testing time elapsed: 0.33 s\n",
      "Testing accuracy: 0.7120\n",
      "Prediction time elapsed: 0.00 s\n",
      "Word accuracy: 0.7094 (659/929)\n"
     ]
    },
    {
     "data": {
      "image/png": "[encoded data removed]",
      "text/plain": [
       "<Figure size 2000x400 with 20 Axes>"
      ]
     },
     "metadata": {},
     "output_type": "display_data"
    }
   ],
   "source": [
    "y_pred = test_auto_context(model, X_test, y_test, id_test, n_iter, L, model_path)\n",
    "\n",
    "features_flat = []\n",
    "true_flat = []\n",
    "pred_flat = []\n",
    "\n",
    "for (wid, pos), true_label, pred_label in zip(id_test, y_test, y_pred):\n",
    "    idx = wordid_to_indices[wid][pos]\n",
    "    features_flat.append(dataset['features'][idx])\n",
    "    true_flat.append(true_label)\n",
    "    pred_flat.append(pred_label)\n",
    "\n",
    "showFeatures(features_flat, true_flat, pred_flat, num=20)"
   ]
  },
  {
   "cell_type": "markdown",
   "id": "f59314ee",
   "metadata": {},
   "source": [
    "### 2500/2500"
   ]
  },
  {
   "cell_type": "code",
   "execution_count": 123,
   "id": "9f1646fa",
   "metadata": {},
   "outputs": [],
   "source": [
    "features, labels, word_pos_info = format(dataset, N, L)\n",
    "TRAIN = 0.5\n",
    "model_path = 'ac5_3_55.obj'"
   ]
  },
  {
   "cell_type": "code",
   "execution_count": 124,
   "id": "ee0e1aee",
   "metadata": {},
   "outputs": [],
   "source": [
    "X_train, X_test = features[:int(N * TRAIN)], features[int(N * TRAIN):]\n",
    "y_train, y_test = labels[:int(N * TRAIN)], labels[int(N * TRAIN):]\n",
    "id_train, id_test = word_pos_info[:int(N * TRAIN)], word_pos_info[int(N * TRAIN):]"
   ]
  },
  {
   "cell_type": "code",
   "execution_count": 125,
   "id": "dc166699",
   "metadata": {},
   "outputs": [
    {
     "name": "stdout",
     "output_type": "stream",
     "text": [
      "Training time elapsed: 1.80 s\n",
      "Training accuracy: 0.9224\n"
     ]
    }
   ],
   "source": [
    "lr = LogisticRegression(max_iter=200)\n",
    "\n",
    "model, vec = train_auto_context(lr, X_train, y_train, n_iter, L, model_path)"
   ]
  },
  {
   "cell_type": "code",
   "execution_count": 126,
   "id": "3bbe3ee5",
   "metadata": {},
   "outputs": [
    {
     "name": "stdout",
     "output_type": "stream",
     "text": [
      "Testing time elapsed: 0.84 s\n",
      "Testing accuracy: 0.6912\n",
      "Prediction time elapsed: 0.01 s\n",
      "Word accuracy: 0.6577 (1370/2083)\n"
     ]
    },
    {
     "data": {
      "image/png": "[encoded data removed]",
      "text/plain": [
       "<Figure size 2000x400 with 20 Axes>"
      ]
     },
     "metadata": {},
     "output_type": "display_data"
    }
   ],
   "source": [
    "y_pred = test_auto_context(model, X_test, y_test, id_test, n_iter, L, model_path)\n",
    "\n",
    "features_flat = []\n",
    "true_flat = []\n",
    "pred_flat = []\n",
    "\n",
    "for (wid, pos), true_label, pred_label in zip(id_test, y_test, y_pred):\n",
    "    idx = wordid_to_indices[wid][pos]\n",
    "    features_flat.append(dataset['features'][idx])\n",
    "    true_flat.append(true_label)\n",
    "    pred_flat.append(pred_label)\n",
    "\n",
    "showFeatures(features_flat, true_flat, pred_flat, num=20)"
   ]
  },
  {
   "cell_type": "markdown",
   "id": "be56a9ca",
   "metadata": {},
   "source": [
    "### 1000/4000"
   ]
  },
  {
   "cell_type": "code",
   "execution_count": 127,
   "id": "43e729d6",
   "metadata": {},
   "outputs": [],
   "source": [
    "features, labels, word_pos_info = format(dataset, N, L)\n",
    "TRAIN = 0.2\n",
    "model_path = 'ac5_3_28.obj'"
   ]
  },
  {
   "cell_type": "code",
   "execution_count": 128,
   "id": "c46cbe47",
   "metadata": {},
   "outputs": [],
   "source": [
    "X_train, X_test = features[:int(N * TRAIN)], features[int(N * TRAIN):]\n",
    "y_train, y_test = labels[:int(N * TRAIN)], labels[int(N * TRAIN):]\n",
    "id_train, id_test = word_pos_info[:int(N * TRAIN)], word_pos_info[int(N * TRAIN):]"
   ]
  },
  {
   "cell_type": "code",
   "execution_count": 129,
   "id": "0c150b6a",
   "metadata": {},
   "outputs": [
    {
     "name": "stdout",
     "output_type": "stream",
     "text": [
      "Training time elapsed: 0.68 s\n",
      "Training accuracy: 0.9830\n"
     ]
    }
   ],
   "source": [
    "lr = LogisticRegression(max_iter=200)\n",
    "\n",
    "model, vec = train_auto_context(lr, X_train, y_train, n_iter, L, model_path)"
   ]
  },
  {
   "cell_type": "code",
   "execution_count": 130,
   "id": "70f4b74a",
   "metadata": {},
   "outputs": [
    {
     "name": "stdout",
     "output_type": "stream",
     "text": [
      "Testing time elapsed: 1.39 s\n",
      "Testing accuracy: 0.6320\n",
      "Prediction time elapsed: 0.01 s\n",
      "Word accuracy: 0.5659 (1670/2951)\n"
     ]
    },
    {
     "data": {
      "image/png": "[encoded data removed]",
      "text/plain": [
       "<Figure size 2000x400 with 20 Axes>"
      ]
     },
     "metadata": {},
     "output_type": "display_data"
    },
    {
     "name": "stderr",
     "output_type": "stream",
     "text": [
      "Bad pipe message: %s [b'V8\\xa5\\xae\\xfd\\xf8$\\xc2\\xb8\\x8d\\xc9\\xc7\\xe6\\x95u\\xb2\\x14\\xbe K\\x1dc\\x9e,\\xc1;\\x07Vg\\xeeI0V\\xa1\\x85KE\\x06u$\\x17G\\xf57\\xfc\\xda\\xde\\xafw\\x81\\xc8\\x00 ::\\x13\\x01\\x13\\x02\\x13\\x03\\xc0+\\xc0/\\xc0,\\xc00\\xcc\\xa9\\xcc\\xa8\\xc0\\x13\\xc0\\x14\\x00\\x9c\\x00\\x9d\\x00/\\x005\\x01\\x00\\x06S\\xba\\xba\\x00\\x00\\x00#\\x00\\x00\\xfe\\r\\x00\\xda\\x00\\x00\\x01\\x00\\x01\\x08\\x00 \\xb0\\xd1+;\\xeb\\xabt\\x96\\xa75[\\xee\\xb8q3\\x7f\\x86#9\\xb53[\\xc1f\\xe6d\\xaf\\t\\xafH\\xcd', b'\\xb0H\\x1b\\xf5cZ\\xe3\\x8a']\n",
      "Bad pipe message: %s [b'E\\x88\\x81\\xb4~]J\\x1ex:\\x9b]\\xbe\\xd4$\\x82\\x90! P\\x11y\\xb0\\x83uH\\xfe\\xa0\\xc4O\\x9a=\\xf6e\\x9d\\x02n\\xc6!\\xaa\\xcao\\xe0\\x86 \\x02~%S\\xa4.\\x00 \\xda\\xda\\x13\\x01\\x13\\x02\\x13\\x03\\xc0+\\xc0/\\xc0,\\xc00\\xcc\\xa9\\xcc\\xa8\\xc0\\x13\\xc0\\x14\\x00\\x9c\\x00\\x9d\\x00/\\x005\\x01\\x00\\x06\\x93zz\\x00\\x00D\\xcd\\x00\\x05\\x00\\x03\\x02h2\\x00\\n\\x00\\x0c\\x00\\njj\\x11\\xec\\x00\\x1d\\x00\\x17\\x00\\x18\\x00\\x10\\x00\\x0e\\x00\\x0c\\x02h2\\x08http/1.1\\x00+\\x00\\x07\\x06JJ\\x03\\x04\\x03\\x03\\x00\\r\\x00\\x12\\x00\\x10\\x04\\x03\\x08\\x04\\x04\\x01\\x05\\x03\\x08\\x05\\x05\\x01\\x08\\x06']\n",
      "Bad pipe message: %s [b\"\\xd5\\xf1\\xa5\\xe1s\\xa1^\\x03h\\xb5Dw\\x15\\xee\\x85\\xcaq\\xc1.pt\\xce0\\x7f\\x04gQ\\x98\\x06*\\x9d\\xc3\\xeaH'd%\\xf1\\xdea\\xed\\x92\\x18\\r\\xdc\\xb9\\xa99~+\\x0c=\\x9et\\x03\\x0b\\xe9\\x12\\xb3PC\\x9a\\xec\\x93X$\\xa1E\\xeapX\\x8b\\x7f\\x02\\xd4\\xe4;\\xb9fg}\\x8e\\xd1\\xaf\\x9c\\xa4\\xa6r\\xa2\\x93\\xd8\\xc2\\x11\\xa4E\\xac%\\xc0\\xe6\\x14\\xff\\xe5E\\xc5\\xdc6\\xe3\\xfd$]8\\xcb\", b'>\\xeev\\xca\\x91\\r\"\\xba\\xc9w\\xc8}\\x15\\x8a[m\\xbc\\xb6\\xb1g\\x1d\\xe6\\x1c\\x18FA\\xebaI\\x96G\\x8ef]\\xf3\\xa4D\\xc5X\\x9e\\xc6PR\\xcf\\xe3\\x11q\\xd2\\n\\x87\\x00\\xf3\\xb5\\x00\\x1b\\x00\\x03\\x02\\x00\\x02\\x00-\\x00\\x02\\x01\\x01\\x00\\x10\\x00\\x0e\\x00\\x0c\\x02h2\\x08http/1.1\\x00\\x17\\x00\\x00\\x00+\\x00\\x07\\x06\\x8a\\x8a\\x03\\x04\\x03\\x03\\x00\\n\\x00\\x0c\\x00\\n\\xca\\xca\\x11\\xec\\x00\\x1d\\x00\\x17\\x00\\x18\\x00\\x12\\x00\\x00\\x00\\x0b\\x00\\x02\\x01\\x00\\x00\\r\\x00\\x12\\x00\\x10']\n",
      "Bad pipe message: %s [b'\\x08\\x04\\x04', b'', b'\\x05\\x05']\n",
      "Bad pipe message: %s [b'']\n",
      "Bad pipe message: %s [b'\\x01D\\xcd\\x00\\x05']\n"
     ]
    }
   ],
   "source": [
    "y_pred = test_auto_context(model, X_test, y_test, id_test, n_iter, L, model_path)\n",
    "\n",
    "features_flat = []\n",
    "true_flat = []\n",
    "pred_flat = []\n",
    "\n",
    "for (wid, pos), true_label, pred_label in zip(id_test, y_test, y_pred):\n",
    "    idx = wordid_to_indices[wid][pos]\n",
    "    features_flat.append(dataset['features'][idx])\n",
    "    true_flat.append(true_label)\n",
    "    pred_flat.append(pred_label)\n",
    "\n",
    "showFeatures(features_flat, true_flat, pred_flat, num=20)"
   ]
  },
  {
   "cell_type": "code",
   "execution_count": null,
   "id": "9ce51ce2",
   "metadata": {},
   "outputs": [],
   "source": []
  }
 ],
 "metadata": {
  "kernelspec": {
   "display_name": "venv",
   "language": "python",
   "name": "python3"
  },
  "language_info": {
   "codemirror_mode": {
    "name": "ipython",
    "version": 3
   },
   "file_extension": ".py",
   "mimetype": "text/x-python",
   "name": "python",
   "nbconvert_exporter": "python",
   "pygments_lexer": "ipython3",
   "version": "3.11.9"
  }
 },
 "nbformat": 4,
 "nbformat_minor": 5
}
