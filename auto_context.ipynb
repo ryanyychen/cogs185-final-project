{
 "cells": [
  {
   "cell_type": "code",
   "execution_count": 1,
   "id": "af806254",
   "metadata": {},
   "outputs": [],
   "source": [
    "import warnings; warnings.simplefilter('ignore')\n",
    "\n",
    "import re\n",
    "import copy\n",
    "import string\n",
    "import timeit\n",
    "import pickle\n",
    "import random\n",
    "import numpy as np\n",
    "import matplotlib.pyplot as plt\n",
    "from collections import defaultdict\n",
    "\n",
    "from sklearn.linear_model import LogisticRegression\n",
    "from sklearn.feature_extraction import DictVectorizer\n",
    "from sklearn.metrics import accuracy_score\n",
    "\n",
    "%matplotlib inline"
   ]
  },
  {
   "cell_type": "code",
   "execution_count": 2,
   "id": "77f38889",
   "metadata": {},
   "outputs": [],
   "source": [
    "# Number of examples\n",
    "N = 5000\n",
    "# Length of a feature\n",
    "d = 128"
   ]
  },
  {
   "cell_type": "code",
   "execution_count": 3,
   "id": "477e24db",
   "metadata": {},
   "outputs": [],
   "source": [
    "def l2i(a):\n",
    "        return int(ord(a)-ord('a'))\n",
    "def i2l(i):\n",
    "    if i >= 0:\n",
    "        return chr(i+ord('a'))\n",
    "    else:\n",
    "        return '_'\n",
    "def iors(s):\n",
    "    try:\n",
    "        return int(s)\n",
    "    except ValueError: # if it is a string, return a string\n",
    "        return s"
   ]
  },
  {
   "cell_type": "code",
   "execution_count": 4,
   "id": "033b5df7",
   "metadata": {},
   "outputs": [],
   "source": [
    "def read_OCR(filename, n_features):\n",
    "    F = open(filename)\n",
    "    dataset = {}\n",
    "    dataset['ids'] = []#np.zeros(n_examples, dtype=int)\n",
    "    dataset['labels'] = []#np.zeros(n_examples,dtype=int)\n",
    "    dataset['labelDic'] = {} # To profile the distribution of labels\n",
    "    dataset['next_ids'] = []#np.zeros(n_examples,dtype=int)\n",
    "    dataset['word_ids'] = []#np.zeros(n_examples,dtype=int)\n",
    "    dataset['positions'] = []#np.zeros(n_examples,dtype=int)\n",
    "    dataset['folds'] = []#np.zeros(n_examples,dtype=int)\n",
    "    dataset['features'] = []#np.zeros([n_examples,n_features])\n",
    "    \n",
    "    for str_line in F.readlines():\n",
    "        #line0 = map(iors, filter(None, re.split('\\t', str_line.strip())))\n",
    "        ## ATTENTION: If you are using Python3, use the following line instead\n",
    "        line0 = list(map(iors, filter(None, re.split('\\t', str_line.strip()))))\n",
    "\n",
    "\n",
    "        dataset['ids'].append(int(line0.pop(0)))\n",
    "        dataset['labels'].append(l2i(line0.pop(0))) # The label is converted into integer('a'=>0, 'z'=>25)\n",
    "        if dataset['labels'][-1] in dataset['labelDic']:\n",
    "            dataset['labelDic'][dataset['labels'][-1]] += 1\n",
    "        else:\n",
    "            dataset['labelDic'][dataset['labels'][-1]] = 1\n",
    "            \n",
    "        dataset['next_ids'].append(int(line0.pop(0)))\n",
    "        dataset['word_ids'].append(int(line0.pop(0)))\n",
    "        dataset['positions'].append(int(line0.pop(0)))\n",
    "        dataset['folds'].append(int(line0.pop(0)))\n",
    "        if len(line0) != 128:  # Sanity check of the length\n",
    "            print (len(line0))\n",
    "        dataset['features'].append(line0)\n",
    "\n",
    "    return dataset"
   ]
  },
  {
   "cell_type": "code",
   "execution_count": 5,
   "id": "16bd9b2c",
   "metadata": {},
   "outputs": [],
   "source": [
    "def format(dataset, N, L):\n",
    "    # Group by words\n",
    "    words = defaultdict(lambda: {'features': [], 'labels': []})\n",
    "    for i in range(len(dataset['features'])):\n",
    "        word_id = dataset['word_ids'][i]\n",
    "        feats = dataset['features'][i]\n",
    "        label = dataset['labels'][i]\n",
    "        words[word_id]['features'].append(feats)\n",
    "        words[word_id]['labels'].append(label)\n",
    "        \n",
    "    all_X = []\n",
    "    all_y = []\n",
    "    word_pos_info = []\n",
    "\n",
    "    word_ids = list(words.keys())\n",
    "\n",
    "    for wid in word_ids:\n",
    "        feats = words[wid]['features']\n",
    "        labels = words[wid]['labels']\n",
    "        length = len(feats)\n",
    "        \n",
    "        if length < L:\n",
    "            continue\n",
    "\n",
    "        for i in range(length):\n",
    "            feature_dict = {f\"f_{j}\": val for j, val in enumerate(feats[i])}\n",
    "            all_X.append(feature_dict)\n",
    "            all_y.append(labels[i])\n",
    "            word_pos_info.append((wid, i))\n",
    "\n",
    "    # Randomly sample N sequences\n",
    "    combined = list(zip(all_X, all_y, word_pos_info))\n",
    "    random.shuffle(combined)\n",
    "    combined = combined[:N]\n",
    "    X, y, word_pos_info = zip(*combined)\n",
    "\n",
    "    return list(X), list(y), list(word_pos_info)"
   ]
  },
  {
   "cell_type": "code",
   "execution_count": 6,
   "id": "0a264839",
   "metadata": {},
   "outputs": [],
   "source": [
    "def train_auto_context(model, X_train, y_train, num_iterations, L, save_path):\n",
    "    vec = DictVectorizer(sparse=False)\n",
    "    X_train_vec = vec.fit_transform(X_train)\n",
    "\n",
    "    # Training the model\n",
    "    train_start = timeit.default_timer()\n",
    "    for step in range(num_iterations):\n",
    "        model.fit(X_train_vec, y_train)\n",
    "\n",
    "        probs = model.predict_proba(X_train_vec)\n",
    "        num_classes = len(probs[0])\n",
    "\n",
    "        new_X_train = []\n",
    "        for i in range(len(X_train)):\n",
    "            feat = dict(X_train[i])\n",
    "            for offset in range(-(L // 2), L // 2 + 1):\n",
    "                if offset == 0:\n",
    "                    continue\n",
    "                pos = i + offset\n",
    "                if 0 <= pos < len(probs):\n",
    "                    for k in range(num_classes):\n",
    "                        feat[f\"context_{offset:+}_{k}\"] = probs[pos][k]\n",
    "            new_X_train.append(feat)\n",
    "        X_train_vec = vec.fit_transform(new_X_train)\n",
    "    train_end = timeit.default_timer()\n",
    "    y_pred = model.predict(X_train_vec)\n",
    "    print(f\"Training time elapsed: {train_end - train_start:.2f} s\")\n",
    "    train_acc = accuracy_score(y_train, y_pred)\n",
    "    print(f\"Training accuracy: {train_acc:.4f}\")\n",
    "\n",
    "    with open(save_path, 'wb') as f:\n",
    "        pickle.dump((model, vec), f)\n",
    "    \n",
    "    return model, vec"
   ]
  },
  {
   "cell_type": "code",
   "execution_count": 7,
   "id": "9f52c71f",
   "metadata": {},
   "outputs": [],
   "source": [
    "def test_auto_context(model, X_test, y_test, id_test, num_iterations, L, load_path):\n",
    "    with open(load_path, 'rb') as f:\n",
    "        model, vec = pickle.load(f)\n",
    "    \n",
    "    X_vec = vec.transform(X_test)\n",
    "\n",
    "    start_test = timeit.default_timer()\n",
    "    for step in range(num_iterations):\n",
    "        probs = model.predict_proba(X_vec)\n",
    "        num_classes = len(probs[0])\n",
    "\n",
    "        new_X_test = []\n",
    "        for i in range(len(X_test)):\n",
    "            feat = dict(X_test[i])\n",
    "            for offset in range(-(L // 2), L // 2 + 1):\n",
    "                if offset == 0:\n",
    "                    continue\n",
    "                pos = i + offset\n",
    "                if 0 <= pos < len(probs):\n",
    "                    for k in range(num_classes):\n",
    "                        feat[f\"context_{offset:+}_{k}\"] = probs[pos][k]\n",
    "            new_X_test.append(feat)\n",
    "        X_test_vec = vec.transform(new_X_test)\n",
    "    end_test = timeit.default_timer()\n",
    "\n",
    "    y_pred = model.predict(X_test_vec)\n",
    "    print(f\"Testing time elapsed: {end_test - start_test:.2f} s\")\n",
    "    test_acc = accuracy_score(y_test, model.predict(X_test_vec))\n",
    "    print(f\"Testing accuracy: {test_acc:.4f}\")\n",
    "\n",
    "    # Full word accuracy\n",
    "    start_pred = timeit.default_timer()\n",
    "    word_truth, word_pred = {}, {}\n",
    "    for pred, true, (wid, pos) in zip(y_pred, y_test, id_test):\n",
    "        word_truth.setdefault(wid, {})[pos] = true\n",
    "        word_pred.setdefault(wid, {})[pos] = pred\n",
    "    \n",
    "    correct_words = sum(pw == tw for pw, tw in zip(word_pred.values(), word_truth.values()))\n",
    "    total_words = len(word_truth)\n",
    "    word_acc = correct_words / total_words if total_words > 0 else 0.0\n",
    "    end_pred = timeit.default_timer()\n",
    "    print(f\"Word accuracy: {word_acc:.4f} ({correct_words}/{total_words})\")\n",
    "    return y_pred"
   ]
  },
  {
   "cell_type": "code",
   "execution_count": 8,
   "id": "cf683428",
   "metadata": {},
   "outputs": [],
   "source": [
    "def showFeatures(features, true_labels, predicted_labels, num=20):\n",
    "    plt.figure(figsize=(num, 4))\n",
    "\n",
    "    for i in range(num):\n",
    "        npfeature = np.array(features[i])\n",
    "        image = npfeature.reshape(16, 8)\n",
    "\n",
    "        true_char = i2l(true_labels[i])\n",
    "        pred_char = i2l(predicted_labels[i])\n",
    "\n",
    "        plt.subplot(1, num, i + 1)\n",
    "        plt.imshow(image, cmap='gray')\n",
    "        plt.title(f\"T:{true_char}\\nP:{pred_char}\", fontsize=8)\n",
    "        plt.axis('off')\n",
    "\n",
    "    plt.suptitle(\"Character Predictions — T: Truth, P: Predicted\", fontsize=12)\n",
    "    plt.tight_layout()\n",
    "    plt.show()"
   ]
  },
  {
   "cell_type": "code",
   "execution_count": 9,
   "id": "538f5c96",
   "metadata": {},
   "outputs": [],
   "source": [
    "dataset = read_OCR('OCRdataset/letter.data', d)"
   ]
  },
  {
   "cell_type": "code",
   "execution_count": 10,
   "id": "acb72c0d",
   "metadata": {},
   "outputs": [],
   "source": [
    "wordid_to_indices = defaultdict(list)\n",
    "for idx, wid in enumerate(dataset['word_ids']):\n",
    "    wordid_to_indices[wid].append(idx)"
   ]
  },
  {
   "cell_type": "markdown",
   "id": "b5d9290d",
   "metadata": {},
   "source": [
    "# N_ITERATIONS = 3"
   ]
  },
  {
   "cell_type": "code",
   "execution_count": 11,
   "id": "e011ee22",
   "metadata": {},
   "outputs": [],
   "source": [
    "n_iter = 3"
   ]
  },
  {
   "cell_type": "markdown",
   "id": "99cc9786",
   "metadata": {},
   "source": [
    "## L = 1"
   ]
  },
  {
   "cell_type": "code",
   "execution_count": 12,
   "id": "5efaf3f2",
   "metadata": {},
   "outputs": [],
   "source": [
    "L = 1"
   ]
  },
  {
   "cell_type": "markdown",
   "id": "d01b0bbb",
   "metadata": {},
   "source": [
    "### 4000/1000"
   ]
  },
  {
   "cell_type": "code",
   "execution_count": 13,
   "id": "3144f6ae",
   "metadata": {},
   "outputs": [],
   "source": [
    "features, labels, word_pos_info = format(dataset, N, L)\n",
    "TRAIN = 0.8\n",
    "model_path = 'ac3_1_82.obj'"
   ]
  },
  {
   "cell_type": "code",
   "execution_count": 14,
   "id": "2ca3f39c",
   "metadata": {},
   "outputs": [],
   "source": [
    "X_train, X_test = features[:int(N * TRAIN)], features[int(N * TRAIN):]\n",
    "y_train, y_test = labels[:int(N * TRAIN)], labels[int(N * TRAIN):]\n",
    "id_train, id_test = word_pos_info[:int(N * TRAIN)], word_pos_info[int(N * TRAIN):]"
   ]
  },
  {
   "cell_type": "code",
   "execution_count": 15,
   "id": "85e6a12e",
   "metadata": {},
   "outputs": [
    {
     "name": "stdout",
     "output_type": "stream",
     "text": [
      "Training time elapsed: 1.33 s\n",
      "Training accuracy: 0.8565\n"
     ]
    }
   ],
   "source": [
    "lr = LogisticRegression(max_iter=200)\n",
    "\n",
    "model, vec = train_auto_context(lr, X_train, y_train, n_iter, L, model_path)"
   ]
  },
  {
   "cell_type": "code",
   "execution_count": 16,
   "id": "ff2fa478",
   "metadata": {},
   "outputs": [
    {
     "name": "stdout",
     "output_type": "stream",
     "text": [
      "Testing time elapsed: 0.11 s\n",
      "Testing accuracy: 0.7370\n",
      "Word accuracy: 0.7240 (674/931)\n"
     ]
    },
    {
     "data": {
      "image/png": "[encoded data removed]",
      "text/plain": [
       "<Figure size 2000x400 with 20 Axes>"
      ]
     },
     "metadata": {},
     "output_type": "display_data"
    }
   ],
   "source": [
    "y_pred = test_auto_context(model, X_test, y_test, id_test, n_iter, L, model_path)\n",
    "\n",
    "features_flat = []\n",
    "true_flat = []\n",
    "pred_flat = []\n",
    "\n",
    "for (wid, pos), true_label, pred_label in zip(id_test, y_test, y_pred):\n",
    "    idx = wordid_to_indices[wid][pos]\n",
    "    features_flat.append(dataset['features'][idx])\n",
    "    true_flat.append(true_label)\n",
    "    pred_flat.append(pred_label)\n",
    "\n",
    "showFeatures(features_flat, true_flat, pred_flat, num=20)"
   ]
  },
  {
   "cell_type": "markdown",
   "id": "1cb03482",
   "metadata": {},
   "source": [
    "### 2500/2500"
   ]
  },
  {
   "cell_type": "code",
   "execution_count": 17,
   "id": "727ea30d",
   "metadata": {},
   "outputs": [],
   "source": [
    "features, labels, word_pos_info = format(dataset, N, L)\n",
    "TRAIN = 0.5\n",
    "model_path = 'ac3_1_55.obj'"
   ]
  },
  {
   "cell_type": "code",
   "execution_count": 18,
   "id": "78e7af0f",
   "metadata": {},
   "outputs": [],
   "source": [
    "X_train, X_test = features[:int(N * TRAIN)], features[int(N * TRAIN):]\n",
    "y_train, y_test = labels[:int(N * TRAIN)], labels[int(N * TRAIN):]\n",
    "id_train, id_test = word_pos_info[:int(N * TRAIN)], word_pos_info[int(N * TRAIN):]"
   ]
  },
  {
   "cell_type": "code",
   "execution_count": 19,
   "id": "4e24834a",
   "metadata": {},
   "outputs": [
    {
     "name": "stdout",
     "output_type": "stream",
     "text": [
      "Training time elapsed: 0.67 s\n",
      "Training accuracy: 0.9084\n"
     ]
    }
   ],
   "source": [
    "lr = LogisticRegression(max_iter=200)\n",
    "\n",
    "model, vec = train_auto_context(lr, X_train, y_train, n_iter, L, model_path)"
   ]
  },
  {
   "cell_type": "code",
   "execution_count": 20,
   "id": "05730e50",
   "metadata": {},
   "outputs": [
    {
     "name": "stdout",
     "output_type": "stream",
     "text": [
      "Testing time elapsed: 0.27 s\n",
      "Testing accuracy: 0.7220\n",
      "Word accuracy: 0.6897 (1438/2085)\n"
     ]
    },
    {
     "data": {
      "image/png": "[encoded data removed]",
      "text/plain": [
       "<Figure size 2000x400 with 20 Axes>"
      ]
     },
     "metadata": {},
     "output_type": "display_data"
    }
   ],
   "source": [
    "y_pred = test_auto_context(model, X_test, y_test, id_test, n_iter, L, model_path)\n",
    "\n",
    "features_flat = []\n",
    "true_flat = []\n",
    "pred_flat = []\n",
    "\n",
    "for (wid, pos), true_label, pred_label in zip(id_test, y_test, y_pred):\n",
    "    idx = wordid_to_indices[wid][pos]\n",
    "    features_flat.append(dataset['features'][idx])\n",
    "    true_flat.append(true_label)\n",
    "    pred_flat.append(pred_label)\n",
    "\n",
    "showFeatures(features_flat, true_flat, pred_flat, num=20)"
   ]
  },
  {
   "cell_type": "markdown",
   "id": "4f9de772",
   "metadata": {},
   "source": [
    "### 1000/4000"
   ]
  },
  {
   "cell_type": "code",
   "execution_count": 21,
   "id": "895aa6fe",
   "metadata": {},
   "outputs": [],
   "source": [
    "features, labels, word_pos_info = format(dataset, N, L)\n",
    "TRAIN = 0.2\n",
    "model_path = 'ac3_1_28.obj'"
   ]
  },
  {
   "cell_type": "code",
   "execution_count": 22,
   "id": "53e08c25",
   "metadata": {},
   "outputs": [],
   "source": [
    "X_train, X_test = features[:int(N * TRAIN)], features[int(N * TRAIN):]\n",
    "y_train, y_test = labels[:int(N * TRAIN)], labels[int(N * TRAIN):]\n",
    "id_train, id_test = word_pos_info[:int(N * TRAIN)], word_pos_info[int(N * TRAIN):]"
   ]
  },
  {
   "cell_type": "code",
   "execution_count": 23,
   "id": "8771295d",
   "metadata": {},
   "outputs": [
    {
     "name": "stdout",
     "output_type": "stream",
     "text": [
      "Training time elapsed: 0.27 s\n",
      "Training accuracy: 0.9580\n"
     ]
    }
   ],
   "source": [
    "lr = LogisticRegression(max_iter=200)\n",
    "\n",
    "model, vec = train_auto_context(lr, X_train, y_train, n_iter, L, model_path)"
   ]
  },
  {
   "cell_type": "code",
   "execution_count": 24,
   "id": "5bee3949",
   "metadata": {},
   "outputs": [
    {
     "name": "stdout",
     "output_type": "stream",
     "text": [
      "Testing time elapsed: 0.43 s\n",
      "Testing accuracy: 0.6535\n",
      "Word accuracy: 0.5870 (1755/2990)\n"
     ]
    },
    {
     "data": {
      "image/png": "[encoded data removed]",
      "text/plain": [
       "<Figure size 2000x400 with 20 Axes>"
      ]
     },
     "metadata": {},
     "output_type": "display_data"
    }
   ],
   "source": [
    "y_pred = test_auto_context(model, X_test, y_test, id_test, n_iter, L, model_path)\n",
    "\n",
    "features_flat = []\n",
    "true_flat = []\n",
    "pred_flat = []\n",
    "\n",
    "for (wid, pos), true_label, pred_label in zip(id_test, y_test, y_pred):\n",
    "    idx = wordid_to_indices[wid][pos]\n",
    "    features_flat.append(dataset['features'][idx])\n",
    "    true_flat.append(true_label)\n",
    "    pred_flat.append(pred_label)\n",
    "\n",
    "showFeatures(features_flat, true_flat, pred_flat, num=20)"
   ]
  },
  {
   "cell_type": "markdown",
   "id": "8f347a63",
   "metadata": {},
   "source": [
    "## L = 2"
   ]
  },
  {
   "cell_type": "code",
   "execution_count": 25,
   "id": "bcf79f26",
   "metadata": {},
   "outputs": [],
   "source": [
    "L = 2"
   ]
  },
  {
   "cell_type": "markdown",
   "id": "47aba95a",
   "metadata": {},
   "source": [
    "### 4000/1000"
   ]
  },
  {
   "cell_type": "code",
   "execution_count": 26,
   "id": "51d3caf3",
   "metadata": {},
   "outputs": [],
   "source": [
    "features, labels, word_pos_info = format(dataset, N, L)\n",
    "TRAIN = 0.8\n",
    "model_path = 'ac3_2_82.obj'"
   ]
  },
  {
   "cell_type": "code",
   "execution_count": 27,
   "id": "383a1fe2",
   "metadata": {},
   "outputs": [],
   "source": [
    "X_train, X_test = features[:int(N * TRAIN)], features[int(N * TRAIN):]\n",
    "y_train, y_test = labels[:int(N * TRAIN)], labels[int(N * TRAIN):]\n",
    "id_train, id_test = word_pos_info[:int(N * TRAIN)], word_pos_info[int(N * TRAIN):]"
   ]
  },
  {
   "cell_type": "code",
   "execution_count": 28,
   "id": "c2eafba4",
   "metadata": {},
   "outputs": [
    {
     "name": "stdout",
     "output_type": "stream",
     "text": [
      "Training time elapsed: 1.62 s\n",
      "Training accuracy: 0.8928\n"
     ]
    }
   ],
   "source": [
    "lr = LogisticRegression(max_iter=200)\n",
    "\n",
    "model, vec = train_auto_context(lr, X_train, y_train, n_iter, L, model_path)"
   ]
  },
  {
   "cell_type": "code",
   "execution_count": 29,
   "id": "452ccd83",
   "metadata": {},
   "outputs": [
    {
     "name": "stdout",
     "output_type": "stream",
     "text": [
      "Testing time elapsed: 0.20 s\n",
      "Testing accuracy: 0.7110\n",
      "Word accuracy: 0.6944 (643/926)\n"
     ]
    },
    {
     "data": {
      "image/png": "[encoded data removed]",
      "text/plain": [
       "<Figure size 2000x400 with 20 Axes>"
      ]
     },
     "metadata": {},
     "output_type": "display_data"
    }
   ],
   "source": [
    "y_pred = test_auto_context(model, X_test, y_test, id_test, n_iter, L, model_path)\n",
    "\n",
    "features_flat = []\n",
    "true_flat = []\n",
    "pred_flat = []\n",
    "\n",
    "for (wid, pos), true_label, pred_label in zip(id_test, y_test, y_pred):\n",
    "    idx = wordid_to_indices[wid][pos]\n",
    "    features_flat.append(dataset['features'][idx])\n",
    "    true_flat.append(true_label)\n",
    "    pred_flat.append(pred_label)\n",
    "\n",
    "showFeatures(features_flat, true_flat, pred_flat, num=20)"
   ]
  },
  {
   "cell_type": "markdown",
   "id": "ae8f91e0",
   "metadata": {},
   "source": [
    "### 2500/2500"
   ]
  },
  {
   "cell_type": "code",
   "execution_count": 30,
   "id": "06e653a2",
   "metadata": {},
   "outputs": [],
   "source": [
    "features, labels, word_pos_info = format(dataset, N, L)\n",
    "TRAIN = 0.5\n",
    "model_path = 'ac3_2_55.obj'"
   ]
  },
  {
   "cell_type": "code",
   "execution_count": 31,
   "id": "bc5fd883",
   "metadata": {},
   "outputs": [],
   "source": [
    "X_train, X_test = features[:int(N * TRAIN)], features[int(N * TRAIN):]\n",
    "y_train, y_test = labels[:int(N * TRAIN)], labels[int(N * TRAIN):]\n",
    "id_train, id_test = word_pos_info[:int(N * TRAIN)], word_pos_info[int(N * TRAIN):]"
   ]
  },
  {
   "cell_type": "code",
   "execution_count": 32,
   "id": "8b3fcafe",
   "metadata": {},
   "outputs": [
    {
     "name": "stdout",
     "output_type": "stream",
     "text": [
      "Training time elapsed: 0.95 s\n",
      "Training accuracy: 0.9184\n"
     ]
    }
   ],
   "source": [
    "lr = LogisticRegression(max_iter=200)\n",
    "\n",
    "model, vec = train_auto_context(lr, X_train, y_train, n_iter, L, model_path)"
   ]
  },
  {
   "cell_type": "code",
   "execution_count": 33,
   "id": "a3abf899",
   "metadata": {},
   "outputs": [
    {
     "name": "stdout",
     "output_type": "stream",
     "text": [
      "Testing time elapsed: 0.50 s\n",
      "Testing accuracy: 0.6924\n",
      "Word accuracy: 0.6570 (1364/2076)\n"
     ]
    },
    {
     "data": {
      "image/png": "[encoded data removed]",
      "text/plain": [
       "<Figure size 2000x400 with 20 Axes>"
      ]
     },
     "metadata": {},
     "output_type": "display_data"
    }
   ],
   "source": [
    "y_pred = test_auto_context(model, X_test, y_test, id_test, n_iter, L, model_path)\n",
    "\n",
    "features_flat = []\n",
    "true_flat = []\n",
    "pred_flat = []\n",
    "\n",
    "for (wid, pos), true_label, pred_label in zip(id_test, y_test, y_pred):\n",
    "    idx = wordid_to_indices[wid][pos]\n",
    "    features_flat.append(dataset['features'][idx])\n",
    "    true_flat.append(true_label)\n",
    "    pred_flat.append(pred_label)\n",
    "\n",
    "showFeatures(features_flat, true_flat, pred_flat, num=20)"
   ]
  },
  {
   "cell_type": "markdown",
   "id": "11b3bb34",
   "metadata": {},
   "source": [
    "### 1000/4000"
   ]
  },
  {
   "cell_type": "code",
   "execution_count": 34,
   "id": "a62c6857",
   "metadata": {},
   "outputs": [],
   "source": [
    "features, labels, word_pos_info = format(dataset, N, L)\n",
    "TRAIN = 0.2\n",
    "model_path = 'ac3_2_28.obj'"
   ]
  },
  {
   "cell_type": "code",
   "execution_count": 35,
   "id": "bababad6",
   "metadata": {},
   "outputs": [],
   "source": [
    "X_train, X_test = features[:int(N * TRAIN)], features[int(N * TRAIN):]\n",
    "y_train, y_test = labels[:int(N * TRAIN)], labels[int(N * TRAIN):]\n",
    "id_train, id_test = word_pos_info[:int(N * TRAIN)], word_pos_info[int(N * TRAIN):]"
   ]
  },
  {
   "cell_type": "code",
   "execution_count": 36,
   "id": "61c09de6",
   "metadata": {},
   "outputs": [
    {
     "name": "stdout",
     "output_type": "stream",
     "text": [
      "Training time elapsed: 0.39 s\n",
      "Training accuracy: 0.9850\n"
     ]
    }
   ],
   "source": [
    "lr = LogisticRegression(max_iter=200)\n",
    "\n",
    "model, vec = train_auto_context(lr, X_train, y_train, n_iter, L, model_path)"
   ]
  },
  {
   "cell_type": "code",
   "execution_count": 37,
   "id": "00d172b1",
   "metadata": {},
   "outputs": [
    {
     "name": "stdout",
     "output_type": "stream",
     "text": [
      "Testing time elapsed: 0.78 s\n",
      "Testing accuracy: 0.6445\n",
      "Word accuracy: 0.5764 (1743/3024)\n"
     ]
    },
    {
     "data": {
      "image/png": "[encoded data removed]",
      "text/plain": [
       "<Figure size 2000x400 with 20 Axes>"
      ]
     },
     "metadata": {},
     "output_type": "display_data"
    }
   ],
   "source": [
    "y_pred = test_auto_context(model, X_test, y_test, id_test, n_iter, L, model_path)\n",
    "\n",
    "features_flat = []\n",
    "true_flat = []\n",
    "pred_flat = []\n",
    "\n",
    "for (wid, pos), true_label, pred_label in zip(id_test, y_test, y_pred):\n",
    "    idx = wordid_to_indices[wid][pos]\n",
    "    features_flat.append(dataset['features'][idx])\n",
    "    true_flat.append(true_label)\n",
    "    pred_flat.append(pred_label)\n",
    "\n",
    "showFeatures(features_flat, true_flat, pred_flat, num=20)"
   ]
  },
  {
   "cell_type": "markdown",
   "id": "232cda95",
   "metadata": {},
   "source": [
    "## L = 3"
   ]
  },
  {
   "cell_type": "code",
   "execution_count": 38,
   "id": "d28e7574",
   "metadata": {},
   "outputs": [],
   "source": [
    "L = 3"
   ]
  },
  {
   "cell_type": "markdown",
   "id": "f1e2009f",
   "metadata": {},
   "source": [
    "### 4000/1000"
   ]
  },
  {
   "cell_type": "code",
   "execution_count": 39,
   "id": "16d196db",
   "metadata": {},
   "outputs": [],
   "source": [
    "features, labels, word_pos_info = format(dataset, N, L)\n",
    "TRAIN = 0.8\n",
    "model_path = 'ac3_3_82.obj'"
   ]
  },
  {
   "cell_type": "code",
   "execution_count": 40,
   "id": "dab9ef25",
   "metadata": {},
   "outputs": [],
   "source": [
    "X_train, X_test = features[:int(N * TRAIN)], features[int(N * TRAIN):]\n",
    "y_train, y_test = labels[:int(N * TRAIN)], labels[int(N * TRAIN):]\n",
    "id_train, id_test = word_pos_info[:int(N * TRAIN)], word_pos_info[int(N * TRAIN):]"
   ]
  },
  {
   "cell_type": "code",
   "execution_count": 41,
   "id": "291da4ae",
   "metadata": {},
   "outputs": [
    {
     "name": "stdout",
     "output_type": "stream",
     "text": [
      "Training time elapsed: 1.53 s\n",
      "Training accuracy: 0.8872\n"
     ]
    }
   ],
   "source": [
    "lr = LogisticRegression(max_iter=200)\n",
    "\n",
    "model, vec = train_auto_context(lr, X_train, y_train, n_iter, L, model_path)"
   ]
  },
  {
   "cell_type": "code",
   "execution_count": 42,
   "id": "91ca0b3f",
   "metadata": {},
   "outputs": [
    {
     "name": "stdout",
     "output_type": "stream",
     "text": [
      "Testing time elapsed: 0.20 s\n",
      "Testing accuracy: 0.7110\n",
      "Word accuracy: 0.6978 (649/930)\n"
     ]
    },
    {
     "data": {
      "image/png": "[encoded data removed]",
      "text/plain": [
       "<Figure size 2000x400 with 20 Axes>"
      ]
     },
     "metadata": {},
     "output_type": "display_data"
    }
   ],
   "source": [
    "y_pred = test_auto_context(model, X_test, y_test, id_test, n_iter, L, model_path)\n",
    "\n",
    "features_flat = []\n",
    "true_flat = []\n",
    "pred_flat = []\n",
    "\n",
    "for (wid, pos), true_label, pred_label in zip(id_test, y_test, y_pred):\n",
    "    idx = wordid_to_indices[wid][pos]\n",
    "    features_flat.append(dataset['features'][idx])\n",
    "    true_flat.append(true_label)\n",
    "    pred_flat.append(pred_label)\n",
    "\n",
    "showFeatures(features_flat, true_flat, pred_flat, num=20)"
   ]
  },
  {
   "cell_type": "markdown",
   "id": "cc3f6c50",
   "metadata": {},
   "source": [
    "### 2500/2500"
   ]
  },
  {
   "cell_type": "code",
   "execution_count": 43,
   "id": "064806ab",
   "metadata": {},
   "outputs": [],
   "source": [
    "features, labels, word_pos_info = format(dataset, N, L)\n",
    "TRAIN = 0.5\n",
    "model_path = 'ac3_3_55.obj'"
   ]
  },
  {
   "cell_type": "code",
   "execution_count": 44,
   "id": "b64aa5e0",
   "metadata": {},
   "outputs": [],
   "source": [
    "X_train, X_test = features[:int(N * TRAIN)], features[int(N * TRAIN):]\n",
    "y_train, y_test = labels[:int(N * TRAIN)], labels[int(N * TRAIN):]\n",
    "id_train, id_test = word_pos_info[:int(N * TRAIN)], word_pos_info[int(N * TRAIN):]"
   ]
  },
  {
   "cell_type": "code",
   "execution_count": 45,
   "id": "80653389",
   "metadata": {},
   "outputs": [
    {
     "name": "stdout",
     "output_type": "stream",
     "text": [
      "Training time elapsed: 0.97 s\n",
      "Training accuracy: 0.9160\n"
     ]
    }
   ],
   "source": [
    "lr = LogisticRegression(max_iter=200)\n",
    "\n",
    "model, vec = train_auto_context(lr, X_train, y_train, n_iter, L, model_path)"
   ]
  },
  {
   "cell_type": "code",
   "execution_count": 46,
   "id": "34866810",
   "metadata": {},
   "outputs": [
    {
     "name": "stdout",
     "output_type": "stream",
     "text": [
      "Testing time elapsed: 0.49 s\n",
      "Testing accuracy: 0.7048\n",
      "Word accuracy: 0.6695 (1404/2097)\n"
     ]
    },
    {
     "data": {
      "image/png": "[encoded data removed]",
      "text/plain": [
       "<Figure size 2000x400 with 20 Axes>"
      ]
     },
     "metadata": {},
     "output_type": "display_data"
    }
   ],
   "source": [
    "y_pred = test_auto_context(model, X_test, y_test, id_test, n_iter, L, model_path)\n",
    "\n",
    "features_flat = []\n",
    "true_flat = []\n",
    "pred_flat = []\n",
    "\n",
    "for (wid, pos), true_label, pred_label in zip(id_test, y_test, y_pred):\n",
    "    idx = wordid_to_indices[wid][pos]\n",
    "    features_flat.append(dataset['features'][idx])\n",
    "    true_flat.append(true_label)\n",
    "    pred_flat.append(pred_label)\n",
    "\n",
    "showFeatures(features_flat, true_flat, pred_flat, num=20)"
   ]
  },
  {
   "cell_type": "markdown",
   "id": "62f800c1",
   "metadata": {},
   "source": [
    "### 1000/4000"
   ]
  },
  {
   "cell_type": "code",
   "execution_count": 47,
   "id": "0a4f8162",
   "metadata": {},
   "outputs": [],
   "source": [
    "features, labels, word_pos_info = format(dataset, N, L)\n",
    "TRAIN = 0.2\n",
    "model_path = 'ac3_3_28.obj'"
   ]
  },
  {
   "cell_type": "code",
   "execution_count": 48,
   "id": "079ac601",
   "metadata": {},
   "outputs": [],
   "source": [
    "X_train, X_test = features[:int(N * TRAIN)], features[int(N * TRAIN):]\n",
    "y_train, y_test = labels[:int(N * TRAIN)], labels[int(N * TRAIN):]\n",
    "id_train, id_test = word_pos_info[:int(N * TRAIN)], word_pos_info[int(N * TRAIN):]"
   ]
  },
  {
   "cell_type": "code",
   "execution_count": 49,
   "id": "b4086b69",
   "metadata": {},
   "outputs": [
    {
     "name": "stdout",
     "output_type": "stream",
     "text": [
      "Training time elapsed: 0.43 s\n",
      "Training accuracy: 0.9780\n"
     ]
    }
   ],
   "source": [
    "lr = LogisticRegression(max_iter=200)\n",
    "\n",
    "model, vec = train_auto_context(lr, X_train, y_train, n_iter, L, model_path)"
   ]
  },
  {
   "cell_type": "code",
   "execution_count": 50,
   "id": "215f7758",
   "metadata": {},
   "outputs": [
    {
     "name": "stdout",
     "output_type": "stream",
     "text": [
      "Testing time elapsed: 0.84 s\n",
      "Testing accuracy: 0.6155\n",
      "Word accuracy: 0.5475 (1655/3023)\n"
     ]
    },
    {
     "data": {
      "image/png": "[encoded data removed]",
      "text/plain": [
       "<Figure size 2000x400 with 20 Axes>"
      ]
     },
     "metadata": {},
     "output_type": "display_data"
    }
   ],
   "source": [
    "y_pred = test_auto_context(model, X_test, y_test, id_test, n_iter, L, model_path)\n",
    "\n",
    "features_flat = []\n",
    "true_flat = []\n",
    "pred_flat = []\n",
    "\n",
    "for (wid, pos), true_label, pred_label in zip(id_test, y_test, y_pred):\n",
    "    idx = wordid_to_indices[wid][pos]\n",
    "    features_flat.append(dataset['features'][idx])\n",
    "    true_flat.append(true_label)\n",
    "    pred_flat.append(pred_label)\n",
    "\n",
    "showFeatures(features_flat, true_flat, pred_flat, num=20)"
   ]
  },
  {
   "cell_type": "markdown",
   "id": "687635b9",
   "metadata": {},
   "source": [
    "# N_ITERATIONS = 5"
   ]
  },
  {
   "cell_type": "code",
   "execution_count": null,
   "id": "e51d40ec",
   "metadata": {},
   "outputs": [],
   "source": [
    "n_iter = 5"
   ]
  },
  {
   "cell_type": "markdown",
   "id": "0fabafbb",
   "metadata": {},
   "source": [
    "## L = 1"
   ]
  },
  {
   "cell_type": "code",
   "execution_count": 52,
   "id": "d5e4e6e6",
   "metadata": {},
   "outputs": [],
   "source": [
    "L = 1"
   ]
  },
  {
   "cell_type": "markdown",
   "id": "8128dcc3",
   "metadata": {},
   "source": [
    "### 4000/1000"
   ]
  },
  {
   "cell_type": "code",
   "execution_count": 53,
   "id": "3843e5ab",
   "metadata": {},
   "outputs": [],
   "source": [
    "features, labels, word_pos_info = format(dataset, N, L)\n",
    "TRAIN = 0.8\n",
    "model_path = 'ac5_1_82.obj'"
   ]
  },
  {
   "cell_type": "code",
   "execution_count": 54,
   "id": "37d53700",
   "metadata": {},
   "outputs": [],
   "source": [
    "X_train, X_test = features[:int(N * TRAIN)], features[int(N * TRAIN):]\n",
    "y_train, y_test = labels[:int(N * TRAIN)], labels[int(N * TRAIN):]\n",
    "id_train, id_test = word_pos_info[:int(N * TRAIN)], word_pos_info[int(N * TRAIN):]"
   ]
  },
  {
   "cell_type": "code",
   "execution_count": 55,
   "id": "7783d616",
   "metadata": {},
   "outputs": [
    {
     "name": "stdout",
     "output_type": "stream",
     "text": [
      "Training time elapsed: 1.84 s\n",
      "Training accuracy: 0.8655\n"
     ]
    }
   ],
   "source": [
    "lr = LogisticRegression(max_iter=200)\n",
    "\n",
    "model, vec = train_auto_context(lr, X_train, y_train, n_iter, L, model_path)"
   ]
  },
  {
   "cell_type": "code",
   "execution_count": 56,
   "id": "3c137dc2",
   "metadata": {},
   "outputs": [
    {
     "name": "stdout",
     "output_type": "stream",
     "text": [
      "Testing time elapsed: 0.29 s\n",
      "Testing accuracy: 0.7170\n",
      "Word accuracy: 0.7015 (651/928)\n"
     ]
    },
    {
     "data": {
      "image/png": "[encoded data removed]",
      "text/plain": [
       "<Figure size 2000x400 with 20 Axes>"
      ]
     },
     "metadata": {},
     "output_type": "display_data"
    }
   ],
   "source": [
    "y_pred = test_auto_context(model, X_test, y_test, id_test, n_iter, L, model_path)\n",
    "\n",
    "features_flat = []\n",
    "true_flat = []\n",
    "pred_flat = []\n",
    "\n",
    "for (wid, pos), true_label, pred_label in zip(id_test, y_test, y_pred):\n",
    "    idx = wordid_to_indices[wid][pos]\n",
    "    features_flat.append(dataset['features'][idx])\n",
    "    true_flat.append(true_label)\n",
    "    pred_flat.append(pred_label)\n",
    "\n",
    "showFeatures(features_flat, true_flat, pred_flat, num=20)"
   ]
  },
  {
   "cell_type": "markdown",
   "id": "9c92e0b2",
   "metadata": {},
   "source": [
    "### 2500/2500"
   ]
  },
  {
   "cell_type": "code",
   "execution_count": 57,
   "id": "cf2a18d5",
   "metadata": {},
   "outputs": [],
   "source": [
    "features, labels, word_pos_info = format(dataset, N, L)\n",
    "TRAIN = 0.5\n",
    "model_path = 'ac5_1_55.obj'"
   ]
  },
  {
   "cell_type": "code",
   "execution_count": 58,
   "id": "9d361a5e",
   "metadata": {},
   "outputs": [],
   "source": [
    "X_train, X_test = features[:int(N * TRAIN)], features[int(N * TRAIN):]\n",
    "y_train, y_test = labels[:int(N * TRAIN)], labels[int(N * TRAIN):]\n",
    "id_train, id_test = word_pos_info[:int(N * TRAIN)], word_pos_info[int(N * TRAIN):]"
   ]
  },
  {
   "cell_type": "code",
   "execution_count": 59,
   "id": "db372804",
   "metadata": {},
   "outputs": [
    {
     "name": "stdout",
     "output_type": "stream",
     "text": [
      "Training time elapsed: 1.15 s\n",
      "Training accuracy: 0.8868\n"
     ]
    }
   ],
   "source": [
    "lr = LogisticRegression(max_iter=200)\n",
    "\n",
    "model, vec = train_auto_context(lr, X_train, y_train, n_iter, L, model_path)"
   ]
  },
  {
   "cell_type": "code",
   "execution_count": 60,
   "id": "d1795043",
   "metadata": {},
   "outputs": [
    {
     "name": "stdout",
     "output_type": "stream",
     "text": [
      "Testing time elapsed: 0.45 s\n",
      "Testing accuracy: 0.6992\n",
      "Word accuracy: 0.6599 (1356/2055)\n"
     ]
    },
    {
     "data": {
      "image/png": "[encoded data removed]",
      "text/plain": [
       "<Figure size 2000x400 with 20 Axes>"
      ]
     },
     "metadata": {},
     "output_type": "display_data"
    }
   ],
   "source": [
    "y_pred = test_auto_context(model, X_test, y_test, id_test, n_iter, L, model_path)\n",
    "\n",
    "features_flat = []\n",
    "true_flat = []\n",
    "pred_flat = []\n",
    "\n",
    "for (wid, pos), true_label, pred_label in zip(id_test, y_test, y_pred):\n",
    "    idx = wordid_to_indices[wid][pos]\n",
    "    features_flat.append(dataset['features'][idx])\n",
    "    true_flat.append(true_label)\n",
    "    pred_flat.append(pred_label)\n",
    "\n",
    "showFeatures(features_flat, true_flat, pred_flat, num=20)"
   ]
  },
  {
   "cell_type": "markdown",
   "id": "c32f3b82",
   "metadata": {},
   "source": [
    "### 1000/4000"
   ]
  },
  {
   "cell_type": "code",
   "execution_count": 61,
   "id": "bf292a47",
   "metadata": {},
   "outputs": [],
   "source": [
    "features, labels, word_pos_info = format(dataset, N, L)\n",
    "TRAIN = 0.2\n",
    "model_path = 'ac5_1_28.obj'"
   ]
  },
  {
   "cell_type": "code",
   "execution_count": 62,
   "id": "90bee9f1",
   "metadata": {},
   "outputs": [],
   "source": [
    "X_train, X_test = features[:int(N * TRAIN)], features[int(N * TRAIN):]\n",
    "y_train, y_test = labels[:int(N * TRAIN)], labels[int(N * TRAIN):]\n",
    "id_train, id_test = word_pos_info[:int(N * TRAIN)], word_pos_info[int(N * TRAIN):]"
   ]
  },
  {
   "cell_type": "code",
   "execution_count": 63,
   "id": "0c0f9eae",
   "metadata": {},
   "outputs": [
    {
     "name": "stdout",
     "output_type": "stream",
     "text": [
      "Training time elapsed: 0.46 s\n",
      "Training accuracy: 0.9710\n"
     ]
    }
   ],
   "source": [
    "lr = LogisticRegression(max_iter=200)\n",
    "\n",
    "model, vec = train_auto_context(lr, X_train, y_train, n_iter, L, model_path)"
   ]
  },
  {
   "cell_type": "code",
   "execution_count": 64,
   "id": "7c66e4a6",
   "metadata": {},
   "outputs": [
    {
     "name": "stdout",
     "output_type": "stream",
     "text": [
      "Testing time elapsed: 0.72 s\n",
      "Testing accuracy: 0.6605\n",
      "Word accuracy: 0.5996 (1827/3047)\n"
     ]
    },
    {
     "data": {
      "image/png": "[encoded data removed]",
      "text/plain": [
       "<Figure size 2000x400 with 20 Axes>"
      ]
     },
     "metadata": {},
     "output_type": "display_data"
    }
   ],
   "source": [
    "y_pred = test_auto_context(model, X_test, y_test, id_test, n_iter, L, model_path)\n",
    "\n",
    "features_flat = []\n",
    "true_flat = []\n",
    "pred_flat = []\n",
    "\n",
    "for (wid, pos), true_label, pred_label in zip(id_test, y_test, y_pred):\n",
    "    idx = wordid_to_indices[wid][pos]\n",
    "    features_flat.append(dataset['features'][idx])\n",
    "    true_flat.append(true_label)\n",
    "    pred_flat.append(pred_label)\n",
    "\n",
    "showFeatures(features_flat, true_flat, pred_flat, num=20)"
   ]
  },
  {
   "cell_type": "markdown",
   "id": "a21c66ad",
   "metadata": {},
   "source": [
    "## L = 2"
   ]
  },
  {
   "cell_type": "code",
   "execution_count": 65,
   "id": "01d8ed8b",
   "metadata": {},
   "outputs": [],
   "source": [
    "L = 2"
   ]
  },
  {
   "cell_type": "markdown",
   "id": "d5102bda",
   "metadata": {},
   "source": [
    "### 4000/1000"
   ]
  },
  {
   "cell_type": "code",
   "execution_count": 66,
   "id": "885efdec",
   "metadata": {},
   "outputs": [],
   "source": [
    "features, labels, word_pos_info = format(dataset, N, L)\n",
    "TRAIN = 0.8\n",
    "model_path = 'ac5_2_82.obj'"
   ]
  },
  {
   "cell_type": "code",
   "execution_count": 67,
   "id": "f2517f68",
   "metadata": {},
   "outputs": [],
   "source": [
    "X_train, X_test = features[:int(N * TRAIN)], features[int(N * TRAIN):]\n",
    "y_train, y_test = labels[:int(N * TRAIN)], labels[int(N * TRAIN):]\n",
    "id_train, id_test = word_pos_info[:int(N * TRAIN)], word_pos_info[int(N * TRAIN):]"
   ]
  },
  {
   "cell_type": "code",
   "execution_count": 68,
   "id": "f98f0ec5",
   "metadata": {},
   "outputs": [
    {
     "name": "stdout",
     "output_type": "stream",
     "text": [
      "Training time elapsed: 2.77 s\n",
      "Training accuracy: 0.8740\n"
     ]
    }
   ],
   "source": [
    "lr = LogisticRegression(max_iter=200)\n",
    "\n",
    "model, vec = train_auto_context(lr, X_train, y_train, n_iter, L, model_path)"
   ]
  },
  {
   "cell_type": "code",
   "execution_count": 69,
   "id": "6910ed87",
   "metadata": {},
   "outputs": [
    {
     "name": "stdout",
     "output_type": "stream",
     "text": [
      "Testing time elapsed: 0.33 s\n",
      "Testing accuracy: 0.7340\n",
      "Word accuracy: 0.7191 (668/929)\n"
     ]
    },
    {
     "data": {
      "image/png": "[encoded data removed]",
      "text/plain": [
       "<Figure size 2000x400 with 20 Axes>"
      ]
     },
     "metadata": {},
     "output_type": "display_data"
    }
   ],
   "source": [
    "y_pred = test_auto_context(model, X_test, y_test, id_test, n_iter, L, model_path)\n",
    "\n",
    "features_flat = []\n",
    "true_flat = []\n",
    "pred_flat = []\n",
    "\n",
    "for (wid, pos), true_label, pred_label in zip(id_test, y_test, y_pred):\n",
    "    idx = wordid_to_indices[wid][pos]\n",
    "    features_flat.append(dataset['features'][idx])\n",
    "    true_flat.append(true_label)\n",
    "    pred_flat.append(pred_label)\n",
    "\n",
    "showFeatures(features_flat, true_flat, pred_flat, num=20)"
   ]
  },
  {
   "cell_type": "markdown",
   "id": "b911afbd",
   "metadata": {},
   "source": [
    "### 2500/2500"
   ]
  },
  {
   "cell_type": "code",
   "execution_count": 70,
   "id": "2784c560",
   "metadata": {},
   "outputs": [],
   "source": [
    "features, labels, word_pos_info = format(dataset, N, L)\n",
    "TRAIN = 0.5\n",
    "model_path = 'ac5_2_55.obj'"
   ]
  },
  {
   "cell_type": "code",
   "execution_count": 71,
   "id": "45a558c6",
   "metadata": {},
   "outputs": [],
   "source": [
    "X_train, X_test = features[:int(N * TRAIN)], features[int(N * TRAIN):]\n",
    "y_train, y_test = labels[:int(N * TRAIN)], labels[int(N * TRAIN):]\n",
    "id_train, id_test = word_pos_info[:int(N * TRAIN)], word_pos_info[int(N * TRAIN):]"
   ]
  },
  {
   "cell_type": "code",
   "execution_count": 72,
   "id": "5ccad4a8",
   "metadata": {},
   "outputs": [
    {
     "name": "stdout",
     "output_type": "stream",
     "text": [
      "Training time elapsed: 1.74 s\n",
      "Training accuracy: 0.9416\n"
     ]
    }
   ],
   "source": [
    "lr = LogisticRegression(max_iter=200)\n",
    "\n",
    "model, vec = train_auto_context(lr, X_train, y_train, n_iter, L, model_path)"
   ]
  },
  {
   "cell_type": "code",
   "execution_count": 73,
   "id": "5476c97f",
   "metadata": {},
   "outputs": [
    {
     "name": "stdout",
     "output_type": "stream",
     "text": [
      "Testing time elapsed: 0.85 s\n",
      "Testing accuracy: 0.6952\n",
      "Word accuracy: 0.6603 (1390/2105)\n"
     ]
    },
    {
     "data": {
      "image/png": "[encoded data removed]",
      "text/plain": [
       "<Figure size 2000x400 with 20 Axes>"
      ]
     },
     "metadata": {},
     "output_type": "display_data"
    }
   ],
   "source": [
    "y_pred = test_auto_context(model, X_test, y_test, id_test, n_iter, L, model_path)\n",
    "\n",
    "features_flat = []\n",
    "true_flat = []\n",
    "pred_flat = []\n",
    "\n",
    "for (wid, pos), true_label, pred_label in zip(id_test, y_test, y_pred):\n",
    "    idx = wordid_to_indices[wid][pos]\n",
    "    features_flat.append(dataset['features'][idx])\n",
    "    true_flat.append(true_label)\n",
    "    pred_flat.append(pred_label)\n",
    "\n",
    "showFeatures(features_flat, true_flat, pred_flat, num=20)"
   ]
  },
  {
   "cell_type": "markdown",
   "id": "9ca0e868",
   "metadata": {},
   "source": [
    "### 1000/4000"
   ]
  },
  {
   "cell_type": "code",
   "execution_count": 74,
   "id": "be8aab62",
   "metadata": {},
   "outputs": [],
   "source": [
    "features, labels, word_pos_info = format(dataset, N, L)\n",
    "TRAIN = 0.2\n",
    "model_path = 'ac5_2_28.obj'"
   ]
  },
  {
   "cell_type": "code",
   "execution_count": 75,
   "id": "4afd45eb",
   "metadata": {},
   "outputs": [],
   "source": [
    "X_train, X_test = features[:int(N * TRAIN)], features[int(N * TRAIN):]\n",
    "y_train, y_test = labels[:int(N * TRAIN)], labels[int(N * TRAIN):]\n",
    "id_train, id_test = word_pos_info[:int(N * TRAIN)], word_pos_info[int(N * TRAIN):]"
   ]
  },
  {
   "cell_type": "code",
   "execution_count": 76,
   "id": "9752c3a0",
   "metadata": {},
   "outputs": [
    {
     "name": "stdout",
     "output_type": "stream",
     "text": [
      "Training time elapsed: 0.68 s\n",
      "Training accuracy: 0.9800\n"
     ]
    }
   ],
   "source": [
    "lr = LogisticRegression(max_iter=200)\n",
    "\n",
    "model, vec = train_auto_context(lr, X_train, y_train, n_iter, L, model_path)"
   ]
  },
  {
   "cell_type": "code",
   "execution_count": 77,
   "id": "c765b1b5",
   "metadata": {},
   "outputs": [
    {
     "name": "stdout",
     "output_type": "stream",
     "text": [
      "Testing time elapsed: 1.54 s\n",
      "Testing accuracy: 0.6352\n",
      "Word accuracy: 0.5675 (1719/3029)\n"
     ]
    },
    {
     "data": {
      "image/png": "[encoded data removed]",
      "text/plain": [
       "<Figure size 2000x400 with 20 Axes>"
      ]
     },
     "metadata": {},
     "output_type": "display_data"
    }
   ],
   "source": [
    "y_pred = test_auto_context(model, X_test, y_test, id_test, n_iter, L, model_path)\n",
    "\n",
    "features_flat = []\n",
    "true_flat = []\n",
    "pred_flat = []\n",
    "\n",
    "for (wid, pos), true_label, pred_label in zip(id_test, y_test, y_pred):\n",
    "    idx = wordid_to_indices[wid][pos]\n",
    "    features_flat.append(dataset['features'][idx])\n",
    "    true_flat.append(true_label)\n",
    "    pred_flat.append(pred_label)\n",
    "\n",
    "showFeatures(features_flat, true_flat, pred_flat, num=20)"
   ]
  },
  {
   "cell_type": "markdown",
   "id": "0bfd0b7c",
   "metadata": {},
   "source": [
    "## L = 3"
   ]
  },
  {
   "cell_type": "code",
   "execution_count": 78,
   "id": "96dae3f4",
   "metadata": {},
   "outputs": [],
   "source": [
    "L = 3"
   ]
  },
  {
   "cell_type": "markdown",
   "id": "fe752a74",
   "metadata": {},
   "source": [
    "### 4000/1000"
   ]
  },
  {
   "cell_type": "code",
   "execution_count": 79,
   "id": "2ca605e2",
   "metadata": {},
   "outputs": [],
   "source": [
    "features, labels, word_pos_info = format(dataset, N, L)\n",
    "TRAIN = 0.8\n",
    "model_path = 'ac5_3_82.obj'"
   ]
  },
  {
   "cell_type": "code",
   "execution_count": 80,
   "id": "f79fd163",
   "metadata": {},
   "outputs": [],
   "source": [
    "X_train, X_test = features[:int(N * TRAIN)], features[int(N * TRAIN):]\n",
    "y_train, y_test = labels[:int(N * TRAIN)], labels[int(N * TRAIN):]\n",
    "id_train, id_test = word_pos_info[:int(N * TRAIN)], word_pos_info[int(N * TRAIN):]"
   ]
  },
  {
   "cell_type": "code",
   "execution_count": 81,
   "id": "8cb7ded3",
   "metadata": {},
   "outputs": [
    {
     "name": "stdout",
     "output_type": "stream",
     "text": [
      "Training time elapsed: 2.70 s\n",
      "Training accuracy: 0.8868\n"
     ]
    }
   ],
   "source": [
    "lr = LogisticRegression(max_iter=200)\n",
    "\n",
    "model, vec = train_auto_context(lr, X_train, y_train, n_iter, L, model_path)"
   ]
  },
  {
   "cell_type": "code",
   "execution_count": 82,
   "id": "5e5ed0de",
   "metadata": {},
   "outputs": [
    {
     "name": "stdout",
     "output_type": "stream",
     "text": [
      "Testing time elapsed: 0.33 s\n",
      "Testing accuracy: 0.7060\n",
      "Word accuracy: 0.6913 (636/920)\n"
     ]
    },
    {
     "data": {
      "image/png": "[encoded data removed]",
      "text/plain": [
       "<Figure size 2000x400 with 20 Axes>"
      ]
     },
     "metadata": {},
     "output_type": "display_data"
    }
   ],
   "source": [
    "y_pred = test_auto_context(model, X_test, y_test, id_test, n_iter, L, model_path)\n",
    "\n",
    "features_flat = []\n",
    "true_flat = []\n",
    "pred_flat = []\n",
    "\n",
    "for (wid, pos), true_label, pred_label in zip(id_test, y_test, y_pred):\n",
    "    idx = wordid_to_indices[wid][pos]\n",
    "    features_flat.append(dataset['features'][idx])\n",
    "    true_flat.append(true_label)\n",
    "    pred_flat.append(pred_label)\n",
    "\n",
    "showFeatures(features_flat, true_flat, pred_flat, num=20)"
   ]
  },
  {
   "cell_type": "markdown",
   "id": "f59314ee",
   "metadata": {},
   "source": [
    "### 2500/2500"
   ]
  },
  {
   "cell_type": "code",
   "execution_count": 83,
   "id": "9f1646fa",
   "metadata": {},
   "outputs": [],
   "source": [
    "features, labels, word_pos_info = format(dataset, N, L)\n",
    "TRAIN = 0.5\n",
    "model_path = 'ac5_3_55.obj'"
   ]
  },
  {
   "cell_type": "code",
   "execution_count": 84,
   "id": "ee0e1aee",
   "metadata": {},
   "outputs": [],
   "source": [
    "X_train, X_test = features[:int(N * TRAIN)], features[int(N * TRAIN):]\n",
    "y_train, y_test = labels[:int(N * TRAIN)], labels[int(N * TRAIN):]\n",
    "id_train, id_test = word_pos_info[:int(N * TRAIN)], word_pos_info[int(N * TRAIN):]"
   ]
  },
  {
   "cell_type": "code",
   "execution_count": 85,
   "id": "dc166699",
   "metadata": {},
   "outputs": [
    {
     "name": "stdout",
     "output_type": "stream",
     "text": [
      "Training time elapsed: 1.66 s\n",
      "Training accuracy: 0.9304\n"
     ]
    }
   ],
   "source": [
    "lr = LogisticRegression(max_iter=200)\n",
    "\n",
    "model, vec = train_auto_context(lr, X_train, y_train, n_iter, L, model_path)"
   ]
  },
  {
   "cell_type": "code",
   "execution_count": 86,
   "id": "3bbe3ee5",
   "metadata": {},
   "outputs": [
    {
     "name": "stdout",
     "output_type": "stream",
     "text": [
      "Testing time elapsed: 0.83 s\n",
      "Testing accuracy: 0.6840\n",
      "Word accuracy: 0.6432 (1325/2060)\n"
     ]
    },
    {
     "data": {
      "image/png": "[encoded data removed]",
      "text/plain": [
       "<Figure size 2000x400 with 20 Axes>"
      ]
     },
     "metadata": {},
     "output_type": "display_data"
    }
   ],
   "source": [
    "y_pred = test_auto_context(model, X_test, y_test, id_test, n_iter, L, model_path)\n",
    "\n",
    "features_flat = []\n",
    "true_flat = []\n",
    "pred_flat = []\n",
    "\n",
    "for (wid, pos), true_label, pred_label in zip(id_test, y_test, y_pred):\n",
    "    idx = wordid_to_indices[wid][pos]\n",
    "    features_flat.append(dataset['features'][idx])\n",
    "    true_flat.append(true_label)\n",
    "    pred_flat.append(pred_label)\n",
    "\n",
    "showFeatures(features_flat, true_flat, pred_flat, num=20)"
   ]
  },
  {
   "cell_type": "markdown",
   "id": "be56a9ca",
   "metadata": {},
   "source": [
    "### 1000/4000"
   ]
  },
  {
   "cell_type": "code",
   "execution_count": 87,
   "id": "43e729d6",
   "metadata": {},
   "outputs": [],
   "source": [
    "features, labels, word_pos_info = format(dataset, N, L)\n",
    "TRAIN = 0.2\n",
    "model_path = 'ac5_3_28.obj'"
   ]
  },
  {
   "cell_type": "code",
   "execution_count": 88,
   "id": "c46cbe47",
   "metadata": {},
   "outputs": [],
   "source": [
    "X_train, X_test = features[:int(N * TRAIN)], features[int(N * TRAIN):]\n",
    "y_train, y_test = labels[:int(N * TRAIN)], labels[int(N * TRAIN):]\n",
    "id_train, id_test = word_pos_info[:int(N * TRAIN)], word_pos_info[int(N * TRAIN):]"
   ]
  },
  {
   "cell_type": "code",
   "execution_count": 89,
   "id": "0c150b6a",
   "metadata": {},
   "outputs": [
    {
     "name": "stdout",
     "output_type": "stream",
     "text": [
      "Training time elapsed: 0.66 s\n",
      "Training accuracy: 0.9770\n"
     ]
    }
   ],
   "source": [
    "lr = LogisticRegression(max_iter=200)\n",
    "\n",
    "model, vec = train_auto_context(lr, X_train, y_train, n_iter, L, model_path)"
   ]
  },
  {
   "cell_type": "code",
   "execution_count": 90,
   "id": "70f4b74a",
   "metadata": {},
   "outputs": [
    {
     "name": "stdout",
     "output_type": "stream",
     "text": [
      "Testing time elapsed: 1.44 s\n",
      "Testing accuracy: 0.6240\n",
      "Word accuracy: 0.5545 (1675/3021)\n"
     ]
    },
    {
     "data": {
      "image/png": "[encoded data removed]",
      "text/plain": [
       "<Figure size 2000x400 with 20 Axes>"
      ]
     },
     "metadata": {},
     "output_type": "display_data"
    }
   ],
   "source": [
    "y_pred = test_auto_context(model, X_test, y_test, id_test, n_iter, L, model_path)\n",
    "\n",
    "features_flat = []\n",
    "true_flat = []\n",
    "pred_flat = []\n",
    "\n",
    "for (wid, pos), true_label, pred_label in zip(id_test, y_test, y_pred):\n",
    "    idx = wordid_to_indices[wid][pos]\n",
    "    features_flat.append(dataset['features'][idx])\n",
    "    true_flat.append(true_label)\n",
    "    pred_flat.append(pred_label)\n",
    "\n",
    "showFeatures(features_flat, true_flat, pred_flat, num=20)"
   ]
  },
  {
   "cell_type": "code",
   "execution_count": null,
   "id": "9ce51ce2",
   "metadata": {},
   "outputs": [],
   "source": []
  }
 ],
 "metadata": {
  "kernelspec": {
   "display_name": "venv",
   "language": "python",
   "name": "python3"
  },
  "language_info": {
   "codemirror_mode": {
    "name": "ipython",
    "version": 3
   },
   "file_extension": ".py",
   "mimetype": "text/x-python",
   "name": "python",
   "nbconvert_exporter": "python",
   "pygments_lexer": "ipython3",
   "version": "3.11.9"
  }
 },
 "nbformat": 4,
 "nbformat_minor": 5
}
